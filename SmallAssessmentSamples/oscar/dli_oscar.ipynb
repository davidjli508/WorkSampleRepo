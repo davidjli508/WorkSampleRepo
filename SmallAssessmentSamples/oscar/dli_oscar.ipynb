{
 "cells": [
  {
   "cell_type": "markdown",
   "metadata": {},
   "source": [
    "# Oscar Take-Home Case Study\n",
    "----------------------------------------\n",
    "Submission by: David Li  \n",
    "Contact: davidjli508@gmail.com / (248)918-8782"
   ]
  },
  {
   "cell_type": "markdown",
   "metadata": {},
   "source": [
    "-------------------------------------------------------------------------------------"
   ]
  },
  {
   "cell_type": "markdown",
   "metadata": {},
   "source": [
    "### Opening Thoughts on the Use Case / Task:\n",
    "\n",
    "The task is to analyze the Member-Diagnosis-Drug Datasets and build a meaningful model to predict patient health statuses from prescription drug data.  \n",
    "\n",
    "As part of strategizing and brainstorming when approaching any new tasks, its a important step to review the business requirements, success criteria, and anticipated challenges - identified by either the stakeholder/Data Scientist. \n",
    "This will overall lead to a more organized strategy when handling the task and identifying any potential technical/data/project risks as far in advance as possible!\n",
    "\n",
    "#### Business/Task Requirements:\n",
    "- Classifcation Model Type (based on requiring categories/labels of outcomes)\n",
    "- Column of Interest: TBD (some variety of patient health statuses, but to be defined as part of the task)\n",
    "- Predictive Features: Drugs administered\n",
    "\n",
    "#### Success Criteria:\n",
    "- Built a Classifcation Model using the Member-Diagnosis-Drug Datasets referenced.\n",
    "- Due to time constraints, accuracy is not the highest priority - but still best to do sanity checks and quick reviews. Especially with Data the company/individual/stakeholders are not necessarily familar with.\n",
    "- Write Organized Code with Helpful Documentation\n",
    "- Document Helpful Ideas and Thoughts along the process.\n",
    "\n",
    "#### Anticipated Challenges:\n",
    "- This is data we are not fully familiar with the collection and engineering process. So we should especially be on lookout for missing or low-quality data.\n",
    "- The domain knowledge of the data is somewhat niche, so it is important we take time and steps to thoroughly understand the medical-specific terminology and nomenclature. We will be sure to discuss investigative steps, learnings, and decisions based on these.\n",
    "- Part of the open-ended nature of this assignment is that we will need to define our own Target Column of interest. In some datasets this is immediately provided, but we will need to strategize accordingly."
   ]
  },
  {
   "cell_type": "markdown",
   "metadata": {},
   "source": [
    "------------------------------------------------------------------"
   ]
  },
  {
   "cell_type": "markdown",
   "metadata": {},
   "source": [
    "### Ingestion/Exploratory Data Analysis (EDA)\n",
    "\n",
    "Though the Modeling is usually the more \"exciting\" part of the project, it's important to be well-informed on the data we are working with.  \n",
    "\n",
    "The idea is to take a look at the variables individually (uni-variate) as well as check out possible few correlation/relationships between variables (bi-variate) that we suspect may have interesting patterns. Additionally, there are other vital reasons why EDA is strongly needed for successful and clean modeling.\n",
    "\n",
    "- Determining how to address missing/low-quality data upfront segments much of the Data Manipulation code away from the AI/ML Modelling Code, making corrections/revisions easy to add in the corresponding section (as vs. all of the code entangled together)  \n",
    "- Addressing all Data Quality Issues upfront eliminates confusion between a Data process issue vs. a Modelling process issue, which is extremely relevant when we need to identify the root cause of poor model performance or make model enhancements/improvements. It saves significant time.\n",
    "- It gives direction on how to initially approach the modelling steps. Learning what variables are poorly maintained, insignificant, or irrelevant can save significant time in deciding how to be constructing and setting up the model. It becomes easier to quickly start with a fairly reasonable model - especially great if deadlines or resources happen to be constrained. \n",
    "\n",
    "In particular with this assessment, we have 3 datasets to review. The importance of this section is to roughly **determine the meaning, data quality, statistical overview, and important learnings/facts about the data that will be either a prerequisite or an a important factor in part of our modelling.**\n",
    "\n",
    "Because of the suggested 4 hour constraint, we will focus on the most evident learnings that we can quickly understand. There may be further analysis that could be done with more time - these potential steps are covered in the summary section of the EDA portion."
   ]
  },
  {
   "cell_type": "code",
   "execution_count": 258,
   "metadata": {},
   "outputs": [],
   "source": [
    "# Import Python Packages Necessary for Assignment\n",
    "import numpy as np # Data Manipulation\n",
    "import pandas as pd  # Data Manipulation\n",
    "import matplotlib.pyplot as plt # Generating Graphs, especially for EDA\n",
    "import seaborn as sns # Generating Graphs, especially for EDA"
   ]
  },
  {
   "cell_type": "markdown",
   "metadata": {},
   "source": [
    "##### Claim Lines w/ Diagnosis Codes (\"claim_lines.csv\") - EDA Overview"
   ]
  },
  {
   "cell_type": "code",
   "execution_count": 259,
   "metadata": {},
   "outputs": [],
   "source": [
    "# Import Dataset\n",
    "claims_df = pd.read_csv(\"claim_lines.csv\") # Assumes dataset is in same folder as this .ipynb"
   ]
  },
  {
   "cell_type": "code",
   "execution_count": 260,
   "metadata": {},
   "outputs": [
    {
     "data": {
      "text/html": [
       "<div>\n",
       "<style scoped>\n",
       "    .dataframe tbody tr th:only-of-type {\n",
       "        vertical-align: middle;\n",
       "    }\n",
       "\n",
       "    .dataframe tbody tr th {\n",
       "        vertical-align: top;\n",
       "    }\n",
       "\n",
       "    .dataframe thead th {\n",
       "        text-align: right;\n",
       "    }\n",
       "</style>\n",
       "<table border=\"1\" class=\"dataframe\">\n",
       "  <thead>\n",
       "    <tr style=\"text-align: right;\">\n",
       "      <th></th>\n",
       "      <th>record_id</th>\n",
       "      <th>member_id</th>\n",
       "      <th>date_svc</th>\n",
       "      <th>diag1</th>\n",
       "    </tr>\n",
       "  </thead>\n",
       "  <tbody>\n",
       "    <tr>\n",
       "      <th>0</th>\n",
       "      <td>57738</td>\n",
       "      <td>M0000001</td>\n",
       "      <td>2015-12-06</td>\n",
       "      <td>N92.6</td>\n",
       "    </tr>\n",
       "    <tr>\n",
       "      <th>1</th>\n",
       "      <td>57750</td>\n",
       "      <td>M0000001</td>\n",
       "      <td>2015-12-06</td>\n",
       "      <td>O26.842</td>\n",
       "    </tr>\n",
       "    <tr>\n",
       "      <th>2</th>\n",
       "      <td>65072</td>\n",
       "      <td>M0000001</td>\n",
       "      <td>2015-12-13</td>\n",
       "      <td>O26.842</td>\n",
       "    </tr>\n",
       "    <tr>\n",
       "      <th>3</th>\n",
       "      <td>201796</td>\n",
       "      <td>M0000001</td>\n",
       "      <td>2016-02-29</td>\n",
       "      <td>O26.843</td>\n",
       "    </tr>\n",
       "    <tr>\n",
       "      <th>4</th>\n",
       "      <td>267197</td>\n",
       "      <td>M0000001</td>\n",
       "      <td>2016-03-27</td>\n",
       "      <td>O26.843</td>\n",
       "    </tr>\n",
       "  </tbody>\n",
       "</table>\n",
       "</div>"
      ],
      "text/plain": [
       "   record_id member_id    date_svc    diag1\n",
       "0      57738  M0000001  2015-12-06    N92.6\n",
       "1      57750  M0000001  2015-12-06  O26.842\n",
       "2      65072  M0000001  2015-12-13  O26.842\n",
       "3     201796  M0000001  2016-02-29  O26.843\n",
       "4     267197  M0000001  2016-03-27  O26.843"
      ]
     },
     "execution_count": 260,
     "metadata": {},
     "output_type": "execute_result"
    }
   ],
   "source": [
    "# Preview the Data\n",
    "claims_df.head()"
   ]
  },
  {
   "cell_type": "code",
   "execution_count": 261,
   "metadata": {},
   "outputs": [
    {
     "data": {
      "text/plain": [
       "Index(['record_id', 'member_id', 'date_svc', 'diag1'], dtype='object')"
      ]
     },
     "execution_count": 261,
     "metadata": {},
     "output_type": "execute_result"
    }
   ],
   "source": [
    "# Review the columns we have access to in the Dataset\n",
    "claims_df.columns"
   ]
  },
  {
   "cell_type": "markdown",
   "metadata": {},
   "source": [
    "At this stage, it's important at a High-Level Glance to:  \n",
    "\n",
    "Understand what information is being conveyed in the data. There looks to be 2 main types of information conveyed. \n",
    "- Identification Information: \"record_id\", \"member_id\", \"date_svc\". Mostly used as referencing or labeling\n",
    "- Diagnosis Code: \"diag1\". This is the target variable of interest in this dataset, describing the diagnosis code.\n",
    "\n",
    "Other Learnings/Notes About This Dataset:  \n",
    "- The asesssment instructions describe the \"diag1\" codes as following the ICD-10 format. \n",
    "- When following the documentation, it is learned that there are ICD-10 **diagnosis** codes and ICD-10 **procedure** codes. \n",
    "- Our clues & evidence of determining these are **diagnosis** codes are from the given format. These codes in this dataset follow the syntax of the diagnosis codes description from:\n",
    "    - https://hcup-us.ahrq.gov/datainnovations/BriefIntrotoICD-10Codes041117.pdf : Table 1\n"
   ]
  },
  {
   "cell_type": "code",
   "execution_count": 262,
   "metadata": {},
   "outputs": [
    {
     "name": "stdout",
     "output_type": "stream",
     "text": [
      " \n",
      "Count total NaN at each column in a DataFrame : \n",
      "\n",
      " record_id     0\n",
      "member_id     0\n",
      "date_svc     24\n",
      "diag1         0\n",
      "dtype: int64\n",
      " \n",
      "Count total duplicates in Dataframe : \n",
      "\n",
      " 0\n",
      " \n",
      "Count total rows in Dataframe : \n",
      "\n",
      " 1919983\n"
     ]
    }
   ],
   "source": [
    "# Next, we would want to check data quality to give both a better understanding and set up our modelling for success (i.e. \"Garbage in Garbage Out\")\n",
    "\n",
    "# Count total NaN at each column in a DataFrame \n",
    "print(\" \\nCount total NaN at each column in a DataFrame : \\n\\n\", \n",
    "    claims_df.isnull().sum()) \n",
    "\n",
    "# Count Number of Duplicate Rows \n",
    "print(\" \\nCount total duplicates in Dataframe : \\n\\n\", \n",
    "    len(claims_df)-len(claims_df.drop_duplicates()))\n",
    "\n",
    "# Print Total Number of Rows for Relative Reference\n",
    "print(\" \\nCount total rows in Dataframe : \\n\\n\", \n",
    "    claims_df.shape[0])\n",
    "\n"
   ]
  },
  {
   "cell_type": "markdown",
   "metadata": {},
   "source": [
    "Even a simple exercise of counting the number of missing values will give some insight on useful variables. \n",
    "\n",
    "- Here, we can see that only the date_svc column has missing values, 24 of them.\n",
    "- There are also no duplicate rows, so we will not need to handle for duplicate data.\n",
    "- We have 1,919,983 data points, described in our instructions as \"Every row lists one diagnosis given to a member on a certain day.\". As a sanity check where we are also told this data covers 200,000 members for 3 years, its important to also self-ask sanity questions - this amount of data roughly makes sense for the time period we are told.\n",
    "\n",
    "Then, we need to think how to handle the missing data.\n",
    "- Normally, we would want to inquire what could lead to the missing data existing in the first place (i.e Human Error, Data Gaps, Intention of N/A as a result). If the root cause is known, this can inform on how to resolve the missing data appropriately (i.e. Human error could be solved by manual correction, missing numeric values over time can involve an average between the two next adjacent data points, etc.)\n",
    "- We would not need to trim data rows which have missing data in columns that are irrelevant for our model to learn from.\n",
    "\n",
    "Based on the available size of data in this dataset, as well as simplicity for the assignment - we will simply remove the 24 rows of data, since this is a marginal portion of the data. "
   ]
  },
  {
   "cell_type": "code",
   "execution_count": 263,
   "metadata": {},
   "outputs": [],
   "source": [
    "# Final Refinements for the Claim Lines Dataset\n",
    "\n",
    "# Drop Columns\n",
    "claims_df.dropna(subset=claims_df.columns.tolist(), inplace = True)\n",
    "\n",
    "# Note: A particular step I personally find very useful and worthwhile to do is coercing all the types very early ahead of time if the dataset size is reasonable for that exercise. \n",
    "# It facilitates all future code as we know exactly what data types we are working with, and makes it easy to check for data type correctness for all future EDA and Modelling requirements.\n",
    "# Takes some extra time in the beginning, but saves tons of time and headache later!\n",
    "\n",
    "# Specify Data Types for what values we would expect\n",
    "STR_COLS = ['record_id', \"member_id\", 'diag1'] \n",
    "#FLOAT_COLS = []\n",
    "DATE_COLS = ['date_svc']\n",
    "\n",
    "# Coerce Data Types for what values we would expect. Note: Errors in Coercion become NA from the parameter specified.\n",
    "claims_df[STR_COLS] = claims_df[STR_COLS].astype(str) # String\n",
    "#claims_df[FLOAT_COLS] = claims_df[FLOAT_COLS].apply(pd.to_numeric, errors = 'coerce') # FLoats/Decimals\n",
    "claims_df[DATE_COLS] = claims_df[DATE_COLS].apply(pd.to_datetime, errors = \"coerce\") # DateTime"
   ]
  },
  {
   "cell_type": "markdown",
   "metadata": {},
   "source": [
    "##### CCS / Clinical Categories (\"ccs.csv\") - EDA Overview"
   ]
  },
  {
   "cell_type": "markdown",
   "metadata": {},
   "source": [
    "We follow the same methodology as the claim lines dataset. For conciseness, the code is all joined together; and the insights/summaries are still given in a separate cell."
   ]
  },
  {
   "cell_type": "code",
   "execution_count": 264,
   "metadata": {},
   "outputs": [
    {
     "name": "stdout",
     "output_type": "stream",
     "text": [
      "Index(['diag', 'diag_desc', 'ccs_1_desc', 'ccs_2_desc', 'ccs_3_desc'], dtype='object')\n",
      " \n",
      "Count total NaN at each column in a DataFrame : \n",
      "\n",
      " diag          0\n",
      "diag_desc     0\n",
      "ccs_1_desc    0\n",
      "ccs_2_desc    0\n",
      "ccs_3_desc    0\n",
      "dtype: int64\n",
      " \n",
      "Count total duplicates in Dataframe : \n",
      "\n",
      " 0\n",
      " \n",
      "Count total rows in Dataframe : \n",
      "\n",
      " 72167\n"
     ]
    }
   ],
   "source": [
    "# Import Dataset\n",
    "ccs_df = pd.read_csv(\"ccs.csv\") # Assumes dataset is in same folder as this .ipynb\n",
    "\n",
    "# Review the columns we have access to in the Dataset\n",
    "print(ccs_df.columns)\n",
    "\n",
    "# Next, we would want to check data quality to give both a better understanding and set up our modelling for success (i.e. \"Garbage in Garbage Out\")\n",
    "\n",
    "# Count total NaN at each column in a DataFrame \n",
    "print(\" \\nCount total NaN at each column in a DataFrame : \\n\\n\", \n",
    "    ccs_df.isnull().sum()) \n",
    "\n",
    "# Count Number of Duplicate Rows \n",
    "print(\" \\nCount total duplicates in Dataframe : \\n\\n\", \n",
    "    len(ccs_df)-len(ccs_df.drop_duplicates()))\n",
    "\n",
    "# Print Total Number of Rows for Relative Reference\n",
    "print(\" \\nCount total rows in Dataframe : \\n\\n\", \n",
    "    ccs_df.shape[0])\n",
    "\n",
    "# Final Refinements for the CCS Dataset\n",
    "\n",
    "# Specify Data Types for what values we would expect\n",
    "STR_COLS = ['diag', 'diag_desc', 'ccs_1_desc', 'ccs_2_desc', 'ccs_3_desc'] \n",
    "\n",
    "# Coerce Data Types for what values we would expect. Note: Errors in Coercion become NA from the parameter specified.\n",
    "ccs_df[STR_COLS] = ccs_df[STR_COLS].astype(str) # String"
   ]
  },
  {
   "cell_type": "markdown",
   "metadata": {},
   "source": [
    "We should review two important understandings as before - the meaning of this dataset as well as any data quality/overview details we need to note of.\n",
    "\n",
    "- \"diag\" follows the same format of the ICD-10 diagnosis codes, but with one small yet important difference; there are **no decimals** in this dataset's depiction.\n",
    "    - Consequence 1: When joining the ccs dataset with the claim_lines dataset, we will need to adjust the representation (i.e. claim_lines's \"Z38.01\" matches to ccs's \"Z3801\")\n",
    "        - This is an assumption that normally would be recommended to confer and check with the data expert / owner of the datasets\n",
    "    - Consequence 2: We would need to validate that the above-mentioned join is relatively successful/correct\n",
    "        - If the matching is poor based on our assumption above, we would need to investigate further for an alternative join strategy.\n",
    "        - There could be both technical and non-technical causes for a poor join\n",
    "            - Significant Zeroes, or other similar issues regarding different formatting for the same expression(s)\n",
    "            - Data Source Consolidation Gaps, such as different systems capturing the same information but in different syntaxes or nomenclatures.\n",
    "- \"diag_desc\", \"ccs_1_desc\", \"ccs_2_desc\", \"ccs_3_desc\" are all descriptions of the diagnosis, but on different broadness/hierarchy.\n",
    "    - From a glance, it would seem that \"diag_desc\" is the \"true\" description of the diagnosis. \n",
    "    - Since multiple diagnoses can be classified similarly in nature, the mulitple \"ccs_desc\" columns classify at different levels of specificity.\n",
    "        - Hypothesis: \"ccs_1\" is more broad encapsulating, up to \"ccs_3\" as most specific categorization\n",
    "\n",
    "From the above, we have important action items:\n",
    "\n",
    "- Validate / Investigate Consequences 1 & 2, to ensure our data is being used together correctly.\n",
    "- Understand the description breakdown hierarchy enough to accomplish an important step - determine an appropriate level categorization the model will be targetting.\n",
    "    - This will be explored in the Uni-Variate Sections.\n",
    "\n",
    "From noticing no missing data or duplicate rows, we will quickly make an assumption that this dataset is good as is."
   ]
  },
  {
   "cell_type": "markdown",
   "metadata": {},
   "source": [
    "##### Prescription Drugs Data (\"prescription_drugs.csv\") - EDA Overview"
   ]
  },
  {
   "cell_type": "markdown",
   "metadata": {},
   "source": [
    "We follow the same methodology as the claim lines & ccs dataset."
   ]
  },
  {
   "cell_type": "code",
   "execution_count": 265,
   "metadata": {},
   "outputs": [
    {
     "name": "stdout",
     "output_type": "stream",
     "text": [
      "Index(['record_id', 'member_id', 'date_svc', 'ndc', 'drug_category',\n",
      "       'drug_group', 'drug_class'],\n",
      "      dtype='object')\n",
      " \n",
      "Count total NaN at each column in a DataFrame : \n",
      "\n",
      " record_id        0\n",
      "member_id        0\n",
      "date_svc         0\n",
      "ndc              0\n",
      "drug_category    0\n",
      "drug_group       0\n",
      "drug_class       0\n",
      "dtype: int64\n",
      " \n",
      "Count total duplicates in Dataframe : \n",
      "\n",
      " 0\n",
      " \n",
      "Count total rows in Dataframe : \n",
      "\n",
      " 3005934\n"
     ]
    }
   ],
   "source": [
    "# Import Dataset\n",
    "drug_df = pd.read_csv(\"prescription_drugs.csv\") # Assumes dataset is in same folder as this .ipynb\n",
    "\n",
    "# Review the columns we have access to in the Dataset\n",
    "print(drug_df.columns)\n",
    "\n",
    "# Next, we would want to check data quality to give both a better understanding and set up our modelling for success (i.e. \"Garbage in Garbage Out\")\n",
    "\n",
    "# Count total NaN at each column in a DataFrame \n",
    "print(\" \\nCount total NaN at each column in a DataFrame : \\n\\n\", \n",
    "    drug_df.isnull().sum()) \n",
    "\n",
    "# Count Number of Duplicate Rows \n",
    "print(\" \\nCount total duplicates in Dataframe : \\n\\n\", \n",
    "    len(drug_df)-len(drug_df.drop_duplicates()))\n",
    "\n",
    "# Print Total Number of Rows for Relative Reference\n",
    "print(\" \\nCount total rows in Dataframe : \\n\\n\", \n",
    "    drug_df.shape[0])\n",
    "\n",
    "# Final Refinements for the CCS Dataset\n",
    "\n",
    "# Specify Data Types for what values we would expect\n",
    "STR_COLS = ['record_id', 'member_id', 'ndc', 'drug_category', 'drug_group', 'drug_class'] \n",
    "DATE_COLS = ['date_svc']\n",
    "\n",
    "# Coerce Data Types for what values we would expect. Note: Errors in Coercion become NA from the parameter specified.\n",
    "drug_df[STR_COLS] = drug_df[STR_COLS].astype(str) # String\n",
    "drug_df[DATE_COLS] = drug_df[DATE_COLS].apply(pd.to_datetime, errors = \"coerce\") # DateTime"
   ]
  },
  {
   "cell_type": "markdown",
   "metadata": {},
   "source": [
    "We should review two important understandings as before - the meaning of this dataset as well as any data quality/overview details we need to note of.\n",
    "\n",
    "- \"record_id\" would assumedly be the unique transaction id logged to the drug being given to the member\n",
    "    - Hypothesis: this is not the same as the \"record_id\" as the claims_lines dataset.\n",
    "    - Validation Process: we could join \"record_id\" across the two datasets, and validate if the secondary data attributes (i.e. \"member_id\") are consistent.\n",
    "        - If this is validated to actually match, this could be our id to join on\n",
    "        - If not, we likely will need to join with other data attributes.\n",
    "- \"member_id\" would be the associated member for the drug being administered to.\n",
    "    - This likely would be consistent with the \"member_id\" seen in claims_lines (otherwise, the join between these datasets will be quite difficult)\n",
    "    - Validation Process: we could join these two \"member_id\"s and spot check for data consistency (i.e. diabetes patients are both diagnosed with diabetes AND are prescribed diabetes-treatment drugs)\n",
    "- \"date_svc\" is actually unclear whether this falls in one of two scenarios. \n",
    "    - Scenario 1: These correspond to the same \"date_svc\" as when the member received the diagnosis, as its purpose as an additional joining key\n",
    "    - Scenario 2: These are dates indicating when the prescription drug was filled, and completely specific within the scope of only the prescription drug dataset.\n",
    "        - Since dates are harder to intuitively validate, there may not be a clear cut strategy to find the answer to this.\n",
    "            - Consequence 1: As part of our data joining strategy, we would need to employ a strategy that will not be joining on \"date_svc\" to avoid misleading joins\n",
    "            - Consequence 2: Since we are uncertain about the consistency between multiple \"date_svc\" columns, we should exclude this as a predictive attribute from our final model since it could yield misleading insights - That is the risk of using data elements we don't understand.\n",
    "- \"ndc\" is the National Drug Code for the exact drug being used. Most likely, we will not need to use this column as we have the other columns describing the functional purpose of the drug (i.e We don't understand anything directly from proper Drug names like Tylenol - it is the properties and usages of Tylenol that we care about understanding from the drug name).\n",
    "- \"drug_category\", \"drug_group\", \"drug_class\" are helpful descriptors of the drug being used. Since there are so many unique drugs that exist, we will probably utilize these descriptions to determine how we will be broadly binning the drugs in functional groups as a model predictor input.\n",
    "\n",
    "From the above, we have important action items:\n",
    "\n",
    "- We need to clarify the consistency of the data attributes named in this dataset to the claims_lines.\n",
    "- We will need to establish a joining strategy with claims_lines, to ensure the data is being used together as correctly as possible.\n",
    "\n",
    "From noticing no missing data or duplicate rows, we will quickly make an assumption that this dataset is good as is."
   ]
  },
  {
   "cell_type": "markdown",
   "metadata": {},
   "source": [
    "## Univariate EDA"
   ]
  },
  {
   "cell_type": "markdown",
   "metadata": {},
   "source": [
    "Univariate EDA is generating technical counts, statistical summaries, and breakdowns of our data in individual attributes. In essence, we are digging one level deeper than a broad overview in the sections above. This section will help clarify some of the above consequences, validations, and assumptions we determined - leading to the **importance of this section of passing our data correctly to the modelling phase and learning what features need to be engineered or adjusted**."
   ]
  },
  {
   "cell_type": "markdown",
   "metadata": {},
   "source": [
    "##### Claim Lines w/ Diagnosis Codes (\"claim_lines.csv\") - Univariate EDA"
   ]
  },
  {
   "cell_type": "code",
   "execution_count": 266,
   "metadata": {},
   "outputs": [
    {
     "data": {
      "text/plain": [
       "record_id\n",
       "57738      1\n",
       "1196744    1\n",
       "1216321    1\n",
       "1215584    1\n",
       "1215527    1\n",
       "          ..\n",
       "1342480    1\n",
       "1342352    1\n",
       "1315855    1\n",
       "1303734    1\n",
       "695615     1\n",
       "Name: count, Length: 1919959, dtype: int64"
      ]
     },
     "execution_count": 266,
     "metadata": {},
     "output_type": "execute_result"
    }
   ],
   "source": [
    "# Review record_id uniqueness\n",
    "claims_df[\"record_id\"].value_counts()\n"
   ]
  },
  {
   "cell_type": "code",
   "execution_count": 267,
   "metadata": {},
   "outputs": [
    {
     "data": {
      "text/plain": [
       "record_id\n",
       "100        1\n",
       "1000       1\n",
       "10000      1\n",
       "100000     1\n",
       "1000000    1\n",
       "          ..\n",
       "999995     1\n",
       "999996     1\n",
       "999997     1\n",
       "999998     1\n",
       "999999     1\n",
       "Name: count, Length: 1919959, dtype: int64"
      ]
     },
     "execution_count": 267,
     "metadata": {},
     "output_type": "execute_result"
    }
   ],
   "source": [
    "# Review range of record_ids\n",
    "claims_df[\"record_id\"].value_counts().sort_index()"
   ]
  },
  {
   "cell_type": "code",
   "execution_count": 268,
   "metadata": {},
   "outputs": [
    {
     "data": {
      "text/plain": [
       "member_id\n",
       "M0135203    921\n",
       "M0242760    805\n",
       "M0117950    781\n",
       "M0080814    780\n",
       "M0087703    692\n",
       "           ... \n",
       "M0190692      1\n",
       "M0044626      1\n",
       "M0190689      1\n",
       "M0190679      1\n",
       "M0145870      1\n",
       "Name: count, Length: 245166, dtype: int64"
      ]
     },
     "execution_count": 268,
     "metadata": {},
     "output_type": "execute_result"
    }
   ],
   "source": [
    "# Review member_id frequencies\n",
    "claims_df[\"member_id\"].value_counts()"
   ]
  },
  {
   "cell_type": "code",
   "execution_count": 269,
   "metadata": {},
   "outputs": [
    {
     "data": {
      "text/plain": [
       "member_id\n",
       "M0000001    15\n",
       "M0000002     6\n",
       "M0000003     2\n",
       "M0000004     2\n",
       "M0000005     2\n",
       "            ..\n",
       "M0291609     3\n",
       "M0291610     8\n",
       "M0291611     1\n",
       "M0291612     2\n",
       "M0291613     7\n",
       "Name: count, Length: 245166, dtype: int64"
      ]
     },
     "execution_count": 269,
     "metadata": {},
     "output_type": "execute_result"
    }
   ],
   "source": [
    "# Review range of member_ids\n",
    "claims_df[\"member_id\"].value_counts().sort_index()"
   ]
  },
  {
   "cell_type": "code",
   "execution_count": 270,
   "metadata": {},
   "outputs": [
    {
     "data": {
      "text/plain": [
       "date_svc\n",
       "2018-02-15    4237\n",
       "2018-02-27    4230\n",
       "2018-02-14    4227\n",
       "2018-02-28    4212\n",
       "2018-02-11    4203\n",
       "              ... \n",
       "2013-08-30       1\n",
       "2015-03-08       1\n",
       "2014-12-13       1\n",
       "2014-06-10       1\n",
       "2015-03-30       1\n",
       "Name: count, Length: 1150, dtype: int64"
      ]
     },
     "execution_count": 270,
     "metadata": {},
     "output_type": "execute_result"
    }
   ],
   "source": [
    "# Review date_svc frequencies\n",
    "claims_df[\"date_svc\"].value_counts()"
   ]
  },
  {
   "cell_type": "code",
   "execution_count": 271,
   "metadata": {},
   "outputs": [
    {
     "data": {
      "text/plain": [
       "date_svc\n",
       "1899-12-04    1\n",
       "1899-12-07    1\n",
       "1899-12-22    1\n",
       "1899-12-24    1\n",
       "1899-12-26    1\n",
       "             ..\n",
       "2018-10-16    1\n",
       "2018-11-10    2\n",
       "2018-11-16    1\n",
       "2018-11-18    1\n",
       "2018-12-06    1\n",
       "Name: count, Length: 1150, dtype: int64"
      ]
     },
     "execution_count": 271,
     "metadata": {},
     "output_type": "execute_result"
    }
   ],
   "source": [
    "# Review date_svc range\n",
    "claims_df[\"date_svc\"].value_counts().sort_index()"
   ]
  },
  {
   "cell_type": "code",
   "execution_count": 272,
   "metadata": {},
   "outputs": [
    {
     "data": {
      "text/plain": [
       "diag1\n",
       "Z00.00      70352\n",
       "I10         46739\n",
       "Z01.419     36676\n",
       "Z12.31      25565\n",
       "M54.5       23535\n",
       "            ...  \n",
       "S92.311G        1\n",
       "S92.311D        1\n",
       "S21.009A        1\n",
       "S29.099A        1\n",
       "M24.474         1\n",
       "Name: count, Length: 20566, dtype: int64"
      ]
     },
     "execution_count": 272,
     "metadata": {},
     "output_type": "execute_result"
    }
   ],
   "source": [
    "# Review diag1\n",
    "claims_df[\"diag1\"].value_counts()"
   ]
  },
  {
   "cell_type": "code",
   "execution_count": 273,
   "metadata": {},
   "outputs": [
    {
     "data": {
      "text/plain": [
       "diag1\n",
       "000         63\n",
       "000.0        1\n",
       "000.00       1\n",
       "002.1        1\n",
       "035.1XX0     1\n",
       "            ..\n",
       "Z98.891     18\n",
       "Z99.11      54\n",
       "Z99.2       14\n",
       "Z99.81       4\n",
       "Z99.89       2\n",
       "Name: count, Length: 20566, dtype: int64"
      ]
     },
     "execution_count": 273,
     "metadata": {},
     "output_type": "execute_result"
    }
   ],
   "source": [
    "# Review range of diag1 values\n",
    "claims_df[\"diag1\"].value_counts().sort_index()"
   ]
  },
  {
   "cell_type": "code",
   "execution_count": 274,
   "metadata": {},
   "outputs": [
    {
     "name": "stdout",
     "output_type": "stream",
     "text": [
      "temp_category\n",
      "Z    334300\n",
      "M    250146\n",
      "R    241012\n",
      "J    161433\n",
      "E    113395\n",
      "I    110368\n",
      "N    101250\n",
      "K     80552\n",
      "L     78757\n",
      "S     78004\n",
      "H     73936\n",
      "F     60683\n",
      "D     49843\n",
      "G     48318\n",
      "C     47172\n",
      "B     30716\n",
      "O     24729\n",
      "T     13000\n",
      "A     11609\n",
      "P      4418\n",
      "Q      4265\n",
      "9      1578\n",
      "W       181\n",
      "V       101\n",
      "Y        96\n",
      "0        69\n",
      "X        11\n",
      "3         4\n",
      "7         4\n",
      "4         2\n",
      "1         2\n",
      "8         2\n",
      "2         1\n",
      "5         1\n",
      "6         1\n",
      "Name: count, dtype: int64\n",
      "temp_category\n",
      "Z    334300\n",
      "M    250146\n",
      "R    241012\n",
      "J    161433\n",
      "E    113395\n",
      "I    110368\n",
      "N    101250\n",
      "K     80552\n",
      "L     78757\n",
      "S     78004\n",
      "H     73936\n",
      "F     60683\n",
      "D     49843\n",
      "G     48318\n",
      "C     47172\n",
      "B     30716\n",
      "O     24729\n",
      "T     13000\n",
      "A     11609\n",
      "P      4418\n",
      "Q      4265\n",
      "W       181\n",
      "V       101\n",
      "Y        96\n",
      "X        11\n",
      "Name: count, dtype: int64\n"
     ]
    }
   ],
   "source": [
    "# Review breakdown of general diagnoses category frequencies\n",
    "\n",
    "# Get First Letter (the category)\n",
    "claims_df[\"temp_category\"] = claims_df[\"diag1\"].str[0]\n",
    "\n",
    "# Get Category Frequencies\n",
    "print(claims_df[\"temp_category\"].value_counts())\n",
    "\n",
    "# There are some ~1600 values that don't follow the ICD-10 diagnosis code format (i.e. Alpha letter the first character), could be obsolete formatting or data entry error. \n",
    "# Since it is a small portion of the entire dataset, we can remove these for now...\n",
    "claims_df.drop(claims_df[~claims_df[\"temp_category\"].isin([chr(i) for i in range(ord('A'), ord('Z') + 1)])].index, inplace=True)\n",
    "\n",
    "# Get Category Frequencies\n",
    "print(claims_df[\"temp_category\"].value_counts())\n",
    "\n",
    "# Revert dataframe back to earlier form\n",
    "claims_df.drop(columns = [\"temp_category\"], inplace = True)\n"
   ]
  },
  {
   "cell_type": "markdown",
   "metadata": {},
   "source": [
    "For the claims_lines dataset, our uni-variate analysis of frequencies and ranges of values gives some simple but useful facts about our dataset.\n",
    "\n",
    "- \"record_id\" is sufficiently unique, as expected.\n",
    "- \"member_id\" frequency counts show as high as 900 unique diagnosises. This gives us a frame of reference that there are members who have many many diagnoses, so we need to accomodate our binning strategy accordingly.\n",
    "- \"date_svc\" ranges as early from 1899 up to 2018 data. This is an interesting discovery considering the background of the problem statement described a 3-year span for members.\n",
    "    - 1990 dates would even be relatively explainable - however 1899 is very far back.\n",
    "- \"diag1\" does contain some codes that do not follow the ICD-10 diagnosis code syntax (either by data entry error, or alternative syntaxes at data recording).\n",
    "    - There are about ~1600 rows affected by this, and in the scope of our much much larger dataset, we can follow a symplistic approach of removing these rows\n",
    "    - Our new claims_lines dataset still being ~1,900,000+ rows after this operation\n",
    "    - After this, we see that the distribution of 1st-position alpha characters are not equal among all the codes,\n",
    "        - Some as many as ~334,000+ for Z headed codes, while some as little as 11 for X headed codes.\n",
    "            - This implies there is some imbalance in our dataset (i.e. there is much more data and learning the model will do off of the well-opulated categories, compared to the sparse categories)"
   ]
  },
  {
   "cell_type": "markdown",
   "metadata": {},
   "source": [
    "##### CCS / Clinical Categories (\"ccs.csv\") - Uni-Variate EDA"
   ]
  },
  {
   "cell_type": "code",
   "execution_count": 275,
   "metadata": {},
   "outputs": [
    {
     "data": {
      "text/plain": [
       "diag\n",
       "A000       1\n",
       "S82319D    1\n",
       "S82391B    1\n",
       "S82391A    1\n",
       "S82319S    1\n",
       "          ..\n",
       "S02609D    1\n",
       "S02609G    1\n",
       "S02609K    1\n",
       "S02609S    1\n",
       "Z9989      1\n",
       "Name: count, Length: 72167, dtype: int64"
      ]
     },
     "execution_count": 275,
     "metadata": {},
     "output_type": "execute_result"
    }
   ],
   "source": [
    "# Review diag frequencies being unique\n",
    "ccs_df[\"diag\"].value_counts()"
   ]
  },
  {
   "cell_type": "code",
   "execution_count": 276,
   "metadata": {},
   "outputs": [
    {
     "data": {
      "text/plain": [
       "diag\n",
       "A000     1\n",
       "A001     1\n",
       "A009     1\n",
       "A0100    1\n",
       "A0101    1\n",
       "        ..\n",
       "Z9912    1\n",
       "Z992     1\n",
       "Z993     1\n",
       "Z9981    1\n",
       "Z9989    1\n",
       "Name: count, Length: 72167, dtype: int64"
      ]
     },
     "execution_count": 276,
     "metadata": {},
     "output_type": "execute_result"
    }
   ],
   "source": [
    "# Review range of diag codes\n",
    "ccs_df[\"diag\"].value_counts().sort_index()"
   ]
  },
  {
   "cell_type": "code",
   "execution_count": 277,
   "metadata": {},
   "outputs": [
    {
     "data": {
      "text/plain": [
       "ccs_1_desc\n",
       "Injury and poisoning                                                                 40432\n",
       "Residual codes; unclassified; all E codes [259. and 260.]                             7621\n",
       "Diseases of the musculoskeletal system and connective tissue                          5392\n",
       "Diseases of the nervous system and sense organs                                       4017\n",
       "Complications of pregnancy; childbirth; and the puerperium                            2332\n",
       "Mental Illness                                                                        2012\n",
       "Neoplasms                                                                             1729\n",
       "Endocrine; nutritional; and metabolic diseases and immunity disorders                 1492\n",
       "Diseases of the circulatory system                                                    1222\n",
       "Diseases of the digestive system                                                       941\n",
       "Infectious and parasitic diseases                                                      923\n",
       "Congenital anomalies                                                                   832\n",
       "Diseases of the skin and subcutaneous tissue                                           784\n",
       "Symptoms; signs; and ill-defined conditions and factors influencing health status      724\n",
       "Diseases of the genitourinary system                                                   715\n",
       "Certain conditions originating in the perinatal period                                 438\n",
       "Diseases of the respiratory system                                                     384\n",
       "Diseases of the blood and blood-forming organs                                         177\n",
       "Name: count, dtype: int64"
      ]
     },
     "execution_count": 277,
     "metadata": {},
     "output_type": "execute_result"
    }
   ],
   "source": [
    "# Review Frequencies of ccs_1_desc\n",
    "ccs_df[\"ccs_1_desc\"].value_counts()"
   ]
  },
  {
   "cell_type": "code",
   "execution_count": 278,
   "metadata": {},
   "outputs": [
    {
     "data": {
      "text/plain": [
       "ccs_2_desc\n",
       "Fractures                                                      16924\n",
       "                                                                7621\n",
       "Open wounds                                                     3636\n",
       "Other injuries and conditions due to external causes [244.]     3126\n",
       "Crushing injury or internal injury [234.]                       2736\n",
       "                                                               ...  \n",
       "Cystic fibrosis [56.]                                              5\n",
       "Osteoporosis [206.]                                                3\n",
       "Maintenance chemotherapy; radiotherapy [45.]                       3\n",
       "Respiratory distress syndrome [221.]                               1\n",
       "Aspiration pneumonitis; food/vomitus [129.]                        1\n",
       "Name: count, Length: 136, dtype: int64"
      ]
     },
     "execution_count": 278,
     "metadata": {},
     "output_type": "execute_result"
    }
   ],
   "source": [
    "# Review Frequencies of ccs_2_desc\n",
    "ccs_df[\"ccs_2_desc\"].value_counts()"
   ]
  },
  {
   "cell_type": "code",
   "execution_count": 279,
   "metadata": {},
   "outputs": [
    {
     "data": {
      "text/plain": [
       "ccs_3_desc\n",
       "Fracture of lower limb                                  6888\n",
       "Fracture of upper limb                                  6651\n",
       "Other injuries and conditions due to external causes    3126\n",
       "Crushing injury or internal injury                      2736\n",
       "Burns                                                   2584\n",
       "                                                        ... \n",
       "Respiratory distress syndrome                              1\n",
       "Forceps delivery                                           1\n",
       "Aspiration pneumonitis; food/vomitus                       1\n",
       "Syncope                                                    1\n",
       "Parkinson`s disease                                        1\n",
       "Name: count, Length: 283, dtype: int64"
      ]
     },
     "execution_count": 279,
     "metadata": {},
     "output_type": "execute_result"
    }
   ],
   "source": [
    "# Review Frequencies of ccs_3_desc\n",
    "ccs_df[\"ccs_3_desc\"].value_counts()"
   ]
  },
  {
   "cell_type": "markdown",
   "metadata": {},
   "source": [
    "Similar to the earlier section, we collect our thoughts and learnings from the CCS dataset describing the diagnosis code details.\n",
    "\n",
    "- A main takeaway is the approximate unique-ness/size of the categories in each respective CCS layer.\n",
    "    - ccs_1 has 18 unique categories, ccs_2 has 136, ccs_3 has 283.\n",
    "    - Due to the extensive research on the background determination of these categories and their distinctions, these categories are likely to be good candidates for the patient health statuses as-is.\n",
    "        - These categories also align in description fairly well to the CCS/ICD-10 documentation linked in the assessment, so they are accurate akin to the verified documentation."
   ]
  },
  {
   "cell_type": "markdown",
   "metadata": {},
   "source": [
    "##### Prescription Drugs Data (\"prescription_drugs.csv\") - Univariate EDA"
   ]
  },
  {
   "cell_type": "code",
   "execution_count": 280,
   "metadata": {},
   "outputs": [
    {
     "data": {
      "text/plain": [
       "Index(['record_id', 'member_id', 'date_svc', 'ndc', 'drug_category',\n",
       "       'drug_group', 'drug_class'],\n",
       "      dtype='object')"
      ]
     },
     "execution_count": 280,
     "metadata": {},
     "output_type": "execute_result"
    }
   ],
   "source": [
    "drug_df.columns"
   ]
  },
  {
   "cell_type": "code",
   "execution_count": 281,
   "metadata": {},
   "outputs": [
    {
     "data": {
      "text/plain": [
       "record_id\n",
       "4115084976453758912    1\n",
       "7027581895774705290    1\n",
       "5623458955091541006    1\n",
       "56846722386239700      1\n",
       "2199505267363317795    1\n",
       "                      ..\n",
       "3405075619608131908    1\n",
       "6328362827352577029    1\n",
       "8477828071356189092    1\n",
       "2334210907924906058    1\n",
       "1237414475289191242    1\n",
       "Name: count, Length: 3005934, dtype: int64"
      ]
     },
     "execution_count": 281,
     "metadata": {},
     "output_type": "execute_result"
    }
   ],
   "source": [
    "# Check uniqueness of record_id\n",
    "drug_df[\"record_id\"].value_counts()"
   ]
  },
  {
   "cell_type": "code",
   "execution_count": 282,
   "metadata": {},
   "outputs": [
    {
     "data": {
      "text/plain": [
       "record_id\n",
       "1000007285353966078    1\n",
       "1000009593670105711    1\n",
       "1000020063626312092    1\n",
       "1000020374385918396    1\n",
       "10000205291842512      1\n",
       "                      ..\n",
       "999993725707021047     1\n",
       "999993948402636287     1\n",
       "999996671367233637     1\n",
       "999996871257577583     1\n",
       "999999727377882656     1\n",
       "Name: count, Length: 3005934, dtype: int64"
      ]
     },
     "execution_count": 282,
     "metadata": {},
     "output_type": "execute_result"
    }
   ],
   "source": [
    "# Check range of values from record_id\n",
    "drug_df[\"record_id\"].value_counts().sort_index()"
   ]
  },
  {
   "cell_type": "code",
   "execution_count": 283,
   "metadata": {},
   "outputs": [
    {
     "data": {
      "text/plain": [
       "member_id\n",
       "M0151509    669\n",
       "M0023252    454\n",
       "M0118840    445\n",
       "M0026330    444\n",
       "M0287678    441\n",
       "           ... \n",
       "M0151419      1\n",
       "M0100986      1\n",
       "M0029023      1\n",
       "M0212291      1\n",
       "M0291201      1\n",
       "Name: count, Length: 240735, dtype: int64"
      ]
     },
     "execution_count": 283,
     "metadata": {},
     "output_type": "execute_result"
    }
   ],
   "source": [
    "# Check frequency of member_id\n",
    "drug_df[\"member_id\"].value_counts()"
   ]
  },
  {
   "cell_type": "code",
   "execution_count": 284,
   "metadata": {},
   "outputs": [
    {
     "data": {
      "text/plain": [
       "member_id\n",
       "M0000001     1\n",
       "M0000002     4\n",
       "M0000003     1\n",
       "M0000004     2\n",
       "M0000005     3\n",
       "            ..\n",
       "M0291608    13\n",
       "M0291610    18\n",
       "M0291612    15\n",
       "M0291613     7\n",
       "M0291614     1\n",
       "Name: count, Length: 240735, dtype: int64"
      ]
     },
     "execution_count": 284,
     "metadata": {},
     "output_type": "execute_result"
    }
   ],
   "source": [
    "# Check range of values from member_id\n",
    "drug_df[\"member_id\"].value_counts().sort_index()"
   ]
  },
  {
   "cell_type": "code",
   "execution_count": 285,
   "metadata": {},
   "outputs": [
    {
     "data": {
      "text/plain": [
       "date_svc\n",
       "2018-03-27    5881\n",
       "2018-04-03    5809\n",
       "2018-02-28    5755\n",
       "2018-03-01    5736\n",
       "2018-03-21    5727\n",
       "              ... \n",
       "2013-12-10       4\n",
       "2013-12-13       3\n",
       "2013-12-05       2\n",
       "2013-12-06       1\n",
       "2013-12-04       1\n",
       "Name: count, Length: 1644, dtype: int64"
      ]
     },
     "execution_count": 285,
     "metadata": {},
     "output_type": "execute_result"
    }
   ],
   "source": [
    "# Check frequency of date_svc\n",
    "drug_df[\"date_svc\"].value_counts()"
   ]
  },
  {
   "cell_type": "code",
   "execution_count": 286,
   "metadata": {},
   "outputs": [
    {
     "data": {
      "text/plain": [
       "date_svc\n",
       "2013-12-04      1\n",
       "2013-12-05      2\n",
       "2013-12-06      1\n",
       "2013-12-07     10\n",
       "2013-12-08      6\n",
       "             ... \n",
       "2018-05-31    399\n",
       "2018-06-01    268\n",
       "2018-06-02    207\n",
       "2018-06-03    129\n",
       "2018-06-04     28\n",
       "Name: count, Length: 1644, dtype: int64"
      ]
     },
     "execution_count": 286,
     "metadata": {},
     "output_type": "execute_result"
    }
   ],
   "source": [
    "# Check range of date_svc\n",
    "drug_df[\"date_svc\"].value_counts().sort_index()"
   ]
  },
  {
   "cell_type": "code",
   "execution_count": 287,
   "metadata": {},
   "outputs": [
    {
     "data": {
      "text/plain": [
       "drug_category\n",
       "Antidepressants                271689\n",
       "Antihypertensives              180439\n",
       "Antihyperlipidemics            170385\n",
       "Contraceptives                 150723\n",
       "Antidiabetics                  145150\n",
       "                                ...  \n",
       "Antiseptics & Disinfectants        13\n",
       "Nutrients                          11\n",
       "Alternative Medicines               2\n",
       "Antacids                            2\n",
       "General Anesthetics                 1\n",
       "Name: count, Length: 92, dtype: int64"
      ]
     },
     "execution_count": 287,
     "metadata": {},
     "output_type": "execute_result"
    }
   ],
   "source": [
    "# Check frequencies of drug_category\n",
    "drug_df[\"drug_category\"].value_counts()"
   ]
  },
  {
   "cell_type": "code",
   "execution_count": 288,
   "metadata": {},
   "outputs": [
    {
     "data": {
      "text/plain": [
       "drug_group\n",
       "Hmg CoA Reductase Inhibitors                       147973\n",
       "Selective Serotonin Reuptake Inhibitors (SSRIs)    140335\n",
       "Combination Contraceptives - Oral                  131597\n",
       "Thyroid Hormones                                    94937\n",
       "Nonsteroidal Anti-Inflammatory Agents (NSAIDs)      78008\n",
       "                                                    ...  \n",
       "Internal Vehicle Ingredients/Agents                     1\n",
       "Zinc                                                    1\n",
       "Antacids - Bicarbonate                                  1\n",
       "Antihistamines-Topical                                  1\n",
       "Bulk Chemicals - P's                                    1\n",
       "Name: count, Length: 464, dtype: int64"
      ]
     },
     "execution_count": 288,
     "metadata": {},
     "output_type": "execute_result"
    }
   ],
   "source": [
    "# Check frequencies of drug_group\n",
    "drug_df[\"drug_group\"].value_counts()"
   ]
  },
  {
   "cell_type": "code",
   "execution_count": 289,
   "metadata": {},
   "outputs": [
    {
     "data": {
      "text/plain": [
       "drug_class\n",
       "Hmg CoA Reductase Inhibitors                       147961\n",
       "Selective Serotonin Reuptake Inhibitors (SSRIs)    140335\n",
       "Thyroid Hormones                                    94937\n",
       "Combination Contraceptives - Oral                   91720\n",
       "Anticonvulsants - Misc.                             74351\n",
       "                                                    ...  \n",
       "Keratolytic And/Or Antimitotic Combinations             1\n",
       "Bulk Chemicals - Ca's                                   1\n",
       "Bulk Chemicals - Di's                                   1\n",
       "C1 Inhibitors                                           1\n",
       "Electrolytes & Dextrose                                 1\n",
       "Name: count, Length: 687, dtype: int64"
      ]
     },
     "execution_count": 289,
     "metadata": {},
     "output_type": "execute_result"
    }
   ],
   "source": [
    "# Check frequencies of drug_class\n",
    "drug_df[\"drug_class\"].value_counts()"
   ]
  },
  {
   "cell_type": "markdown",
   "metadata": {},
   "source": [
    "Similar to the earlier section, we collect our thoughts and learnings from the Prescription Drug dataset describing what drugs were filled.\n",
    "\n",
    "- \"record_id\", as suspected share a completely different range of values from the claim_lines dataset's \"record_id\"\n",
    "    - Thus they are simply unique ids for their respective datasets and have no relation\n",
    "- \"member_id\" has a similar range of values as claim_lines dataset's \"member_id\", so there is a high chance thier attribute represents the same info across the two datasets\n",
    "    - This would be a good candidate for the joining strategy\n",
    "- \"date_svc\" ranges from 2013 to 2018, so it is a very different range from claim_lines dataset's \"date_svc\"\n",
    "    - The recommendation still holds that these dates should be assumed to reflect only on their respective datasets, and not recommended to be used as a join key without further understanding.\n",
    "- \"drug_category\" and the \"class\"/\"group\" counterparts similarly reflect a descriptive hierarchy, showing respective counts of 92, 464, and 687.\n",
    "    - For our first iteration and to respect time , we will decide to just consider \"drug_category\" as our grouping\n",
    "        - In typical circumstances with too many groupings, the model may require more compute to determine the categorization especially with compute intensive algorithms.\n",
    "        - Wtth too few groupings, the built model may be too simplistic and requires has much more room to handle a complex problem statement."
   ]
  },
  {
   "cell_type": "markdown",
   "metadata": {},
   "source": [
    "##### Uni-variate EDA Summary / Learnings"
   ]
  },
  {
   "cell_type": "markdown",
   "metadata": {},
   "source": [
    "There were many sections above detailing a brief yet helpful overview of our data. We re-summarize a few major points to make this section easy to reference in one spot.\n",
    "\n",
    "**Rough Joining Strategy**: Drugs.MemberId <-> Claim_lines.MemberId, Claim_lines.diag1 <-> CCS.diag\n",
    "\n",
    "- Remember that we don't know confidently the connection between various \"svc_dates\" we encountered, so we dwon't use this for now.\n",
    "- The Claim_lines to CCS connection requires a small adjustment to either diagnosis column to make them match - by removing/adding the decimal\n",
    "\n",
    "\n",
    "**Model Structure**: It is established our target variable to predict is the health status of the members - we have custom defined this as \"ccs_1_desc\" from the CCS dataset. Our input is likely to be the list of drugs that a member has filled/taken.\n",
    "\n",
    "Because any particular member can have multiple diagnoses and multiple drugs filled, we need to consider the layout of the model's input set. There are likely multiple approaches to accomplishing this, but we can follow the strategy below:\n",
    "\n",
    "- Because our prediction variable can take on mulitiple health conditions/statuses, it should be considered whether each row will predict multiple categories at once, or individual categories in separate rows. \n",
    "    Decision: Mulitple rows for separate health statuses\n",
    "\n",
    "- It should be determined if the uniqueness of the member IDs is relevant here. Since even if the member IDs are masked, the model adequately can run its predictions without caring what member ID is being looked at. In other words, we make an assumption here that members across members are mostly the same as a simplification.\n",
    "    Decision: Don't need to track member IDs, members can show up one or many times in the model input and the model focuses on learning the connection between the drugs and the health statsues and deprioritizes the aspect of members having characteristic differences among each other.\n",
    "\n",
    "- We need to represent in each row the multitude aspect of drugs taken that lead to the health status. So we need to represent our dataset in a form that captures multiple drugs together.\n",
    "    Decision: We can convert our data to indicator variables for each drug (i.e. one column for each drug category, with \"1\" or \"0\" existing in the row-column element if that drug was taken).\n",
    "\n",
    "**Model Considerations**:\n",
    "- Because of the discussed layout, the resulting input dataset can be quite large from the indicator variable refactoring (i.e. a column per drug category). So we may want to pick a first-time algorithm that will compute and execute relatively quickly.\n",
    "- The dataset may be relatively sparse, with many columns having a value of 0. There are issues with a large number of features in a sparse dataset that could be considered.\n",
    "- Because there can be multiple health statuses per member, we would like to have an output with multiple predictions. The idea would be that each health status cateogry has it's own likelihood probability, so we can assess if one or more health statuses are likely to be labeled for the member in question.\n",
    "- Our dataset size is large, so that should alleviate some of our concerned issues to some degree (hopefully).\n",
    "\n",
    "Nice-To-Haves:  \n",
    "With further time, it would be great to spend more time polishing and making nice visuals that could be used as visual aids / references in powerpoints or presentations for stakeholders. There could also be more research done on the questioned data attributes mentioned. Additionally, there may be other better ways to decide how to layout the input dataset for the model. \n",
    "\n",
    "Potential Issues:  \n",
    "We aren't entirely sure if our categorization/binning strategy is optimal. Additionally using indicator variables expands the dataset greatly and may not be optimal for algorithms that greatly increase in compute operations/efficiency with largely sized datasets. Finally, we commented on a seen imbalance in the final health status categories, so the model may not learn evenly especially for the very infrequent health statuses."
   ]
  },
  {
   "cell_type": "markdown",
   "metadata": {},
   "source": [
    "## Bivariate EDA"
   ]
  },
  {
   "cell_type": "markdown",
   "metadata": {},
   "source": [
    "This section will be left skipped, as the duration spent on this assignment is nearing given limit. But we summarize what the intent of this section would have been, and what we would have done.\n",
    "\n",
    "Normally, some datasets have correlated attributes or covariates that play an important part in the behavior and/or outcome within a dataset. Some of these correlations are patterns that can be leveraged to the model's benefit - others which can mislead or throw off the model especially with relevant statistical concepts such as Simpson's Paradox. It's important to be aware of the relationships that exist in the data. \n",
    "    - In our such case, the hierarchical relationships would have been of interest to analyze the breakdown and composition of these attributes with each other.\n",
    "    - Another interesting relationship would be the bivariate relationship between dates and factors such as diagnoses or drugs administered at specific periods.\n",
    "\n",
    "Bivariate EDA also lends to many helpful graphical representation of two variables visually represented together. These commonly reveal some initial key insights that may even still surprise stakeholders on the patterns.\n",
    "    - Analyzing existing Frequencies of Health Statuses and their pairings against the Drug categories, without needing to implement a model\n",
    "    - Analyzing a correlation heatmap of the different pairings of Health Statuses and Drug categories.\n",
    "\n",
    "For now, we have enough guidance to proceed into our model preparation."
   ]
  },
  {
   "cell_type": "markdown",
   "metadata": {},
   "source": [
    "--------------------------------------------------------------------------------------------"
   ]
  },
  {
   "cell_type": "markdown",
   "metadata": {},
   "source": [
    "### Initial / v1 Classification Modelling"
   ]
  },
  {
   "cell_type": "markdown",
   "metadata": {},
   "source": [
    "As discussed up through now from the Opening Remarks section and EDA section, we are set on the type of Model we want to build for our use case: Classification for Health States/Statuses from Existing Drugs Used. \n",
    "\n",
    "Recall a few key insights/points we've gathered that should be accounted for in our modelling (copied from the earlier section):\n",
    "\n",
    "- Because our prediction variable can take on mulitiple health conditions/statuses, it should be considered whether each row will predict multiple categories at once, or individual categories in separate rows. \n",
    "    Decision: Mulitple rows for separate health statuses\n",
    "- It should be determined if the uniqueness of the member IDs is relevant here. Since even if the member IDs are masked, the model adequately can run its predictions without caring what member ID is being looked at. In other words, we make an assumption here that members across members are mostly the same as a simplification.\n",
    "    Decision: Don't need to track member IDs, members can show up one or many times in the model input and the model focuses on learning the connection between the drugs and the health statsues and deprioritizes the aspect of members having characteristic differences among each other.\n",
    "- We need to represent in each row the multitude aspect of drugs taken that lead to the health status. So we need to represent our dataset in a form that captures multiple drugs together.\n",
    "    Decision: We can convert our data to indicator variables for each drug (i.e. one column for each drug category, with \"1\" or \"0\" existing in the row-column element if that drug was taken).\n",
    "\n",
    "- Because of the discussed layout, the resulting input dataset can be quite large from the indicator variable refactoring (i.e. a column per drug category). So we may want to pick a first-time algorithm that will compute and execute relatively quickly.\n",
    "- The dataset may be relatively sparse, with many columns having a value of 0. There are issues with a large number of features in a sparse dataset that could be considered.\n",
    "- Because there can be multiple health statuses per member, we would like to have an output with multiple predictions. The idea would be that each health status cateogry has it's own likelihood probability, so we can assess if one or more health statuses are likely to be labeled for the member in question.\n",
    "- Our dataset size is large, so that should alleviate some of our concerned issues to some degree (hopefully).\n",
    "\n",
    "\n",
    "------------------------------------------------------------------\n",
    "\n",
    "Our Key Steps in the (first-pass) Modelling Phase will be to:\n",
    "\n",
    "- Perform any Data Transformations in the Dataset if necessary. This could either to synthesize/derive additional variables to help the model learn, or to re-design a few attributes so that they are better understood by the model. For example, we mentioned earlier that we will need to implement indicator variable refactoring to represent scenarios involving multiple drugs.\n",
    "\n",
    "- Implement a ML model. Especially in our case, a v1 model's focus is to establish a baseline which is a point that should not be underestimated. It provides a frame of reference for future model implementations and improvements in further iterations. \n",
    "\n",
    "- Be cognizant and aware of the performance of the model, by reviewing the performance metrics. Additionally, consider the non-technical advantages/dis-advantages of the model - interpretation, usability, monitoring, complexity of the results. As a whole, an adoption of the model in the industry greatly relies on the best of both technical and non-technical upsides."
   ]
  },
  {
   "cell_type": "code",
   "execution_count": 290,
   "metadata": {},
   "outputs": [
    {
     "name": "stdout",
     "output_type": "stream",
     "text": [
      "diag\n",
      "A000       4\n",
      "A001       1\n",
      "A009       2\n",
      "A0100      6\n",
      "A020      16\n",
      "          ..\n",
      "Z98891    18\n",
      "Z9911     54\n",
      "Z992      14\n",
      "Z9981      4\n",
      "Z9989      2\n",
      "Name: count, Length: 19845, dtype: int64\n"
     ]
    }
   ],
   "source": [
    "# Based on our earlier mentioned joining strategy, we have enough details to begin combining the data in the datasets\n",
    "\n",
    "# Remove the Decimal in the Claim_lines Dataset Diagnoses\n",
    "claims_df['diag_icd10'] = claims_df['diag1'].str.replace('.','')\n",
    "\n",
    "# Join Claim_lines.diag1 with ccs.diag\n",
    "modelling_df = claims_df.merge(ccs_df[[\"diag\", \"ccs_1_desc\"]], how = \"left\", left_on = \"diag_icd10\", right_on = \"diag\")\n",
    "\n",
    "# Validate that the Joins were mostly successful and if there needs to be further reconciling\n",
    "print(modelling_df[\"diag\"].value_counts().sort_index())\n",
    "\n",
    "# Clean up Columns that won't be used probably\n",
    "modelling_df.drop(columns = [\"record_id\", \"diag_icd10\", \"date_svc\", \"diag\"], inplace = True)\n",
    "\n",
    "\n",
    "# Join Modelling Dataframe with Drug Info now. Note a Member may have multiple drugs, so this will expand the number of rows. \n",
    "# Later, we will re-collapse this once we repivot to indicator variables\n",
    "modelling_df = modelling_df.merge(drug_df[[\"member_id\", \"drug_category\"]], how = \"left\", left_on = \"member_id\", right_on = \"member_id\")\n",
    "\n",
    "# This Process will generate some duplicates, so we make sure drop duplicates that considers ALL columns in the duplicate detection\n",
    "modelling_df.drop_duplicates(inplace = True)\n",
    "\n",
    "# Because we have effectively summarized the exact diagnosis code into its tier 1 description, we no longer need the exact diagnosis code\n",
    "modelling_df.drop(columns = [\"diag1\"], inplace = True)\n",
    "\n",
    "# Then recheck for duplicates\n",
    "modelling_df.drop_duplicates(inplace = True)"
   ]
  },
  {
   "cell_type": "code",
   "execution_count": 291,
   "metadata": {},
   "outputs": [
    {
     "data": {
      "text/html": [
       "<div>\n",
       "<style scoped>\n",
       "    .dataframe tbody tr th:only-of-type {\n",
       "        vertical-align: middle;\n",
       "    }\n",
       "\n",
       "    .dataframe tbody tr th {\n",
       "        vertical-align: top;\n",
       "    }\n",
       "\n",
       "    .dataframe thead th {\n",
       "        text-align: right;\n",
       "    }\n",
       "</style>\n",
       "<table border=\"1\" class=\"dataframe\">\n",
       "  <thead>\n",
       "    <tr style=\"text-align: right;\">\n",
       "      <th></th>\n",
       "      <th>member_id</th>\n",
       "      <th>ccs_1_desc</th>\n",
       "      <th>drug_category</th>\n",
       "    </tr>\n",
       "  </thead>\n",
       "  <tbody>\n",
       "    <tr>\n",
       "      <th>0</th>\n",
       "      <td>M0000001</td>\n",
       "      <td>Diseases of the genitourinary system</td>\n",
       "      <td>Antivirals</td>\n",
       "    </tr>\n",
       "    <tr>\n",
       "      <th>1</th>\n",
       "      <td>M0000001</td>\n",
       "      <td>Complications of pregnancy; childbirth; and th...</td>\n",
       "      <td>Antivirals</td>\n",
       "    </tr>\n",
       "    <tr>\n",
       "      <th>10</th>\n",
       "      <td>M0000001</td>\n",
       "      <td>Certain conditions originating in the perinata...</td>\n",
       "      <td>Antivirals</td>\n",
       "    </tr>\n",
       "    <tr>\n",
       "      <th>15</th>\n",
       "      <td>M0000002</td>\n",
       "      <td>Residual codes; unclassified; all E codes [259...</td>\n",
       "      <td>Vaccines</td>\n",
       "    </tr>\n",
       "    <tr>\n",
       "      <th>17</th>\n",
       "      <td>M0000002</td>\n",
       "      <td>Residual codes; unclassified; all E codes [259...</td>\n",
       "      <td>Tetracyclines</td>\n",
       "    </tr>\n",
       "    <tr>\n",
       "      <th>...</th>\n",
       "      <td>...</td>\n",
       "      <td>...</td>\n",
       "      <td>...</td>\n",
       "    </tr>\n",
       "    <tr>\n",
       "      <th>57461531</th>\n",
       "      <td>M0291613</td>\n",
       "      <td>Diseases of the nervous system and sense organs</td>\n",
       "      <td>Vitamins</td>\n",
       "    </tr>\n",
       "    <tr>\n",
       "      <th>57461533</th>\n",
       "      <td>M0291613</td>\n",
       "      <td>Diseases of the nervous system and sense organs</td>\n",
       "      <td>Antiemetics</td>\n",
       "    </tr>\n",
       "    <tr>\n",
       "      <th>57461534</th>\n",
       "      <td>M0291613</td>\n",
       "      <td>Diseases of the nervous system and sense organs</td>\n",
       "      <td>Antidiabetics</td>\n",
       "    </tr>\n",
       "    <tr>\n",
       "      <th>57461536</th>\n",
       "      <td>M0291613</td>\n",
       "      <td>Diseases of the nervous system and sense organs</td>\n",
       "      <td>Anticonvulsants</td>\n",
       "    </tr>\n",
       "    <tr>\n",
       "      <th>57461537</th>\n",
       "      <td>M0291613</td>\n",
       "      <td>Diseases of the nervous system and sense organs</td>\n",
       "      <td>Antihyperlipidemics</td>\n",
       "    </tr>\n",
       "  </tbody>\n",
       "</table>\n",
       "<p>3748962 rows × 3 columns</p>\n",
       "</div>"
      ],
      "text/plain": [
       "         member_id                                         ccs_1_desc  \\\n",
       "0         M0000001               Diseases of the genitourinary system   \n",
       "1         M0000001  Complications of pregnancy; childbirth; and th...   \n",
       "10        M0000001  Certain conditions originating in the perinata...   \n",
       "15        M0000002  Residual codes; unclassified; all E codes [259...   \n",
       "17        M0000002  Residual codes; unclassified; all E codes [259...   \n",
       "...            ...                                                ...   \n",
       "57461531  M0291613    Diseases of the nervous system and sense organs   \n",
       "57461533  M0291613    Diseases of the nervous system and sense organs   \n",
       "57461534  M0291613    Diseases of the nervous system and sense organs   \n",
       "57461536  M0291613    Diseases of the nervous system and sense organs   \n",
       "57461537  M0291613    Diseases of the nervous system and sense organs   \n",
       "\n",
       "                drug_category  \n",
       "0                  Antivirals  \n",
       "1                  Antivirals  \n",
       "10                 Antivirals  \n",
       "15                   Vaccines  \n",
       "17              Tetracyclines  \n",
       "...                       ...  \n",
       "57461531             Vitamins  \n",
       "57461533          Antiemetics  \n",
       "57461534        Antidiabetics  \n",
       "57461536      Anticonvulsants  \n",
       "57461537  Antihyperlipidemics  \n",
       "\n",
       "[3748962 rows x 3 columns]"
      ]
     },
     "execution_count": 291,
     "metadata": {},
     "output_type": "execute_result"
    }
   ],
   "source": [
    "# Review the Dataset before we repivot it to indicator variables\n",
    "modelling_df"
   ]
  },
  {
   "cell_type": "code",
   "execution_count": 292,
   "metadata": {},
   "outputs": [],
   "source": [
    "# Pivoting such that a new column is generated per drug_category\n",
    "modelling_df = modelling_df.pivot(index=['member_id', 'ccs_1_desc'], columns='drug_category', values = 'drug_category')\n",
    "\n",
    "# Reset the Index so it is a normal dataframe\n",
    "modelling_df = modelling_df.reset_index()\n",
    "\n",
    "# Drop the NaN column, index at 2\n",
    "modelling_df = modelling_df.drop(modelling_df.columns[[2]], axis=1)\n",
    "\n",
    "# We have some nans in our ccs_1_desc column. Its not too many, so we can drop these rows for completeness\n",
    "modelling_df.dropna(subset=['ccs_1_desc'], inplace = True)\n",
    "\n",
    "# Replace nans in our indicator columns in dataframe with 0 (the drug wasn't taken by the member for the associated diagnosis)\n",
    "# Replace otherwise not 0 with 1 (indicating the drug was taken for the member with that particular diagnosis)\n",
    "for indicator_cols in modelling_df.columns.tolist()[2:]:\n",
    "    modelling_df[indicator_cols] = modelling_df[indicator_cols].notnull().astype(int)\n",
    "\n",
    "# We have functionally utilized the member_id as part of the relevant groupings, so we can drop this column now.\n",
    "modelling_df.drop(columns = [\"member_id\"], inplace = True)\n",
    "\n",
    "# Rename the diagnosis column for clarity\n",
    "modelling_df.rename(columns = {'ccs_1_desc':'health_status'}, inplace = True)"
   ]
  },
  {
   "cell_type": "code",
   "execution_count": 293,
   "metadata": {},
   "outputs": [
    {
     "data": {
      "text/html": [
       "<div>\n",
       "<style scoped>\n",
       "    .dataframe tbody tr th:only-of-type {\n",
       "        vertical-align: middle;\n",
       "    }\n",
       "\n",
       "    .dataframe tbody tr th {\n",
       "        vertical-align: top;\n",
       "    }\n",
       "\n",
       "    .dataframe thead th {\n",
       "        text-align: right;\n",
       "    }\n",
       "</style>\n",
       "<table border=\"1\" class=\"dataframe\">\n",
       "  <thead>\n",
       "    <tr style=\"text-align: right;\">\n",
       "      <th>drug_category</th>\n",
       "      <th>health_status</th>\n",
       "      <th>Adhd/Anti-narcolepsy/Anti-obesity/Anorexiants</th>\n",
       "      <th>Allergenic Extracts/Biologicals Misc</th>\n",
       "      <th>Alternative Medicines</th>\n",
       "      <th>Aminoglycosides</th>\n",
       "      <th>Analgesics - Anti-Inflammatory</th>\n",
       "      <th>Analgesics - NonNarcotic</th>\n",
       "      <th>Analgesics - Opioid</th>\n",
       "      <th>Androgens-Anabolic</th>\n",
       "      <th>Anorectal Agents</th>\n",
       "      <th>...</th>\n",
       "      <th>Tetracyclines</th>\n",
       "      <th>Thyroid Agents</th>\n",
       "      <th>Toxoids</th>\n",
       "      <th>Ulcer Drugs</th>\n",
       "      <th>Urinary Anti-Infectives</th>\n",
       "      <th>Urinary Antispasmodics</th>\n",
       "      <th>Vaccines</th>\n",
       "      <th>Vaginal Products</th>\n",
       "      <th>Vasopressors</th>\n",
       "      <th>Vitamins</th>\n",
       "    </tr>\n",
       "  </thead>\n",
       "  <tbody>\n",
       "    <tr>\n",
       "      <th>0</th>\n",
       "      <td>Certain conditions originating in the perinata...</td>\n",
       "      <td>0</td>\n",
       "      <td>0</td>\n",
       "      <td>0</td>\n",
       "      <td>0</td>\n",
       "      <td>0</td>\n",
       "      <td>0</td>\n",
       "      <td>0</td>\n",
       "      <td>0</td>\n",
       "      <td>0</td>\n",
       "      <td>...</td>\n",
       "      <td>0</td>\n",
       "      <td>0</td>\n",
       "      <td>0</td>\n",
       "      <td>0</td>\n",
       "      <td>0</td>\n",
       "      <td>0</td>\n",
       "      <td>0</td>\n",
       "      <td>0</td>\n",
       "      <td>0</td>\n",
       "      <td>0</td>\n",
       "    </tr>\n",
       "    <tr>\n",
       "      <th>1</th>\n",
       "      <td>Complications of pregnancy; childbirth; and th...</td>\n",
       "      <td>0</td>\n",
       "      <td>0</td>\n",
       "      <td>0</td>\n",
       "      <td>0</td>\n",
       "      <td>0</td>\n",
       "      <td>0</td>\n",
       "      <td>0</td>\n",
       "      <td>0</td>\n",
       "      <td>0</td>\n",
       "      <td>...</td>\n",
       "      <td>0</td>\n",
       "      <td>0</td>\n",
       "      <td>0</td>\n",
       "      <td>0</td>\n",
       "      <td>0</td>\n",
       "      <td>0</td>\n",
       "      <td>0</td>\n",
       "      <td>0</td>\n",
       "      <td>0</td>\n",
       "      <td>0</td>\n",
       "    </tr>\n",
       "    <tr>\n",
       "      <th>2</th>\n",
       "      <td>Diseases of the genitourinary system</td>\n",
       "      <td>0</td>\n",
       "      <td>0</td>\n",
       "      <td>0</td>\n",
       "      <td>0</td>\n",
       "      <td>0</td>\n",
       "      <td>0</td>\n",
       "      <td>0</td>\n",
       "      <td>0</td>\n",
       "      <td>0</td>\n",
       "      <td>...</td>\n",
       "      <td>0</td>\n",
       "      <td>0</td>\n",
       "      <td>0</td>\n",
       "      <td>0</td>\n",
       "      <td>0</td>\n",
       "      <td>0</td>\n",
       "      <td>0</td>\n",
       "      <td>0</td>\n",
       "      <td>0</td>\n",
       "      <td>0</td>\n",
       "    </tr>\n",
       "    <tr>\n",
       "      <th>3</th>\n",
       "      <td>Diseases of the circulatory system</td>\n",
       "      <td>0</td>\n",
       "      <td>0</td>\n",
       "      <td>0</td>\n",
       "      <td>0</td>\n",
       "      <td>1</td>\n",
       "      <td>0</td>\n",
       "      <td>0</td>\n",
       "      <td>0</td>\n",
       "      <td>0</td>\n",
       "      <td>...</td>\n",
       "      <td>1</td>\n",
       "      <td>0</td>\n",
       "      <td>0</td>\n",
       "      <td>0</td>\n",
       "      <td>0</td>\n",
       "      <td>0</td>\n",
       "      <td>1</td>\n",
       "      <td>0</td>\n",
       "      <td>0</td>\n",
       "      <td>0</td>\n",
       "    </tr>\n",
       "    <tr>\n",
       "      <th>4</th>\n",
       "      <td>Mental Illness</td>\n",
       "      <td>0</td>\n",
       "      <td>0</td>\n",
       "      <td>0</td>\n",
       "      <td>0</td>\n",
       "      <td>1</td>\n",
       "      <td>0</td>\n",
       "      <td>0</td>\n",
       "      <td>0</td>\n",
       "      <td>0</td>\n",
       "      <td>...</td>\n",
       "      <td>1</td>\n",
       "      <td>0</td>\n",
       "      <td>0</td>\n",
       "      <td>0</td>\n",
       "      <td>0</td>\n",
       "      <td>0</td>\n",
       "      <td>1</td>\n",
       "      <td>0</td>\n",
       "      <td>0</td>\n",
       "      <td>0</td>\n",
       "    </tr>\n",
       "    <tr>\n",
       "      <th>...</th>\n",
       "      <td>...</td>\n",
       "      <td>...</td>\n",
       "      <td>...</td>\n",
       "      <td>...</td>\n",
       "      <td>...</td>\n",
       "      <td>...</td>\n",
       "      <td>...</td>\n",
       "      <td>...</td>\n",
       "      <td>...</td>\n",
       "      <td>...</td>\n",
       "      <td>...</td>\n",
       "      <td>...</td>\n",
       "      <td>...</td>\n",
       "      <td>...</td>\n",
       "      <td>...</td>\n",
       "      <td>...</td>\n",
       "      <td>...</td>\n",
       "      <td>...</td>\n",
       "      <td>...</td>\n",
       "      <td>...</td>\n",
       "      <td>...</td>\n",
       "    </tr>\n",
       "    <tr>\n",
       "      <th>712567</th>\n",
       "      <td>Diseases of the musculoskeletal system and con...</td>\n",
       "      <td>0</td>\n",
       "      <td>0</td>\n",
       "      <td>0</td>\n",
       "      <td>0</td>\n",
       "      <td>0</td>\n",
       "      <td>0</td>\n",
       "      <td>0</td>\n",
       "      <td>0</td>\n",
       "      <td>0</td>\n",
       "      <td>...</td>\n",
       "      <td>0</td>\n",
       "      <td>1</td>\n",
       "      <td>0</td>\n",
       "      <td>0</td>\n",
       "      <td>0</td>\n",
       "      <td>0</td>\n",
       "      <td>0</td>\n",
       "      <td>0</td>\n",
       "      <td>0</td>\n",
       "      <td>0</td>\n",
       "    </tr>\n",
       "    <tr>\n",
       "      <th>712568</th>\n",
       "      <td>Diseases of the musculoskeletal system and con...</td>\n",
       "      <td>0</td>\n",
       "      <td>0</td>\n",
       "      <td>0</td>\n",
       "      <td>0</td>\n",
       "      <td>0</td>\n",
       "      <td>0</td>\n",
       "      <td>0</td>\n",
       "      <td>0</td>\n",
       "      <td>0</td>\n",
       "      <td>...</td>\n",
       "      <td>0</td>\n",
       "      <td>0</td>\n",
       "      <td>0</td>\n",
       "      <td>0</td>\n",
       "      <td>0</td>\n",
       "      <td>0</td>\n",
       "      <td>0</td>\n",
       "      <td>0</td>\n",
       "      <td>0</td>\n",
       "      <td>1</td>\n",
       "    </tr>\n",
       "    <tr>\n",
       "      <th>712569</th>\n",
       "      <td>Diseases of the nervous system and sense organs</td>\n",
       "      <td>0</td>\n",
       "      <td>0</td>\n",
       "      <td>0</td>\n",
       "      <td>0</td>\n",
       "      <td>0</td>\n",
       "      <td>0</td>\n",
       "      <td>0</td>\n",
       "      <td>0</td>\n",
       "      <td>0</td>\n",
       "      <td>...</td>\n",
       "      <td>0</td>\n",
       "      <td>0</td>\n",
       "      <td>0</td>\n",
       "      <td>0</td>\n",
       "      <td>0</td>\n",
       "      <td>0</td>\n",
       "      <td>0</td>\n",
       "      <td>0</td>\n",
       "      <td>0</td>\n",
       "      <td>1</td>\n",
       "    </tr>\n",
       "    <tr>\n",
       "      <th>712570</th>\n",
       "      <td>Endocrine; nutritional; and metabolic diseases...</td>\n",
       "      <td>0</td>\n",
       "      <td>0</td>\n",
       "      <td>0</td>\n",
       "      <td>0</td>\n",
       "      <td>0</td>\n",
       "      <td>0</td>\n",
       "      <td>0</td>\n",
       "      <td>0</td>\n",
       "      <td>0</td>\n",
       "      <td>...</td>\n",
       "      <td>0</td>\n",
       "      <td>0</td>\n",
       "      <td>0</td>\n",
       "      <td>0</td>\n",
       "      <td>0</td>\n",
       "      <td>0</td>\n",
       "      <td>0</td>\n",
       "      <td>0</td>\n",
       "      <td>0</td>\n",
       "      <td>1</td>\n",
       "    </tr>\n",
       "    <tr>\n",
       "      <th>712571</th>\n",
       "      <td>Symptoms; signs; and ill-defined conditions an...</td>\n",
       "      <td>0</td>\n",
       "      <td>0</td>\n",
       "      <td>0</td>\n",
       "      <td>0</td>\n",
       "      <td>0</td>\n",
       "      <td>0</td>\n",
       "      <td>0</td>\n",
       "      <td>0</td>\n",
       "      <td>0</td>\n",
       "      <td>...</td>\n",
       "      <td>0</td>\n",
       "      <td>0</td>\n",
       "      <td>0</td>\n",
       "      <td>0</td>\n",
       "      <td>0</td>\n",
       "      <td>0</td>\n",
       "      <td>0</td>\n",
       "      <td>0</td>\n",
       "      <td>0</td>\n",
       "      <td>1</td>\n",
       "    </tr>\n",
       "  </tbody>\n",
       "</table>\n",
       "<p>712241 rows × 93 columns</p>\n",
       "</div>"
      ],
      "text/plain": [
       "drug_category                                      health_status  \\\n",
       "0              Certain conditions originating in the perinata...   \n",
       "1              Complications of pregnancy; childbirth; and th...   \n",
       "2                           Diseases of the genitourinary system   \n",
       "3                             Diseases of the circulatory system   \n",
       "4                                                 Mental Illness   \n",
       "...                                                          ...   \n",
       "712567         Diseases of the musculoskeletal system and con...   \n",
       "712568         Diseases of the musculoskeletal system and con...   \n",
       "712569           Diseases of the nervous system and sense organs   \n",
       "712570         Endocrine; nutritional; and metabolic diseases...   \n",
       "712571         Symptoms; signs; and ill-defined conditions an...   \n",
       "\n",
       "drug_category  Adhd/Anti-narcolepsy/Anti-obesity/Anorexiants  \\\n",
       "0                                                          0   \n",
       "1                                                          0   \n",
       "2                                                          0   \n",
       "3                                                          0   \n",
       "4                                                          0   \n",
       "...                                                      ...   \n",
       "712567                                                     0   \n",
       "712568                                                     0   \n",
       "712569                                                     0   \n",
       "712570                                                     0   \n",
       "712571                                                     0   \n",
       "\n",
       "drug_category  Allergenic Extracts/Biologicals Misc  Alternative Medicines  \\\n",
       "0                                                 0                      0   \n",
       "1                                                 0                      0   \n",
       "2                                                 0                      0   \n",
       "3                                                 0                      0   \n",
       "4                                                 0                      0   \n",
       "...                                             ...                    ...   \n",
       "712567                                            0                      0   \n",
       "712568                                            0                      0   \n",
       "712569                                            0                      0   \n",
       "712570                                            0                      0   \n",
       "712571                                            0                      0   \n",
       "\n",
       "drug_category  Aminoglycosides  Analgesics - Anti-Inflammatory  \\\n",
       "0                            0                               0   \n",
       "1                            0                               0   \n",
       "2                            0                               0   \n",
       "3                            0                               1   \n",
       "4                            0                               1   \n",
       "...                        ...                             ...   \n",
       "712567                       0                               0   \n",
       "712568                       0                               0   \n",
       "712569                       0                               0   \n",
       "712570                       0                               0   \n",
       "712571                       0                               0   \n",
       "\n",
       "drug_category  Analgesics - NonNarcotic  Analgesics - Opioid  \\\n",
       "0                                     0                    0   \n",
       "1                                     0                    0   \n",
       "2                                     0                    0   \n",
       "3                                     0                    0   \n",
       "4                                     0                    0   \n",
       "...                                 ...                  ...   \n",
       "712567                                0                    0   \n",
       "712568                                0                    0   \n",
       "712569                                0                    0   \n",
       "712570                                0                    0   \n",
       "712571                                0                    0   \n",
       "\n",
       "drug_category  Androgens-Anabolic  Anorectal Agents  ...  Tetracyclines  \\\n",
       "0                               0                 0  ...              0   \n",
       "1                               0                 0  ...              0   \n",
       "2                               0                 0  ...              0   \n",
       "3                               0                 0  ...              1   \n",
       "4                               0                 0  ...              1   \n",
       "...                           ...               ...  ...            ...   \n",
       "712567                          0                 0  ...              0   \n",
       "712568                          0                 0  ...              0   \n",
       "712569                          0                 0  ...              0   \n",
       "712570                          0                 0  ...              0   \n",
       "712571                          0                 0  ...              0   \n",
       "\n",
       "drug_category  Thyroid Agents  Toxoids  Ulcer Drugs  Urinary Anti-Infectives  \\\n",
       "0                           0        0            0                        0   \n",
       "1                           0        0            0                        0   \n",
       "2                           0        0            0                        0   \n",
       "3                           0        0            0                        0   \n",
       "4                           0        0            0                        0   \n",
       "...                       ...      ...          ...                      ...   \n",
       "712567                      1        0            0                        0   \n",
       "712568                      0        0            0                        0   \n",
       "712569                      0        0            0                        0   \n",
       "712570                      0        0            0                        0   \n",
       "712571                      0        0            0                        0   \n",
       "\n",
       "drug_category  Urinary Antispasmodics  Vaccines  Vaginal Products  \\\n",
       "0                                   0         0                 0   \n",
       "1                                   0         0                 0   \n",
       "2                                   0         0                 0   \n",
       "3                                   0         1                 0   \n",
       "4                                   0         1                 0   \n",
       "...                               ...       ...               ...   \n",
       "712567                              0         0                 0   \n",
       "712568                              0         0                 0   \n",
       "712569                              0         0                 0   \n",
       "712570                              0         0                 0   \n",
       "712571                              0         0                 0   \n",
       "\n",
       "drug_category  Vasopressors  Vitamins  \n",
       "0                         0         0  \n",
       "1                         0         0  \n",
       "2                         0         0  \n",
       "3                         0         0  \n",
       "4                         0         0  \n",
       "...                     ...       ...  \n",
       "712567                    0         0  \n",
       "712568                    0         1  \n",
       "712569                    0         1  \n",
       "712570                    0         1  \n",
       "712571                    0         1  \n",
       "\n",
       "[712241 rows x 93 columns]"
      ]
     },
     "execution_count": 293,
     "metadata": {},
     "output_type": "execute_result"
    }
   ],
   "source": [
    "# Review the modelling dataframe up until now\n",
    "modelling_df"
   ]
  },
  {
   "cell_type": "markdown",
   "metadata": {},
   "source": [
    "### Theoretical Modelling Steps / Future Steps & Extensions\n",
    "\n",
    "At this point in the assessment, we've reached the respected limit for the assessment. However, this section will be dedicated to the following explanations:\n",
    "\n",
    "##### How Our Final Model Dataset Expresses the Problem Statement: \n",
    "\n",
    "Our final Dataset depicts the combinations of drugs seen administered associated for any particular health status. The definitions were presented in our earlier section of model preparation. In technical terms - for any data row, we can establish particular health status and the drugs that were given to an individual with that health status. **This is an adequate layout for providing model predictive inputs (which drugs were used and which weren't) to predict a model classification (what health status we would anticipate or expect).** It is additionally fitting in that we could supply any kind of new or sample data, and could be applied easily to this dataset's form. The member ids were used for groupings to associate the required groupings, but effectively are not predictive as a trait itself and thus dropped in the final step of the model dataset preparation.\n",
    "\n",
    "##### What Model we would potentially employ, and why.\n",
    "\n",
    "There is a wide portfolio of classification models that would be tried here. We also identified that this is a supervised learning problem, with historical \"true\" labels we have acess to. Due to our desire of explainability as well as reasonable runtime, we could try a relatively robust model type such as Random Forests or XGBoosted Trees. The next steps would be to implement the related model code, train it with our dataset here, and assess its performance on test data (either set aside from the original dataset, or brand new data). Depending on the performance, there could be future iterations to continue improvements and utilize it for real predictions as described in the problem statement.\n",
    "\n",
    "Advantages/Fit For This Problem Statement:\n",
    "- Tree Models are easy to interpret, as they visually represent how humans think similarly in tree forms.\n",
    "- Tree Models are quite accurate for a first-choice model, as supported by many online documentations https://www.kaggle.com/datasets/kaggle/kaggle-blog-winners-posts/code\n",
    "- They compute relatively fast with better modern compute resources and more efficient packages that continue to release.\n",
    "- There is not a ton of hyperparameter requirements as compared to something like neural networks.\n",
    "\n",
    "Disadvantages/Concerns for this Problem Statement:\n",
    "- The Tree Model may react strangely to the extreme sparse nature of the dataset\n",
    "- There are many columns, which could greatly increase the runtime beyond what we could hope.\n",
    "- The categorization assumptions we have utilized may be too simple for what an optimal solution could entail.\n",
    "- Visually it may be hard to generate trees for explanations or stakeholder interaction, with many different tree decision points from all the columns.\n",
    "\n",
    "##### Other Extension/Explorative steps & Ideas\n",
    "\n",
    "We re-summarize some areas of improvement and reasonable future steps if there was more time and/or this project was on a larger scope/scale.\n",
    "\n",
    "- We made multiple decisions & assumptions related on choosing relatively easy categorizations. With further data exploration, we could find a more ideal way of expressing both the drug categories and/or the health statuses that we are trying to predict.\n",
    "- Once we have a baseline model, it would be great to try alterative model algorithms and compare if the performance improves or is not as strong.\n",
    "- We could reshape the dataset in an alternative way that is still adequate for a model input, and see if the model improves on performance here.\n",
    "- For most classification models, there are metrics on evaluating the model performance. We had not talked about that in this assessment, but such metrics would include aspects such as misclassification rate, sensitivity/specificity, etc.\n",
    "- It would be a strong consideration to explore if there are other datasets that could supplement the information here."
   ]
  },
  {
   "cell_type": "code",
   "execution_count": null,
   "metadata": {},
   "outputs": [],
   "source": []
  }
 ],
 "metadata": {
  "kernelspec": {
   "display_name": "base",
   "language": "python",
   "name": "python3"
  },
  "language_info": {
   "codemirror_mode": {
    "name": "ipython",
    "version": 3
   },
   "file_extension": ".py",
   "mimetype": "text/x-python",
   "name": "python",
   "nbconvert_exporter": "python",
   "pygments_lexer": "ipython3",
   "version": "3.11.5"
  }
 },
 "nbformat": 4,
 "nbformat_minor": 2
}
