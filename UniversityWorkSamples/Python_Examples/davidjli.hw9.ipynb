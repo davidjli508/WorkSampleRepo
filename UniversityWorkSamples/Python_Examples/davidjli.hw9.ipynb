{
 "cells": [
  {
   "cell_type": "markdown",
   "metadata": {},
   "source": [
    "Stats701 Homework 9  \n",
    "Written by: David Li  \n",
    "\n",
    "Consulted Huan Tan and Yingdan Zhang about general approach tips\n",
    "\n",
    "    \n",
    "# Part 1: Counting Words with mrjob  \n",
    "Time Spent: About 2 hours"
   ]
  },
  {
   "cell_type": "markdown",
   "metadata": {},
   "source": [
    "Question 1: Writing an mrjob that counts how many times each words occurs in text"
   ]
  },
  {
   "cell_type": "raw",
   "metadata": {},
   "source": [
    "mrjob code will be saved to warmupcount.py, snippet below:\n",
    "-------------------------------------------------------------\n",
    "\n",
    "from mrjob.job import MRJob\n",
    "import re\n",
    "\n",
    "# Regex to find words\n",
    "WORD_RE = re.compile(r\"[\\w']+\")\n",
    "\n",
    "# mrjob function, including map combine and reduce\n",
    "class MRCountWordFreq(MRJob):\n",
    "\n",
    "    # take care of the case-sensitivity here\n",
    "    def mapper(self, _, line):\n",
    "        for word in WORD_RE.findall(line):\n",
    "            yield (word.lower(), 1)\n",
    "\n",
    "    # sum the counts\n",
    "    def combiner(self, word, counts):\n",
    "        yield (word, sum(counts))\n",
    "\n",
    "    # sum the counts\n",
    "    def reducer(self, word, counts):\n",
    "        yield (word, sum(counts))\n",
    "\n",
    "if __name__ == '__main__':\n",
    "    MRCountWordFreq.run()"
   ]
  },
  {
   "cell_type": "markdown",
   "metadata": {},
   "source": [
    "Question 2: Testing on simple.txt, as a sample test case"
   ]
  },
  {
   "cell_type": "raw",
   "metadata": {},
   "source": [
    "# Assume simple.txt is already downloaded\n",
    "\n",
    "# This is on the local machine, through command line\n",
    "python3 warmupcount.py simple.txt > simple_word_counts.txt"
   ]
  },
  {
   "cell_type": "markdown",
   "metadata": {},
   "source": [
    "Question 3: Run job on moby_dick.txt, save as word_counts.txt"
   ]
  },
  {
   "cell_type": "raw",
   "metadata": {},
   "source": [
    "# On Local Machine, to scp to fladoop server\n",
    "scp warmupcount.py davidjli@flux-hadoop-login.arc-ts.umich.edu:/home/davidjli/Stats701/Homework9\n",
    "\n",
    "# Now on fladoop server\n",
    "python warmupcount.py -r hadoop hdfs:///var/stat701w18/moby_dick.txt > word_counts.txt\n",
    "\n",
    "# On local machine, to scp back to local machine to attach and view output\n",
    "scp davidjli@flux-hadoop-login.arc-ts.umich.edu:/home/davidjli/Stats701/Homework9/word_counts.txt ~/Desktop/School/Stats701/Homework9/"
   ]
  },
  {
   "cell_type": "markdown",
   "metadata": {},
   "source": [
    "Question 4: Plot of word frequencies on log-log scale for word_counts.txt"
   ]
  },
  {
   "cell_type": "code",
   "execution_count": 7,
   "metadata": {},
   "outputs": [
    {
     "data": {
      "image/png": "[encoded data removed]",
      "text/plain": [
       "<Figure size 432x288 with 1 Axes>"
      ]
     },
     "metadata": {},
     "output_type": "display_data"
    }
   ],
   "source": [
    "import matplotlib.pyplot as plt\n",
    "import pandas as pd\n",
    "import numpy as np\n",
    "\n",
    "%matplotlib inline\n",
    "\n",
    "# First Read in the File\n",
    "wordfreqs = pd.read_csv(\"word_counts.txt\",delimiter=\"\\t\",header=None, names = ['word','count'])\n",
    "\n",
    "# Sort by descending order due to rank specification\n",
    "wordfreqs=wordfreqs.sort_values('count',ascending = False)\n",
    "\n",
    "# Clean-up\n",
    "wordfreqs=wordfreqs.reset_index()\n",
    "\n",
    "# Generate log counts and log ranks\n",
    "wordfreqs['log(count)']=np.log(wordfreqs['count'])\n",
    "\n",
    "wordfreqs['log(ranks)']=list(1 + wordfreqs.index)\n",
    "wordfreqs['log(ranks)']=np.log(wordfreqs['log(ranks)'])\n",
    "\n",
    "# Generate the log-log plot\n",
    "wordfreqs.plot(y='log(count)',x='log(ranks)')\n",
    "plt.title(\"Zipf Plot of Word Frequencies in Moby Dick\")\n",
    "plt.xlabel(\"log(Ranks of Words)\")\n",
    "plt.ylabel(\"log(Counts of Words)\")\n",
    "plt.show()"
   ]
  },
  {
   "cell_type": "markdown",
   "metadata": {},
   "source": [
    "Question 5: Comments about the plot of word frequencies"
   ]
  },
  {
   "cell_type": "markdown",
   "metadata": {},
   "source": [
    "Zipf's law says that the log-log relationship between word frequency and frequency rank should be about linear. Looking at this graph, it does look consistent with and demonstrates Zipf's law pretty well; line is fairly linear."
   ]
  },
  {
   "cell_type": "markdown",
   "metadata": {},
   "source": [
    "# Part 2: Computing Sample Statistics with mrjob  \n",
    "Time Spent: About 4 hours"
   ]
  },
  {
   "cell_type": "markdown",
   "metadata": {},
   "source": [
    "Question 1: Writing mr_summary_stats.py that outputs summary statistic tuples"
   ]
  },
  {
   "cell_type": "raw",
   "metadata": {},
   "source": [
    "mrjob code will be saved to mr_summary_stats.py, snippet below\n",
    "--------------------------------------------------------------\n",
    "from mrjob.job import MRJob\n",
    "from functools import reduce\n",
    "\n",
    "class MRSummStats(MRJob):\n",
    "\n",
    "    # We should first split the class label and value, to work on them separately\n",
    "    def mapper(self, _, line):\n",
    "        separate = line.split()\n",
    "        yield (int(separate[0]), float(separate[1]))\n",
    "\n",
    "    # Then compute the # of samples, sample mean, sample variance (dividing by n)\n",
    "    def reducer(self, label, values):\n",
    "\n",
    "        # The values themselves\n",
    "        vals = list(values)\n",
    "\n",
    "        # Total number of samples\n",
    "        numsamp = len(vals)\n",
    "\n",
    "        # Mean\n",
    "        mean = ((reduce(lambda x, y: x + y, vals, 0)) / numsamp)\n",
    "\n",
    "        # Variance, dividing by n\n",
    "        var = (sum([(x - mean) ** 2 for x in vals]) / numsamp)\n",
    "\n",
    "        # Return 4-tuple of statistics\n",
    "        yield (label, (numsamp, mean, var))\n",
    "\n",
    "if __name__ == '__main__':\n",
    "    MRSummStats.run()"
   ]
  },
  {
   "cell_type": "markdown",
   "metadata": {},
   "source": [
    "Question 2: Testing program on a smaller file, write output"
   ]
  },
  {
   "cell_type": "raw",
   "metadata": {},
   "source": [
    "# Assume populations_small.txt is already downloaded\n",
    "\n",
    "# On Local Machine\n",
    "python3 mr_summary_stats.py populations_small.txt > summary_small.txt                             "
   ]
  },
  {
   "cell_type": "markdown",
   "metadata": {},
   "source": [
    "Question 3: Use program on larger file, write output"
   ]
  },
  {
   "cell_type": "raw",
   "metadata": {},
   "source": [
    "# On Local machine, upload to fladoop server the mr_summary_stats.py file\n",
    "scp mr_summary_stats.py davidjli@flux-hadoop-login.arc-ts.umich.edu:/home/davidjli/Stats701/Homework9/                                                        \n",
    "# On Fladoop server, run on larger populations file\n",
    "python mr_summary_stats.py -r hadoop hdfs:///var/stat701w18/populations_large.txt > summary_large.txt\n",
    "\n",
    "# On Local machine, bring the file to local machine for attaching and viewing\n",
    "scp davidjli@flux-hadoop-login.arc-ts.umich.edu:/home/davidjli/Stats701/Homework9/summary_large.txt ~/Desktop/School/Stats701/Homework9/"
   ]
  },
  {
   "cell_type": "markdown",
   "metadata": {},
   "source": [
    "Question 4: Display 95% Confidence Intervals for sample means of populations"
   ]
  },
  {
   "cell_type": "code",
   "execution_count": 8,
   "metadata": {},
   "outputs": [
    {
     "data": {
      "image/png": "[encoded data removed]",
      "text/plain": [
       "<Figure size 432x288 with 1 Axes>"
      ]
     },
     "metadata": {},
     "output_type": "display_data"
    }
   ],
   "source": [
    "from scipy import stats\n",
    "import math\n",
    "\n",
    "# Some constants, used for the confidence intervals\n",
    "zmul = stats.norm.ppf(0.975)\n",
    "\n",
    "# Some lists, to store values in a way to input into the plot requirements\n",
    "populationlabels = []\n",
    "meanlist=[]\n",
    "errormarginlist=[]\n",
    "\n",
    "# Open the File, and parse the data\n",
    "summfile = open(\"summary_large.txt\")\n",
    "for line in summfile:\n",
    "    populationlabels.append(int(line.split()[0]))\n",
    "    meanlist.append(float(line.split()[2][:-1]))\n",
    "    errormarginlist.append(zmul * math.sqrt(float(line.split()[3][:-1]))/math.sqrt(float(line.split()[1][1:-1])))\n",
    "\n",
    "# Turn into pandas series for usable structure\n",
    "populationlabels = pd.Series(populationlabels)\n",
    "meanlist = pd.Series(meanlist)\n",
    "errormarginlist = pd.Series(errormarginlist)\n",
    "\n",
    "# Plot, by class label\n",
    "plt.errorbar(x = populationlabels,y = meanlist, xerr=0.3, yerr=errormarginlist, fmt = 'x')\n",
    "plt.xlabel(\"Class Label\")\n",
    "plt.ylabel(\"Confidence Interval\")\n",
    "plt.title(\"95% CI for Sample Means (Grouped by Class Labels)\")\n",
    "plt.show()"
   ]
  },
  {
   "cell_type": "markdown",
   "metadata": {},
   "source": [
    "# Part 3: Graph Processing  \n",
    "Time Spent: About 6 hours"
   ]
  },
  {
   "cell_type": "markdown",
   "metadata": {},
   "source": [
    "Question 1: PySpark job of list of triangles"
   ]
  },
  {
   "cell_type": "raw",
   "metadata": {},
   "source": [
    "PySpark job saved as count_triangles.py, snippet below\n",
    "-------------------------------------------------------\n",
    "from pyspark import SparkConf, SparkContext\n",
    "import sys\n",
    "\n",
    "# Check for valid inputs, exit if issue\n",
    "if len(sys.argv) != 3:\n",
    "    print(\"Usage: \" + sys.argv[0] + \"<in> <out>\")\n",
    "    sys.exit(1)\n",
    "\n",
    "# Describe the locations of the input and output\n",
    "input_location = sys.argv[1]\n",
    "output_location = sys.argv[2]\n",
    "\n",
    "# Some Setup\n",
    "conf = SparkConf().setAppName(\"CountTriangles\")\n",
    "sc = SparkContext(conf=conf)\n",
    "\n",
    "# Look for file, and process it as described by specification\n",
    "data = sc.textFile(input_location)\n",
    "\n",
    "# First split the data so we can work with the components individually\n",
    "splitdata = data.map(lambda x: [int(n) for n in x.split()])\n",
    "\n",
    "# A triangle is defined as the sorted group of 3 nodes\n",
    "triangle = splitdata.flatMap(lambda x: [tuple(sorted([x[0], x[i], x[j]])) for i in range(1, len(x)) for j in range(1, len(x)) if i<j])\n",
    "\n",
    "# Then count how many total triangles existed\n",
    "trinum = triangle.map(lambda x: (x, 1)).reduceByKey(lambda x, y: x + y)\n",
    "\n",
    "# Filter as specified\n",
    "answer = trinum.filter(lambda x: x[1] >= 2).map(lambda x: x[0])\n",
    "\n",
    "answer.saveAsTextFile(output_location)\n",
    "sc.stop()"
   ]
  },
  {
   "cell_type": "markdown",
   "metadata": {},
   "source": [
    "Question 2: Run on smaller test, save and include file"
   ]
  },
  {
   "cell_type": "raw",
   "metadata": {},
   "source": [
    "# On local machine, transfer the PySpark job to fladoop server\n",
    "scp count_triangles.py davidjli@flux-hadoop-login.arc-ts.umich.edu:/home/davidjli/Stats701/Homework9/                                                         \n",
    "# On fladoop, Run through Spark\n",
    "spark-submit --master yarn --queue teaching count_triangles.py hdfs:///var/stat701w18/fof/friends.simple smalltri \n",
    "hdfs dfs -cat smalltri/* > small_triangle_list.txt \n",
    "\n",
    "# On local machine, transfer the Pyspark output from fladoop to local machine for saving and viewing\n",
    "scp davidjli@flux-hadoop-login.arc-ts.umich.edu:/home/davidjli/Stats701/Homework9/small_triangle_list.txt ~/Desktop/School/Stats701/Homework9/\n"
   ]
  },
  {
   "cell_type": "markdown",
   "metadata": {},
   "source": [
    "There were 6 triangles in small_triangle_list.txt"
   ]
  },
  {
   "cell_type": "markdown",
   "metadata": {},
   "source": [
    "Question 3: Run on larger data, save and include file"
   ]
  },
  {
   "cell_type": "raw",
   "metadata": {},
   "source": [
    "# On fladoop, Run through Spark\n",
    "spark-submit --master yarn --queue teaching count_triangles.py hdfs:///var/stat701w18/fof/friends1000 bigtri\n",
    "hdfs dfs -cat bigtri/* > big_triangle_list.txt \n",
    "\n",
    "# On local machine, transfer the Pyspark output from fladoop to local machine for saving and viewing\n",
    "scp davidjli@flux-hadoop-login.arc-ts.umich.edu:/home/davidjli/Stats701/Homework9/big_triangle_list.txt ~/Desktop/School/Stats701/Homework9/"
   ]
  },
  {
   "cell_type": "code",
   "execution_count": null,
   "metadata": {},
   "outputs": [],
   "source": []
  }
 ],
 "metadata": {
  "kernelspec": {
   "display_name": "Python 3",
   "language": "python",
   "name": "python3"
  },
  "language_info": {
   "codemirror_mode": {
    "name": "ipython",
    "version": 3
   },
   "file_extension": ".py",
   "mimetype": "text/x-python",
   "name": "python",
   "nbconvert_exporter": "python",
   "pygments_lexer": "ipython3",
   "version": "3.5.2"
  }
 },
 "nbformat": 4,
 "nbformat_minor": 2
}
