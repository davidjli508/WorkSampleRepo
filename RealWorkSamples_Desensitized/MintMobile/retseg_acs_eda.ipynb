{
 "cells": [
  {
   "cell_type": "code",
   "execution_count": null,
   "metadata": {},
   "outputs": [],
   "source": [
    "import numpy as np\n",
    "import pandas as pd\n",
    "import snowflake.connector as snow\n",
    "from snowflake.connector import pandas_tools\n",
    "import matplotlib.pyplot as plt\n",
    "from itertools import product\n",
    "import seaborn as sns"
   ]
  },
  {
   "cell_type": "code",
   "execution_count": null,
   "metadata": {},
   "outputs": [],
   "source": [
    "# ACS Variables List to Iterate\n",
    "acs_vars_list = ['CHURNED_SUB_FLAG', 'ACS_TOTAL_POP',\n",
    "       'ACS_F_TOTAL_POP_PROP', 'ACS_M_TOTAL_POP_PROP', 'ACS_OVER_65_PROP',\n",
    "       'ACS_60_64_PROP', 'ACS_50_59_PROP', 'ACS_40_49_PROP', 'ACS_30_39_PROP',\n",
    "       'ACS_22_29_PROP', 'ACS_18_21_PROP', 'ACS_10_17_PROP',\n",
    "       'ACS_UNDER_10_PROP', 'TOTAL_POP_MEDIAN_AGE', 'ACS_HP_PROP',\n",
    "       'ACS_NOT_HP_ASIAN_ALONE_PROP', 'ACS_NOT_HP_AFRICAN_AMERICAN_ALONE_PROP',\n",
    "       'ACS_NOT_HP_WHITE_ALONE_PROP', 'ACS_NOT_HP_OTHER_POP',\n",
    "       'ACS_HH_INCOME_200K_MORE_PROP', 'ACS_HH_INCOME_150K_199K_PROP',\n",
    "       'ACS_HH_INCOME_125K_149K_PROP', 'ACS_HH_INCOME_100K_124K_PROP',\n",
    "       'ACS_HH_INCOME_75K_99K_PROP', 'ACS_HH_INCOME_60K_74K_PROP',\n",
    "       'ACS_HH_INCOME_50K_59K_PROP', 'ACS_HH_INCOME_45K_49K_PROP',\n",
    "       'ACS_HH_INCOME_40K_44K_PROP', 'ACS_HH_INCOME_35K_39K_PROP',\n",
    "       'ACS_HH_INCOME_30K_34K_PROP', 'ACS_HH_INCOME_25K_29K_PROP',\n",
    "       'ACS_HH_INCOME_20K_24K_PROP', 'ACS_HH_INCOME_15K_19K_PROP',\n",
    "       'ACS_HH_INCOME_10K_14K_PROP', 'ACS_HH_INCOME_10K_LESS_PROP',\n",
    "       'ACS_MEDIAN_EARNINGS_OTHER_DOLLARS',\n",
    "       'ACS_MEDIAN_EARNINGS_FULLTIME_DOLLARS',\n",
    "       'ACS_MEDIAN_EARNINGS_OVERALL_DOLLARS', 'ACS_AGG_HH_EARNINGS_PROP',\n",
    "       'ACS_NO_EARNING_HH_PROP', 'ACS_W_EARNING_HH_PROP', 'ACS_HH_TOTAL',\n",
    "       'ACS_HH_5_OR_MORE_PROP', 'ACS_HH_4_PROP', 'ACS_HH_3_PROP',\n",
    "       'ACS_HH_2_PROP', 'ACS_HH_1_PROP', 'ACS_TOTAL_WORKERS_OVER_16', 'ACS_TOTAL_WORKERS_PROP',\n",
    "       'ACS_WORK_COMMUTE_LESS_15_MIN_PROP', 'ACS_WORK_COMMUTE_15_29_MIN_PROP',\n",
    "       'ACS_WORK_COMMUTE_30_59_MIN_PROP', 'ACS_WORK_COMMUTE_OVER_60_MIN_PROP']\n",
    "\n",
    "acs_vars_nochurnvar_list = acs_vars_list[1:]\n",
    "\n"
   ]
  },
  {
   "cell_type": "code",
   "execution_count": null,
   "metadata": {},
   "outputs": [],
   "source": [
    "# Connection Details\n",
    "con = snow.connect(\n",
    "    user=\"DESENSITIZED\",\n",
    "    server=\"DESENSITIZED\",\n",
    "    database=\"DESENSITIZED\",\n",
    "    warehouse=\"DESENSITIZED\",\n",
    "    authenticator=\"externalbrowser\",\n",
    "    account=\"DESENSITIZED\"\n",
    ")"
   ]
  },
  {
   "cell_type": "code",
   "execution_count": null,
   "metadata": {},
   "outputs": [],
   "source": [
    "# Get Master Joined Table\n",
    "# Age No Bucket\n",
    "# Create a cursor object.\n",
    "cur = con.cursor()\n",
    "\n",
    "# Execute a statement that will generate a result set.\n",
    "sub_data_sql = '''\n",
    "select SUB_BILLING_ID  \n",
    ",SUB_STATUS\n",
    ",CHURNED_SUB_FLAG\n",
    ", ACS_TOTAL_POP\n",
    ", ACS_F_TOTAL_POP_PROP\n",
    ", ACS_M_TOTAL_POP_PROP\n",
    ", ACS_OVER_65_PROP\n",
    ", ACS_60_64_PROP\n",
    ", ACS_50_59_PROP\n",
    ", ACS_40_49_PROP\n",
    ", ACS_30_39_PROP\n",
    ", ACS_22_29_PROP\n",
    ", ACS_18_21_PROP\n",
    ", ACS_10_17_PROP\n",
    ", ACS_UNDER_10_PROP\n",
    ", TOTAL_POP_MEDIAN_AGE\n",
    ", ACS_HP_PROP\n",
    ", ACS_NOT_HP_ASIAN_ALONE_PROP\n",
    ", ACS_NOT_HP_AFRICAN_AMERICAN_ALONE_PROP\n",
    ", ACS_NOT_HP_WHITE_ALONE_PROP\n",
    ", (1 - ACS_NOT_HP_ASIAN_ALONE_PROP - ACS_NOT_HP_AFRICAN_AMERICAN_ALONE_PROP - ACS_NOT_HP_WHITE_ALONE_PROP) as ACS_NOT_HP_OTHER_POP\n",
    ", ACS_HH_INCOME_200K_MORE_PROP\n",
    ", ACS_HH_INCOME_150K_199K_PROP\n",
    ", ACS_HH_INCOME_125K_149K_PROP\n",
    ", ACS_HH_INCOME_100K_124K_PROP\n",
    ", ACS_HH_INCOME_75K_99K_PROP\n",
    ", ACS_HH_INCOME_60K_74K_PROP\n",
    ", ACS_HH_INCOME_50K_59K_PROP\n",
    ", ACS_HH_INCOME_45K_49K_PROP\n",
    ", ACS_HH_INCOME_40K_44K_PROP\n",
    ", ACS_HH_INCOME_35K_39K_PROP\n",
    ", ACS_HH_INCOME_30K_34K_PROP\n",
    ", ACS_HH_INCOME_25K_29K_PROP\n",
    ", ACS_HH_INCOME_20K_24K_PROP\n",
    ", ACS_HH_INCOME_15K_19K_PROP\n",
    ", ACS_HH_INCOME_10K_14K_PROP\n",
    ", ACS_HH_INCOME_10K_LESS_PROP\n",
    ", ACS_MEDIAN_EARNINGS_OTHER_DOLLARS\n",
    ", ACS_MEDIAN_EARNINGS_FULLTIME_DOLLARS\n",
    ", ACS_MEDIAN_EARNINGS_OVERALL_DOLLARS\n",
    ", ACS_AGG_HH_EARNINGS_PROP\n",
    ", ACS_NO_EARNING_HH_PROP\n",
    ", ACS_W_EARNING_HH_PROP\n",
    ", ACS_HH_TOTAL\n",
    ", ACS_HH_5_OR_MORE_PROP\n",
    ", ACS_HH_4_PROP\n",
    ", ACS_HH_3_PROP\n",
    ", ACS_HH_2_PROP\n",
    ", ACS_HH_1_PROP\n",
    ", ACS_TOTAL_WORKERS_OVER_16\n",
    ", round(div0null(ACS_TOTAL_WORKERS_OVER_16, ACS_TOTAL_POP), 2) as ACS_TOTAL_WORKERS_PROP\n",
    ", ACS_WORK_COMMUTE_LESS_15_MIN_PROP\n",
    ", ACS_WORK_COMMUTE_15_29_MIN_PROP\n",
    ", ACS_WORK_COMMUTE_30_59_MIN_PROP\n",
    ", ACS_WORK_COMMUTE_OVER_60_MIN_PROP\n",
    ", SNAPSHOT_DATE\n",
    "from DESENSITIZED;\n",
    "'''\n",
    "cur.execute(sub_data_sql)\n",
    "\n",
    "# Fetch the result set from the cursor and deliver it as the pandas DataFrame.\n",
    "sub_data_df = cur.fetch_pandas_all()"
   ]
  },
  {
   "cell_type": "code",
   "execution_count": null,
   "metadata": {},
   "outputs": [],
   "source": [
    "sub_data_df"
   ]
  },
  {
   "cell_type": "code",
   "execution_count": null,
   "metadata": {},
   "outputs": [],
   "source": [
    "sub_vars_df = sub_data_df[acs_vars_nochurnvar_list]"
   ]
  },
  {
   "cell_type": "code",
   "execution_count": null,
   "metadata": {},
   "outputs": [],
   "source": [
    "sub_vars_df"
   ]
  },
  {
   "cell_type": "markdown",
   "metadata": {},
   "source": [
    "Missing Data Analysis"
   ]
  },
  {
   "cell_type": "code",
   "execution_count": null,
   "metadata": {},
   "outputs": [],
   "source": [
    "# Calculate the proportion of missing data for each individual column\n",
    "missing_data_proportion = sub_vars_df.isnull().mean()\n",
    "\n",
    "# Sort the proportion of missing data in descending order\n",
    "missing_data_proportion = missing_data_proportion.sort_values(ascending=False)\n",
    "\n",
    "# Plot the proportion of missing data\n",
    "plt.figure(figsize=(24,6))\n",
    "# Plot the proportion of missing data\n",
    "ax = missing_data_proportion.plot(kind='bar')\n",
    "plt.title('Proportion of Missing Data for Each Column')\n",
    "plt.xlabel('Columns')\n",
    "plt.ylabel('Proportion of Missing Data')\n",
    "\n",
    "# Display the values of each bar above the bar\n",
    "for p in ax.patches:\n",
    "    ax.annotate(f'{p.get_height():.2f}', (p.get_x() + p.get_width() / 2., p.get_height()), \n",
    "                ha='center', va='center', xytext=(0, 10), textcoords='offset points')\n",
    "\n",
    "\n",
    "plt.show()"
   ]
  },
  {
   "cell_type": "code",
   "execution_count": null,
   "metadata": {},
   "outputs": [],
   "source": [
    "# How many subs out of total that have the \"core\" columns\n",
    "\n",
    "acs_core_nochurn_cols = ['ACS_TOTAL_POP',\n",
    "       'ACS_F_TOTAL_POP_PROP', 'ACS_M_TOTAL_POP_PROP', 'ACS_OVER_65_PROP',\n",
    "       'ACS_60_64_PROP', 'ACS_50_59_PROP', 'ACS_40_49_PROP', 'ACS_30_39_PROP',\n",
    "       'ACS_22_29_PROP', 'ACS_18_21_PROP', 'ACS_10_17_PROP',\n",
    "       'ACS_UNDER_10_PROP', 'TOTAL_POP_MEDIAN_AGE', 'ACS_HP_PROP',\n",
    "       'ACS_NOT_HP_ASIAN_ALONE_PROP', 'ACS_NOT_HP_AFRICAN_AMERICAN_ALONE_PROP',\n",
    "       'ACS_NOT_HP_WHITE_ALONE_PROP', 'ACS_NOT_HP_OTHER_POP',\n",
    "       'ACS_HH_INCOME_200K_MORE_PROP', 'ACS_HH_INCOME_150K_199K_PROP',\n",
    "       'ACS_HH_INCOME_125K_149K_PROP', 'ACS_HH_INCOME_100K_124K_PROP',\n",
    "       'ACS_HH_INCOME_75K_99K_PROP', 'ACS_HH_INCOME_60K_74K_PROP',\n",
    "       'ACS_HH_INCOME_50K_59K_PROP', 'ACS_HH_INCOME_45K_49K_PROP',\n",
    "       'ACS_HH_INCOME_40K_44K_PROP', 'ACS_HH_INCOME_35K_39K_PROP',\n",
    "       'ACS_HH_INCOME_30K_34K_PROP', 'ACS_HH_INCOME_25K_29K_PROP',\n",
    "       'ACS_HH_INCOME_20K_24K_PROP', 'ACS_HH_INCOME_15K_19K_PROP',\n",
    "       'ACS_HH_INCOME_10K_14K_PROP', 'ACS_HH_INCOME_10K_LESS_PROP',\n",
    "       'ACS_NO_EARNING_HH_PROP', 'ACS_W_EARNING_HH_PROP', 'ACS_HH_TOTAL',\n",
    "       'ACS_HH_5_OR_MORE_PROP', 'ACS_HH_4_PROP', 'ACS_HH_3_PROP',\n",
    "       'ACS_HH_2_PROP', 'ACS_HH_1_PROP', 'ACS_TOTAL_WORKERS_OVER_16', 'ACS_TOTAL_WORKERS_PROP',\n",
    "       'ACS_WORK_COMMUTE_LESS_15_MIN_PROP', 'ACS_WORK_COMMUTE_15_29_MIN_PROP',\n",
    "       'ACS_WORK_COMMUTE_30_59_MIN_PROP', 'ACS_WORK_COMMUTE_OVER_60_MIN_PROP']\n",
    "\n",
    "# Calculate the proportion of rows where there are only missing values in core columns\n",
    "missing_all_core_only = sub_vars_df[acs_core_nochurn_cols].isnull().all(axis=1).mean()\n",
    "\n",
    "print(\"The proportion of rows with missing values only in columns B and C is \" + str(round(missing_all_core_only, 3)) + \". With a Total Sub Rows of \" + str(sub_vars_df.shape[0]) + \", this makes a total of \" + str(int(sub_vars_df.shape[0]*(1-missing_all_core_only))) + \" rows with most of the ACS data.\")"
   ]
  },
  {
   "cell_type": "markdown",
   "metadata": {},
   "source": [
    "Distribution/Churn Analysis"
   ]
  },
  {
   "cell_type": "code",
   "execution_count": null,
   "metadata": {},
   "outputs": [],
   "source": [
    "# Grab only all non-null columns from the ACS Core Cols\n",
    "ACS_nonnull_df = sub_data_df[acs_vars_list].dropna(subset=acs_core_nochurn_cols)"
   ]
  },
  {
   "cell_type": "code",
   "execution_count": null,
   "metadata": {},
   "outputs": [],
   "source": [
    "ACS_nonnull_df.drop(columns = 'ACS_TOTAL_WORKERS_OVER_16', inplace = True)"
   ]
  },
  {
   "cell_type": "code",
   "execution_count": null,
   "metadata": {},
   "outputs": [],
   "source": [
    "ACS_nonnull_df"
   ]
  },
  {
   "cell_type": "code",
   "execution_count": null,
   "metadata": {},
   "outputs": [],
   "source": [
    "[0,500,1000,1500,2000,2500,3000,\n",
    "3500,4000,4500,5000,20000]"
   ]
  },
  {
   "cell_type": "code",
   "execution_count": null,
   "metadata": {},
   "outputs": [],
   "source": [
    "# Bins Definition\n",
    "\n",
    "# ACS_TOTAL_POP\n",
    "TP_scheme = [0,500,1000,1500,2000,2500,3000,\n",
    "3500,4000,4500,5000,20000]\n",
    "TP_labels = [f'{i}-{i+500}' for i in range(0, 5000, 500)] + ['5000-20000']\n",
    "\n",
    "# Gender\n",
    "gender_scheme = [0] + [i/100 for i in range(20, 85, 5)] + [1.0]\n",
    "gender_labels = ['0-20%'] + [f'{i}-{i+5}%' for i in range(20, 80, 5)] + ['80-100%']\n",
    "\n",
    "eth_scheme = [0, 0.1, 0.2, 0.3, 0.4, 0.5, 0.6, 0.7, 0.8, 0.9, 1.0]\n",
    "eth_labels = ['0-10%', '10-20%', '20-30%', '30-40%', '40-50%', '50-60%', '60-70%', '70-80%', '80-90%', '90-100%']\n",
    "\n",
    "age_scheme = [i/100 for i in range(0, 55, 5)] + [1.0]\n",
    "age_labels = [f'{i}-{i+5}%' for i in range(0, 50, 5)] + ['50-100%']\n",
    "\n",
    "median_age_scheme = [0] + list(range(15, 70, 5)) + [100]\n",
    "median_age_labels = ['0-15'] + [f'{i}-{i+5}' for i in range(15, 65, 5)] + ['65-100']\n",
    "\n",
    "hh_total_scheme = list(range(0, 2100, 100)) + [8000]\n",
    "hh_total_labels = [f'{i}-{i+100}' for i in range(0, 2000, 100)] + ['2000-7500']\n",
    "\n",
    "hh_earning_scheme = [0, 0.1, 0.2, 0.3, 0.4, 0.5, 0.6, 0.7, 0.8, 0.9, 1.0]\n",
    "hh_earning_labels = ['0-10%', '10-20%', '20-30%', '30-40%', '40-50%', '50-60%', '60-70%', '70-80%', '80-90%', '90-100%']\n",
    "\n",
    "hh_income_scheme = [i/100 for i in range(0, 55, 5)] + [1.0]\n",
    "hh_income_labels = [f'{i}-{i+5}%' for i in range(0, 50, 5)] + ['50-100%']\n",
    "\n",
    "hh_size_scheme = [i/100 for i in range(0, 55, 5)] + [1.0]\n",
    "hh_size_labels = [f'{i}-{i+5}%' for i in range(0, 50, 5)] + ['50-100%']\n",
    "\n",
    "total_worker_scheme = [0, 0.1, 0.2, 0.3, 0.4, 0.5, 0.6, 0.7, 0.8, 0.9, 1.0]\n",
    "total_worker_labels = ['0-10%', '10-20%', '20-30%', '30-40%', '40-50%', '50-60%', '60-70%', '70-80%', '80-90%', '90-100%']\n",
    "\n",
    "commute_time_scheme = [0, 0.1, 0.2, 0.3, 0.4, 0.5, 0.6, 0.7, 0.8, 0.9, 1.0]\n",
    "commute_time_labels = ['0-10%', '10-20%', '20-30%', '30-40%', '40-50%', '50-60%', '60-70%', '70-80%', '80-90%', '90-100%']\n",
    "\n",
    "# Define Function to use for all Categories of Interest\n",
    "def churn_percentage(group):\n",
    "    return round(group['CHURNED_SUB_FLAG'].mean() * 100, 2)\n",
    "\n",
    "def churn_group_count(group):\n",
    "    return group['CHURNED_SUB_FLAG'].count()\n",
    "\n",
    "def acs_summary_stats(df, data_cols, bin_scheme, label_scheme):\n",
    "    subset_cols = [\"CHURNED_SUB_FLAG\"] + data_cols\n",
    "    subset_df = df[subset_cols]\n",
    "    print(subset_cols)\n",
    "    \n",
    "    # Apply binning and groupby for each Ethnicity column\n",
    "    for col in data_cols:\n",
    "        subset_df[f'{col}_bin'] = pd.cut(subset_df[col], bins=bin_scheme, labels=label_scheme, include_lowest = True)\n",
    "        summary_1 = subset_df.groupby(f'{col}_bin').apply(churn_percentage).reset_index(name=f'ChurnPercentage')\n",
    "        summary_2 = subset_df.groupby(f'{col}_bin').apply(churn_group_count).reset_index(name=f'GroupSize')\n",
    "        print(summary_1)\n",
    "        print(summary_2)\n",
    "        summary_1.to_csv(f'C:/Users/davidl/OneDrive - ULTRA MOBILE/Desktop/dli_code/raw_zone/{col}_perc.csv', header=True)\n",
    "        summary_2.to_csv(f'C:/Users/davidl/OneDrive - ULTRA MOBILE/Desktop/dli_code/raw_zone/{col}_count.csv', header=True)"
   ]
  },
  {
   "cell_type": "markdown",
   "metadata": {},
   "source": [
    "Total Pop"
   ]
  },
  {
   "cell_type": "code",
   "execution_count": null,
   "metadata": {},
   "outputs": [],
   "source": [
    "acs_summary_stats(ACS_nonnull_df, ['ACS_TOTAL_POP'], TP_scheme, TP_labels)"
   ]
  },
  {
   "cell_type": "markdown",
   "metadata": {},
   "source": [
    "Gender"
   ]
  },
  {
   "cell_type": "code",
   "execution_count": null,
   "metadata": {},
   "outputs": [],
   "source": [
    "acs_summary_stats(ACS_nonnull_df, ['ACS_F_TOTAL_POP_PROP', 'ACS_M_TOTAL_POP_PROP'], gender_scheme, gender_labels)"
   ]
  },
  {
   "cell_type": "markdown",
   "metadata": {},
   "source": [
    "Ethnicity"
   ]
  },
  {
   "cell_type": "code",
   "execution_count": null,
   "metadata": {},
   "outputs": [],
   "source": [
    "acs_summary_stats(ACS_nonnull_df, ['ACS_HP_PROP','ACS_NOT_HP_ASIAN_ALONE_PROP', 'ACS_NOT_HP_AFRICAN_AMERICAN_ALONE_PROP','ACS_NOT_HP_WHITE_ALONE_PROP', 'ACS_NOT_HP_OTHER_POP'], eth_scheme, eth_labels)"
   ]
  },
  {
   "cell_type": "markdown",
   "metadata": {},
   "source": [
    "Age"
   ]
  },
  {
   "cell_type": "code",
   "execution_count": null,
   "metadata": {},
   "outputs": [],
   "source": [
    "acs_summary_stats(ACS_nonnull_df, ['ACS_OVER_65_PROP',\n",
    "       'ACS_60_64_PROP', 'ACS_50_59_PROP', 'ACS_40_49_PROP', 'ACS_30_39_PROP',\n",
    "       'ACS_22_29_PROP', 'ACS_18_21_PROP', 'ACS_10_17_PROP',\n",
    "       'ACS_UNDER_10_PROP'], age_scheme, age_labels)"
   ]
  },
  {
   "cell_type": "markdown",
   "metadata": {},
   "source": [
    "Median Age"
   ]
  },
  {
   "cell_type": "code",
   "execution_count": null,
   "metadata": {},
   "outputs": [],
   "source": [
    "acs_summary_stats(ACS_nonnull_df, ['TOTAL_POP_MEDIAN_AGE'], median_age_scheme, median_age_labels)"
   ]
  },
  {
   "cell_type": "markdown",
   "metadata": {},
   "source": [
    "Proportion HH Earning"
   ]
  },
  {
   "cell_type": "code",
   "execution_count": null,
   "metadata": {},
   "outputs": [],
   "source": [
    "acs_summary_stats(ACS_nonnull_df, ['ACS_NO_EARNING_HH_PROP', 'ACS_W_EARNING_HH_PROP'], hh_earning_scheme, hh_earning_labels)"
   ]
  },
  {
   "cell_type": "markdown",
   "metadata": {},
   "source": [
    "Total Workers"
   ]
  },
  {
   "cell_type": "code",
   "execution_count": null,
   "metadata": {},
   "outputs": [],
   "source": [
    "acs_summary_stats(ACS_nonnull_df, ['ACS_TOTAL_WORKERS_PROP'], total_worker_scheme, total_worker_labels)"
   ]
  },
  {
   "cell_type": "markdown",
   "metadata": {},
   "source": [
    "HH Total"
   ]
  },
  {
   "cell_type": "code",
   "execution_count": null,
   "metadata": {},
   "outputs": [],
   "source": [
    "acs_summary_stats(ACS_nonnull_df, ['ACS_HH_TOTAL'], hh_total_scheme, hh_total_labels)"
   ]
  },
  {
   "cell_type": "markdown",
   "metadata": {},
   "source": [
    "HH Income"
   ]
  },
  {
   "cell_type": "code",
   "execution_count": null,
   "metadata": {},
   "outputs": [],
   "source": [
    "acs_summary_stats(ACS_nonnull_df, ['ACS_HH_INCOME_200K_MORE_PROP', 'ACS_HH_INCOME_150K_199K_PROP',\n",
    "       'ACS_HH_INCOME_125K_149K_PROP', 'ACS_HH_INCOME_100K_124K_PROP',\n",
    "       'ACS_HH_INCOME_75K_99K_PROP', 'ACS_HH_INCOME_60K_74K_PROP',\n",
    "       'ACS_HH_INCOME_50K_59K_PROP', 'ACS_HH_INCOME_45K_49K_PROP',\n",
    "       'ACS_HH_INCOME_40K_44K_PROP', 'ACS_HH_INCOME_35K_39K_PROP',\n",
    "       'ACS_HH_INCOME_30K_34K_PROP', 'ACS_HH_INCOME_25K_29K_PROP',\n",
    "       'ACS_HH_INCOME_20K_24K_PROP', 'ACS_HH_INCOME_15K_19K_PROP',\n",
    "       'ACS_HH_INCOME_10K_14K_PROP', 'ACS_HH_INCOME_10K_LESS_PROP'], hh_income_scheme, hh_income_labels)"
   ]
  },
  {
   "cell_type": "markdown",
   "metadata": {},
   "source": [
    "HH Size"
   ]
  },
  {
   "cell_type": "code",
   "execution_count": null,
   "metadata": {},
   "outputs": [],
   "source": [
    "acs_summary_stats(ACS_nonnull_df, ['ACS_HH_5_OR_MORE_PROP', 'ACS_HH_4_PROP', 'ACS_HH_3_PROP',\n",
    "       'ACS_HH_2_PROP', 'ACS_HH_1_PROP'], hh_size_scheme, hh_size_labels)"
   ]
  },
  {
   "cell_type": "markdown",
   "metadata": {},
   "source": [
    "Commute Time"
   ]
  },
  {
   "cell_type": "code",
   "execution_count": null,
   "metadata": {},
   "outputs": [],
   "source": [
    "acs_summary_stats(ACS_nonnull_df, ['ACS_WORK_COMMUTE_LESS_15_MIN_PROP', 'ACS_WORK_COMMUTE_15_29_MIN_PROP',\n",
    "       'ACS_WORK_COMMUTE_30_59_MIN_PROP', 'ACS_WORK_COMMUTE_OVER_60_MIN_PROP'], commute_time_scheme, commute_time_labels)"
   ]
  },
  {
   "cell_type": "markdown",
   "metadata": {},
   "source": [
    "Combine into One Excel File"
   ]
  },
  {
   "cell_type": "markdown",
   "metadata": {},
   "source": [
    "import os\n",
    "\n",
    "# Directory containing the CSV files\n",
    "directory = 'C:/Users/davidl/OneDrive - ULTRA MOBILE/Desktop/dli_code'\n",
    "\n",
    "# Create a Pandas Excel writer using openpyxl as the engine\n",
    "with pd.ExcelWriter('combined_churn_analysis.xlsx', engine='openpyxl') as writer:\n",
    "    # Loop through all files in the directory\n",
    "    for filename in os.listdir(directory):\n",
    "        if filename.endswith('.csv'):\n",
    "            # Read each CSV file\n",
    "            df = pd.read_csv(os.path.join(directory, filename))\n",
    "            # Write the DataFrame to a specific sheet in the Excel file\n",
    "            sheet_name = os.path.splitext(filename)[0]  # Use the filename (without extension) as the sheet name\n",
    "            df.to_excel(writer, sheet_name=sheet_name, index=False)\n",
    "            # Delete the CSV file after writing its data to the Excel file\n",
    "            os.remove(os.path.join(directory, filename))\n",
    "\n",
    "print('All CSV files have been combined into one Excel file and the original CSV files have been deleted.')"
   ]
  }
 ],
 "metadata": {
  "kernelspec": {
   "display_name": "base",
   "language": "python",
   "name": "python3"
  },
  "language_info": {
   "codemirror_mode": {
    "name": "ipython",
    "version": 3
   },
   "file_extension": ".py",
   "mimetype": "text/x-python",
   "name": "python",
   "nbconvert_exporter": "python",
   "pygments_lexer": "ipython3",
   "version": "3.12.4"
  }
 },
 "nbformat": 4,
 "nbformat_minor": 2
}
