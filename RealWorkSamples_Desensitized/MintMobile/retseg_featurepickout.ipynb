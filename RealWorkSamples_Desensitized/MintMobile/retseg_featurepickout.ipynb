{
 "cells": [
  {
   "cell_type": "code",
   "execution_count": null,
   "metadata": {},
   "outputs": [],
   "source": [
    "# Packages\n",
    "import numpy as np\n",
    "import pandas as pd\n",
    "import seaborn as sns\n",
    "import matplotlib.pyplot as plt\n",
    "import pickle\n",
    "\n",
    "import xgboost as xgb\n",
    "from sklearn.model_selection import train_test_split\n",
    "from sklearn.model_selection import RandomizedSearchCV\n",
    "from sklearn.metrics import accuracy_score, precision_score, recall_score, f1_score\n",
    "\n",
    "from sklearn.preprocessing import MinMaxScaler\n",
    "import snowflake.connector as snow\n",
    "from snowflake.connector import pandas_tools"
   ]
  },
  {
   "cell_type": "code",
   "execution_count": null,
   "metadata": {},
   "outputs": [],
   "source": [
    "def summarize_dataframe(df):\n",
    "    # Initialize summary DataFrame\n",
    "    summary_df = pd.DataFrame()\n",
    "\n",
    "    # Calculate number of nulls and nulls percentage for each column\n",
    "    summary_df['num_nulls'] = df.isnull().sum()\n",
    "    summary_df['nulls_percentage'] = df.isnull().mean() * 100\n",
    "\n",
    "    # Calculate mean and median for numerical columns\n",
    "    numerical_cols = df.select_dtypes(include=[np.number]).columns\n",
    "    summary_df.loc[numerical_cols, 'mean'] = df[numerical_cols].mean()\n",
    "    summary_df.loc[numerical_cols, 'median'] = df[numerical_cols].median()\n",
    "\n",
    "    # Calculate top 3 most frequent values and their counts for categorical columns\n",
    "    categorical_cols = df.select_dtypes(include=[object]).columns\n",
    "    for col in categorical_cols:\n",
    "        top_3 = df[col].value_counts().nlargest(3)\n",
    "        for i in range(3):\n",
    "            if i < len(top_3):\n",
    "                summary_df.loc[col, f'top_{i+1}_value'] = top_3.index[i]\n",
    "                summary_df.loc[col, f'top_{i+1}_count'] = top_3.iloc[i]\n",
    "            else:\n",
    "                summary_df.loc[col, f'top_{i+1}_value'] = None\n",
    "                summary_df.loc[col, f'top_{i+1}_count'] = None\n",
    "\n",
    "    return summary_df\n",
    "\n"
   ]
  },
  {
   "cell_type": "code",
   "execution_count": null,
   "metadata": {},
   "outputs": [],
   "source": [
    "# Connection Details\n",
    "con = snow.connect(\n",
    "    user=\"DESENSITIZED\",\n",
    "    server=\"DESENSITIZED\",\n",
    "    database=\"DESENSITIZED\",\n",
    "    warehouse=\"DESENSITIZED\",\n",
    "    authenticator=\"externalbrowser\",\n",
    "    account=\"DESENSITIZED\"\n",
    ")"
   ]
  },
  {
   "cell_type": "code",
   "execution_count": null,
   "metadata": {},
   "outputs": [],
   "source": [
    "# Create a cursor object.\n",
    "cur = con.cursor()\n",
    "\n",
    "jun_subs_sql = '''\n",
    "DESENSITIZED\n",
    "\n",
    "'''\n",
    "\n",
    "# Fetch the result set from the cursor and deliver it as the pandas DataFrame.\n",
    "\n",
    "cur.execute(jun_subs_sql)\n",
    "jun_subs_df = cur.fetch_pandas_all()"
   ]
  },
  {
   "cell_type": "code",
   "execution_count": null,
   "metadata": {},
   "outputs": [],
   "source": [
    "jun_subs_df.shape"
   ]
  },
  {
   "cell_type": "code",
   "execution_count": null,
   "metadata": {},
   "outputs": [],
   "source": [
    "jun_subs_df.head()"
   ]
  },
  {
   "cell_type": "code",
   "execution_count": null,
   "metadata": {},
   "outputs": [],
   "source": [
    "summ_df = summarize_dataframe(jun_subs_df)"
   ]
  },
  {
   "cell_type": "code",
   "execution_count": null,
   "metadata": {},
   "outputs": [],
   "source": [
    "summ_df"
   ]
  },
  {
   "cell_type": "code",
   "execution_count": null,
   "metadata": {},
   "outputs": [],
   "source": [
    "summ_df.to_csv(\"validation.csv\")"
   ]
  }
 ],
 "metadata": {
  "kernelspec": {
   "display_name": "base",
   "language": "python",
   "name": "python3"
  },
  "language_info": {
   "codemirror_mode": {
    "name": "ipython",
    "version": 3
   },
   "file_extension": ".py",
   "mimetype": "text/x-python",
   "name": "python",
   "nbconvert_exporter": "python",
   "pygments_lexer": "ipython3",
   "version": "3.12.4"
  }
 },
 "nbformat": 4,
 "nbformat_minor": 2
}
