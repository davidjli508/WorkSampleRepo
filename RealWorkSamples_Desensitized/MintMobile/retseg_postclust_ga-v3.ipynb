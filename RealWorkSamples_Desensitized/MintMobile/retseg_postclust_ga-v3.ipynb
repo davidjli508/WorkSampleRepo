{
 "cells": [
  {
   "cell_type": "markdown",
   "metadata": {},
   "source": [
    "# 2024 Segmentation - Mint Subs at Gross Add Month"
   ]
  },
  {
   "cell_type": "code",
   "execution_count": null,
   "metadata": {},
   "outputs": [],
   "source": [
    "%pip install snowflake-connector-python seaborn"
   ]
  },
  {
   "cell_type": "code",
   "execution_count": null,
   "metadata": {},
   "outputs": [],
   "source": [
    "# Packages\n",
    "import numpy as np\n",
    "import pandas as pd\n",
    "import seaborn as sns\n",
    "import snowflake.connector as snow\n",
    "import matplotlib.pyplot as plt\n",
    "import textwrap\n",
    "from matplotlib.ticker import FixedLocator\n",
    "from matplotlib.ticker import ScalarFormatter\n",
    "\n",
    "import snowflake.connector as snow\n",
    "from snowflake.connector import pandas_tools"
   ]
  },
  {
   "cell_type": "code",
   "execution_count": null,
   "metadata": {},
   "outputs": [],
   "source": [
    "# Connect\n",
    "# Connection Details\n",
    "con = snow.connect(\n",
    "    user=\"DESENSITIZED\",\n",
    "    server=\"DESENSITIZED\",\n",
    "    database=\"DESENSITIZED\",\n",
    "    warehouse=\"DESENSITIZED\",\n",
    "    authenticator=\"externalbrowser\",\n",
    "    account=\"DESENSITIZED\"\n",
    ")\n",
    "\n",
    "cur = con.cursor()"
   ]
  },
  {
   "cell_type": "code",
   "execution_count": null,
   "metadata": {},
   "outputs": [],
   "source": [
    "# Get Post-Modelling Output, don't consider nulls for now\n",
    "joined_post_mdl_sql = '''\n",
    "DESENSITIZED\n",
    "'''\n",
    "\n",
    "# Fetch the result set from the cursor and deliver it as the pandas DataFrame.\n",
    "# Grab Dataframes\n",
    "cur.execute(joined_post_mdl_sql)\n",
    "df = cur.fetch_pandas_all()"
   ]
  },
  {
   "cell_type": "code",
   "execution_count": null,
   "metadata": {},
   "outputs": [],
   "source": [
    "print(df.shape)"
   ]
  },
  {
   "cell_type": "code",
   "execution_count": null,
   "metadata": {},
   "outputs": [],
   "source": [
    "print(df.columns.values)"
   ]
  },
  {
   "cell_type": "code",
   "execution_count": null,
   "metadata": {},
   "outputs": [],
   "source": [
    "# Treat Months as effectively discrete\n",
    "df[\"PROD_DURATION_MONTHS\"] = df[\"PROD_DURATION_MONTHS\"].astype('str')\n",
    "# Replace 'UNLIMITED_PLUS' with 'UNLIMITED' in 'PROD_DATA_GROUP' column\n",
    "df['PROD_DATA_GROUP'] = df['PROD_DATA_GROUP'].replace('UNLIMITED_PLUS', 'UNLIMITED')\n",
    "# Change to Enforce to be Integer\n",
    "df['SEGM_CLUST'] = pd.to_numeric(df['SEGM_CLUST'], errors='coerce').astype('Int64')\n",
    "# Enforce SNAPSHOT_DATE as Datetime\n",
    "df['SNAPSHOT_DATE'] = pd.to_datetime(df['SNAPSHOT_DATE'])"
   ]
  },
  {
   "cell_type": "code",
   "execution_count": null,
   "metadata": {},
   "outputs": [],
   "source": [
    "df.head()"
   ]
  },
  {
   "cell_type": "code",
   "execution_count": null,
   "metadata": {},
   "outputs": [],
   "source": [
    "# Define the mapping of cluster labels to descriptions\n",
    "cluster_descriptions = {\n",
    "    0: \"African-American Dense w/ Low Churn & QoL\",\n",
    "    1: \"Standard Baseline Subscribers w/ Low Churn\",\n",
    "    2: \"African-American Dense w/ Moderate Churn & Tech Struggles\",\n",
    "    3: \"Asian Dense w/ Strong Socioeconomic Traits & Solid Tenure\",\n",
    "    4: \"Hispanics Dense w/ Struggling Socioeconomic Signs and Frequent Commutes\",\n",
    "    5: \"Asian-Prevalent Promotion \\'Chasers\\'\",\n",
    "    6: \"Young Urbanites with National Retail Relevance\",\n",
    "    7: \"Well-Tenured & Socioeconomic Affluent w/ Low Promo Relevance\",\n",
    "    8: \"Well-off White Dense, w/ Low Churn and Strong Tenure\",\n",
    "    9: \"Well-off White Dense, w/ Less Usage & Some Tech Gaps\",\n",
    "    10: \"Hispanic & \\'Others\\' Dense w/ Poor Usage Metrics & Socioeconomic Indicators\",\n",
    "    11: \"Low-Income Heavily White Dense\",\n",
    "    12: \"Struggling Socioeconomic w/ High NR Relevance & Non-Existent Promo Relevance\"\n",
    "}"
   ]
  },
  {
   "cell_type": "code",
   "execution_count": null,
   "metadata": {},
   "outputs": [],
   "source": [
    "def plot_analysis(df, column_name, agg_method='flat_mean'):\n",
    "    df['SEGM_CLUST'] = df['SEGM_CLUST'].astype(int)\n",
    "    # Special case for SUB_BILLING_ID\n",
    "    if column_name == \"SUB_BILLING_ID\":\n",
    "        if agg_method == 'rel_perc_clust':\n",
    "            # Group by SEGM_CLUST and SNAPSHOT_DATE and count the number of SUB_BILLING_IDs\n",
    "            count_df = df.groupby(['SEGM_CLUST', 'SNAPSHOT_DATE'])[column_name].count().reset_index(name='count')\n",
    "            # Calculate the total number of SUB_BILLING_IDs for each SNAPSHOT_DATE\n",
    "            total_count_df = df.groupby('SNAPSHOT_DATE')[column_name].count().reset_index(name='total_count')\n",
    "            # Merge the count_df with total_count_df on SNAPSHOT_DATE\n",
    "            result = pd.merge(count_df, total_count_df, on='SNAPSHOT_DATE')\n",
    "            # Calculate the proportion\n",
    "            result['proportion'] = result['count'] / result['total_count']\n",
    "        elif agg_method == 'flat_count':\n",
    "            # Group by SEGM_CLUST and SNAPSHOT_DATE and count the number of SUB_BILLING_IDs\n",
    "            result = df.groupby(['SEGM_CLUST', 'SNAPSHOT_DATE'])[column_name].count().reset_index(name='count')\n",
    "    else:\n",
    "        # Check if the column is numeric or categorical\n",
    "        if pd.api.types.is_numeric_dtype(df[column_name]):\n",
    "            if agg_method == 'flat_mean':\n",
    "                # Group by SEGM_CLUST and SNAPSHOT_DATE and calculate the mean\n",
    "                result = df.groupby(['SEGM_CLUST', 'SNAPSHOT_DATE'])[column_name].mean().reset_index(name='mean')\n",
    "            elif agg_method == 'flat_sum':\n",
    "                # Group by SEGM_CLUST and SNAPSHOT_DATE and calculate the sum\n",
    "                result = df.groupby(['SEGM_CLUST', 'SNAPSHOT_DATE'])[column_name].sum().reset_index(name='sum')\n",
    "            elif agg_method == 'rel_perc_clust':\n",
    "                # Group by SEGM_CLUST and SNAPSHOT_DATE and count the number of SUB_BILLING_IDs\n",
    "                count_df = df.groupby(['SEGM_CLUST', 'SNAPSHOT_DATE'])[column_name].sum().reset_index(name='count')\n",
    "                # Calculate the total number of SUB_BILLING_IDs for each SNAPSHOT_DATE\n",
    "                total_count_df = df.groupby(['SEGM_CLUST', 'SNAPSHOT_DATE'])[column_name].count().reset_index(name='total_count')\n",
    "                # Merge the count_df with total_count_df on SNAPSHOT_DATE\n",
    "                result = pd.merge(count_df, total_count_df, on=['SEGM_CLUST', 'SNAPSHOT_DATE'])\n",
    "                # Calculate the proportion\n",
    "                result['proportion'] = result['count'] / result['total_count']\n",
    "            result['is_numeric'] = True\n",
    "        else:\n",
    "            if agg_method == 'flat_count':\n",
    "                # Group by SEGM_CLUST, SNAPSHOT_DATE, and column_name and perform categorical frequency count\n",
    "                result = df.groupby(['SEGM_CLUST', 'SNAPSHOT_DATE', column_name]).size().reset_index(name='count')\n",
    "            elif agg_method == 'rel_perc_clust':\n",
    "                # Group by SEGM_CLUST, SNAPSHOT_DATE, and column_name and perform categorical frequency count\n",
    "                count_df = df.groupby(['SEGM_CLUST', 'SNAPSHOT_DATE', column_name]).size().reset_index(name='count')\n",
    "                # Calculate the total count for each SEGM_CLUST and SNAPSHOT_DATE\n",
    "                total_count_df = df.dropna(subset=[column_name]).groupby(['SEGM_CLUST', 'SNAPSHOT_DATE']).size().reset_index(name='total_count')\n",
    "                # Merge the count_df with total_count_df on SEGM_CLUST and SNAPSHOT_DATE\n",
    "                result = pd.merge(count_df, total_count_df, on=['SEGM_CLUST', 'SNAPSHOT_DATE'], how = 'left')\n",
    "                # Calculate the proportion\n",
    "                result['proportion'] = result['count'] / result['total_count']\n",
    "            result['is_numeric'] = False\n",
    "    #print(\"RESULT DF: \")\n",
    "    #print(result.head(n = 15))\n",
    "    #print(\"\")\n",
    "    \n",
    "    sns.set(style=\"whitegrid\")\n",
    "    \n",
    "    # Plot\n",
    "    if column_name == \"SUB_BILLING_ID\":\n",
    "        # Define a consistent color palette\n",
    "        unique_values = sorted(result[\"SEGM_CLUST\"].unique())\n",
    "        palette = sns.color_palette(\"husl\", len(unique_values))\n",
    "        color_mapping = dict(zip(unique_values, palette))\n",
    "\n",
    "        # Plot Stacked Bar for Counts\n",
    "        if agg_method == 'flat_count':\n",
    "            plt.figure(figsize=(14, 8))\n",
    "            ax = sns.histplot(data=result, x='SNAPSHOT_DATE', weights=\"count\", hue='SEGM_CLUST', multiple='stack', bins=len(result['SNAPSHOT_DATE'].unique()), discrete = True, palette=color_mapping, shrink=8.0)\n",
    "            plt.title(f'GA Subs: {column_name} Per Segment, Flat Counts')\n",
    "            plt.xlabel('Snapshot Date')\n",
    "            plt.ylabel('Subscriber Count')\n",
    "            ax = plt.gca()\n",
    "            # Format x-axis labels to show only date in 'YYYY-MM-DD' format\n",
    "            # Add x-axis ticks at each actual SNAPSHOT_DATE and angle the labels 45 degrees\n",
    "            ax.set_xticks(result['SNAPSHOT_DATE'].unique())\n",
    "            # Format x-axis labels to show only date in 'YYYY-MM-DD' format\n",
    "            ax.set_xticklabels([pd.to_datetime(label).strftime('%Y-%m-%d') for label in result['SNAPSHOT_DATE'].unique()], rotation=45, ha='right')\n",
    "            # Set y-axis to display full numbers instead of scientific notation\n",
    "            ax.yaxis.set_major_formatter(ScalarFormatter())\n",
    "            ax.ticklabel_format(style='plain', axis='y')\n",
    "            # Move legend to the right side, outside of the graph and increase font size\n",
    "            handles = [plt.Rectangle((0,0),1,1, color=color_mapping[val]) for val in unique_values]\n",
    "            labels = [cluster_descriptions[int(val)] for val in unique_values]\n",
    "            ax.legend(handles, labels, title=column_name, bbox_to_anchor=(1.05, 1), loc='upper left', fontsize='small')\n",
    "            plt.tight_layout()\n",
    "            plt.show()\n",
    "\n",
    "        # Plot Line Plot for Counts and Proportions\n",
    "        plt.figure(figsize=(14, 8))\n",
    "        if agg_method == 'rel_perc_clust':\n",
    "            #print(result.head(n=20))\n",
    "            sns.lineplot(data=result, x='SNAPSHOT_DATE', y='proportion', hue='SEGM_CLUST', marker='o', palette=color_mapping)\n",
    "            plt.title(f'GA Subs: {column_name} Per Segment, Relative To All Subs')\n",
    "        elif agg_method == 'flat_count':\n",
    "            sns.lineplot(data=result, x='SNAPSHOT_DATE', y='count', hue='SEGM_CLUST', marker='o', palette=color_mapping)\n",
    "            plt.title(f'GA Subs: {column_name} Per Segment, Flat Counts')\n",
    "        # Move legend to the right side, outside of the graph and increase font size\n",
    "        plt.xlabel('Snapshot Date')\n",
    "        plt.ylabel('Proportion of Subscribers' if agg_method == 'rel_perc_clust' else 'Subscriber Count')\n",
    "        ax = plt.gca()\n",
    "        handles, labels = ax.get_legend_handles_labels()\n",
    "        labels = [cluster_descriptions[int(label)] for label in labels]\n",
    "        ax.legend(handles, labels, title='Segment Descriptions', bbox_to_anchor=(1.05, 1), loc='upper left', fontsize='small')\n",
    "        # Add x-axis ticks at each actual SNAPSHOT_DATE and angle the labels 45 degrees\n",
    "        ax.set_xticks(result['SNAPSHOT_DATE'].unique())\n",
    "        # Format x-axis labels to show only date in 'YYYY-MM-DD' format\n",
    "        ax.set_xticklabels([pd.to_datetime(label).strftime('%Y-%m-%d') for label in result['SNAPSHOT_DATE'].unique()], rotation=45, ha='right')\n",
    "        plt.tight_layout()\n",
    "        plt.show()\n",
    "\n",
    "    # Check if the analysis was performed on a numeric column\n",
    "    elif result['is_numeric'].iloc[0]:\n",
    "        unique_values = sorted(result[\"SEGM_CLUST\"].unique())\n",
    "        palette = sns.color_palette(\"husl\", len(unique_values))\n",
    "        color_mapping = dict(zip(unique_values, palette))\n",
    "        plt.figure(figsize=(14, 8))\n",
    "        # Plot stacked bar graph using seaborn with increased size\n",
    "        if agg_method != 'flat_mean':\n",
    "            if agg_method == 'flat_sum':\n",
    "                ax = sns.histplot(data=result, x='SNAPSHOT_DATE', weights=\"sum\", hue='SEGM_CLUST', multiple='stack', bins=len(result['SNAPSHOT_DATE'].unique()), discrete = True, palette=color_mapping, shrink=8.0)\n",
    "                plt.title(f'GA Subs: {column_name} Per Segment, Flat Sums')\n",
    "                plt.xlabel('Snapshot Date')\n",
    "                plt.ylabel('Proportion of Subscribers' if agg_method == 'rel_perc_clust' else ('Subscriber Count' if column_name == \"SUB_BILLING_ID\" else ('Mean Value' if agg_method == 'flat_mean' else 'Sum Value')))\n",
    "                ax = plt.gca()\n",
    "                # Format x-axis labels to show only date in 'YYYY-MM-DD' format\n",
    "                # Add x-axis ticks at each actual SNAPSHOT_DATE and angle the labels 45 degrees\n",
    "                ax.set_xticks(result['SNAPSHOT_DATE'].unique())\n",
    "                # Format x-axis labels to show only date in 'YYYY-MM-DD' format\n",
    "                ax.set_xticklabels([pd.to_datetime(label).strftime('%Y-%m-%d') for label in result['SNAPSHOT_DATE'].unique()], rotation=45, ha='right')\n",
    "                # Set y-axis to display full numbers instead of scientific notation\n",
    "                ax.yaxis.set_major_formatter(ScalarFormatter())\n",
    "                ax.ticklabel_format(style='plain', axis='y')\n",
    "                # Move legend to the right side, outside of the graph and increase font size\n",
    "                handles = [plt.Rectangle((0,0),1,1, color=color_mapping[val]) for val in unique_values]\n",
    "                labels = [cluster_descriptions[int(val)] for val in unique_values]\n",
    "                ax.legend(handles, labels, title=column_name, bbox_to_anchor=(1.05, 1), loc='upper left', fontsize='small')\n",
    "                plt.tight_layout()\n",
    "                plt.show()\n",
    "        \n",
    "        # Plot line graph using seaborn with increased size\n",
    "        plt.figure(figsize=(14, 8))        \n",
    "        if agg_method == 'flat_mean':\n",
    "            sns.lineplot(data=result, x='SNAPSHOT_DATE', y='mean', hue='SEGM_CLUST', marker='o', palette=color_mapping)\n",
    "            plt.title(f'GA Subs: {column_name} Per Segment, Flat Mean Values')\n",
    "            plt.ylabel('Avg. in Subscribers')\n",
    "        elif agg_method == 'flat_sum':\n",
    "            sns.lineplot(data=result, x='SNAPSHOT_DATE', y='sum', hue='SEGM_CLUST', marker='o', palette=color_mapping)\n",
    "            plt.title(f'GA Subs: {column_name} Per Segment, Flat Sums')\n",
    "            plt.ylabel('Sum in Subscribers')\n",
    "        elif agg_method == 'rel_perc_clust':\n",
    "            #print(result.head(n=20))\n",
    "            sns.lineplot(data=result, x='SNAPSHOT_DATE', y='proportion', hue='SEGM_CLUST', marker='o', palette=color_mapping)\n",
    "            plt.title(f'GA Subs: {column_name} Per Segment, Relative To Clusters')\n",
    "            plt.ylabel('Proportion of Subscribers')\n",
    "        else:\n",
    "            plt.title(f'GA Subs: {column_name} Per Segment')\n",
    "        plt.xlabel('Snapshot Date')\n",
    "        # Move legend to the right side, outside of the graph and increase font size\n",
    "        ax = plt.gca()\n",
    "        handles, labels = ax.get_legend_handles_labels()\n",
    "        labels = [cluster_descriptions[int(label)] for label in labels]\n",
    "        ax.legend(handles, labels, title='Segment Descriptions', bbox_to_anchor=(1.05, 1), loc='upper left', fontsize='small')\n",
    "        # Add x-axis ticks at each actual SNAPSHOT_DATE and angle the labels 45 degrees\n",
    "        ax.set_xticks(result['SNAPSHOT_DATE'].unique())\n",
    "        # Format x-axis labels to show only date in 'YYYY-MM-DD' format\n",
    "        ax.set_xticklabels([pd.to_datetime(label).strftime('%Y-%m-%d') for label in result['SNAPSHOT_DATE'].unique()], rotation=45, ha='right')\n",
    "        plt.tight_layout()\n",
    "        plt.show()\n",
    "    else:      \n",
    "        # Define a consistent color palette for categorical columns\n",
    "        unique_values = df[column_name].unique()\n",
    "        palette = sns.color_palette(\"husl\", len(unique_values))\n",
    "        color_mapping = dict(zip(unique_values, palette))\n",
    "        # Convert SEGM_CLUST back to integer for correct sorting\n",
    "        result['SEGM_CLUST'] = result['SEGM_CLUST'].astype(int)\n",
    "        # Plot charts for each SEGM_CLUST value using seaborn\n",
    "        unique_clusters = sorted(result['SEGM_CLUST'].unique())\n",
    "        for cluster in unique_clusters:\n",
    "            cluster_df = result[result['SEGM_CLUST'] == cluster]\n",
    "            # Plot Stacked Bar\n",
    "            plt.figure(figsize=(14, 8))\n",
    "            if agg_method == 'flat_count':\n",
    "                ax = sns.histplot(data=cluster_df, x='SNAPSHOT_DATE', weights='count', hue=column_name, multiple='stack', bins=len(cluster_df['SNAPSHOT_DATE'].unique()), discrete=True, palette=color_mapping, shrink=8.0)            \n",
    "                plt.ylabel('Subscriber Count')\n",
    "                plt.title(f'GA Subs: {column_name} Flat Counts for Segment {cluster} ({cluster_descriptions[cluster]})')\n",
    "            else:\n",
    "                ax = sns.histplot(data=cluster_df, x='SNAPSHOT_DATE', weights='proportion', hue=column_name, multiple='stack', bins=len(cluster_df['SNAPSHOT_DATE'].unique()), discrete=True, palette=color_mapping, shrink=8.0)\n",
    "                plt.ylabel('Proportion of Subscribers')\n",
    "                plt.title(f'GA Subs: {column_name} Proportions for Segment {cluster} ({cluster_descriptions[cluster]})')\n",
    "            plt.xlabel('Snapshot Date')\n",
    "            # Format x-axis labels to show only date in 'YYYY-MM-DD' format\n",
    "            ax.set_xticks(cluster_df['SNAPSHOT_DATE'].unique())\n",
    "            ax.set_xticklabels([pd.to_datetime(label).strftime('%Y-%m-%d') for label in cluster_df['SNAPSHOT_DATE'].unique()], rotation=45, ha='right')\n",
    "            # Manually create legend handles and labels\n",
    "            handles = [plt.Rectangle((0,0),1,1, color=color_mapping[val]) for val in unique_values]\n",
    "            labels = unique_values\n",
    "            ax.legend(handles, labels, title=column_name, bbox_to_anchor=(1.05, 1), loc='upper left', fontsize='small')\n",
    "            plt.tight_layout()\n",
    "            plt.show()\n",
    "\n",
    "            # Plot Line Bar for Counts\n",
    "            plt.figure(figsize=(14, 8))\n",
    "            if agg_method == 'flat_count':\n",
    "                ax = sns.lineplot(data=cluster_df, x='SNAPSHOT_DATE', y='count', hue=column_name, marker='o', palette=color_mapping)            \n",
    "                plt.ylabel('Subscriber Count')\n",
    "                plt.title(f'GA Subs: {column_name} Flat Counts for Segment {cluster} ({cluster_descriptions[cluster]})')\n",
    "            else:\n",
    "                ax = sns.lineplot(data=cluster_df, x='SNAPSHOT_DATE', y='proportion', hue=column_name, marker='o', palette=color_mapping)\n",
    "                plt.ylabel('Proportion of Subscribers')\n",
    "                plt.title(f'GA Subs: {column_name} Proportions for Segment {cluster} ({cluster_descriptions[cluster]})')\n",
    "            plt.xlabel('Snapshot Date')\n",
    "            # Format x-axis labels to show only date in 'YYYY-MM-DD' format\n",
    "            ax.set_xticks(cluster_df['SNAPSHOT_DATE'].unique())\n",
    "            ax.set_xticklabels([pd.to_datetime(label).strftime('%Y-%m-%d') for label in cluster_df['SNAPSHOT_DATE'].unique()], rotation=45, ha='right')\n",
    "            # Manually create legend handles and labels\n",
    "            handles = [plt.Rectangle((0,0),1,1, color=color_mapping[val]) for val in unique_values]\n",
    "            labels = unique_values\n",
    "            ax.legend(handles, labels, title=column_name, bbox_to_anchor=(1.05, 1), loc='upper left', fontsize='small')\n",
    "            plt.tight_layout()\n",
    "            plt.show()"
   ]
  },
  {
   "cell_type": "code",
   "execution_count": null,
   "metadata": {},
   "outputs": [],
   "source": [
    "def run_prod_mix_analysis(df, count_type=\"flat_count\"):\n",
    "    # Convert SEGM_CLUST to integer type for correct sorting\n",
    "    df['SEGM_CLUST'] = df['SEGM_CLUST'].astype(int)\n",
    "    \n",
    "    unique_clusters = sorted(df['SEGM_CLUST'].unique())\n",
    "    \n",
    "    # Define colors for each PROD_DURATION_MONTHS and PROD_DATA_GROUP combination\n",
    "    color_dict = {\n",
    "        \"SMALL\": {\n",
    "            \"1\": \"#e1bdad\",\n",
    "            \"3\": \"#b5e5c2\",\n",
    "            \"6\": \"#aed6e1\",\n",
    "            \"12\": \"#dab7e1\"\n",
    "        },\n",
    "        \"MEDIUM\": {\n",
    "            \"1\": \"#e19c7d\",\n",
    "            \"3\": \"#7ee399\",\n",
    "            \"6\": \"#87cee1\",\n",
    "            \"12\": \"#d184e1\"\n",
    "        },\n",
    "        \"LARGE\": {\n",
    "            \"1\": \"#e57545\",\n",
    "            \"3\": \"#47e171\",\n",
    "            \"6\": \"#44c0e1\",\n",
    "            \"12\": \"#c745e1\"\n",
    "        },\n",
    "        \"UNLIMITED\": {\n",
    "            \"1\": \"#e85b1e\",\n",
    "            \"3\": \"#17e14e\",\n",
    "            \"6\": \"#18b5df\",\n",
    "            \"12\": \"#be1adf\"\n",
    "        }\n",
    "    }\n",
    "\n",
    "    # Define the desired order for PROD_DATA_GROUP and PROD_DURATION_MONTHS\n",
    "    prod_data_group_order = ['SMALL', 'MEDIUM', 'LARGE', 'UNLIMITED']\n",
    "    prod_duration_months_order = [\"1\", \"3\", \"6\", \"12\"]\n",
    "    \n",
    "    # Create a custom sorting function\n",
    "    def custom_sort_key(col):\n",
    "        duration, group = col\n",
    "        return (prod_duration_months_order.index(duration), prod_data_group_order.index(group))\n",
    "    \n",
    "    for cluster in unique_clusters:\n",
    "        cluster_df = df[df['SEGM_CLUST'] == cluster]\n",
    "\n",
    "        # Pivot the dataframe to get the counts of PROD_DATA_GROUP for each SNAPSHOT_DATE and PROD_DURATION_MONTHS\n",
    "        pivot_df = cluster_df.pivot_table(index='SNAPSHOT_DATE', columns=['PROD_DURATION_MONTHS', 'PROD_DATA_GROUP'], values='SUB_BILLING_ID', aggfunc='count', fill_value=0)\n",
    "        \n",
    "        if count_type == \"rel_perc_clust\":\n",
    "            # Calculate the total non-null count within the whole SEGM_CLUST and SNAPSHOT_DATE groupby\n",
    "            total_counts = cluster_df.groupby(['SNAPSHOT_DATE'])['SUB_BILLING_ID'].count()\n",
    "            pivot_df = pivot_df.div(total_counts, axis=0)\n",
    "            # Sort the columns based on the custom sorting function\n",
    "            pivot_df = pivot_df[sorted(pivot_df.columns, key=custom_sort_key)]\n",
    "            # Coerce SNAPSHOT_DATE to string format showing only yyyy-mm-dd\n",
    "            pivot_df.index = pivot_df.index.strftime('%Y-%m-%d')\n",
    "            \n",
    "            # Plot the line graph\n",
    "            plt.figure(figsize=(12, 8))\n",
    "            for col in pivot_df.columns:\n",
    "                plt.plot(pivot_df.index, pivot_df[col], label=f'{col[0]} {col[1]}', color=color_dict[col[1]][str(col[0])], marker='o')\n",
    "        else:       \n",
    "            # Sort the columns based on the custom sorting function\n",
    "            pivot_df = pivot_df[sorted(pivot_df.columns, key=custom_sort_key)]\n",
    "            # Coerce SNAPSHOT_DATE to string format showing only yyyy-mm-dd\n",
    "            pivot_df.index = pivot_df.index.strftime('%Y-%m-%d')\n",
    "            # Plot the stacked bar chart\n",
    "            pivot_df.plot(kind='bar', stacked=True, figsize=(12, 8), color=[color_dict[col[1]][str(col[0])] for col in pivot_df.columns])\n",
    "\n",
    "        ## DEBUG\n",
    "        #print(pivot_df.head(n=20))\n",
    "        ##\n",
    "        \n",
    "        # Update the title to display the cluster number and description\n",
    "        plt.title(f'GA Subs: Product Mix Chart for Cluster {cluster}: {cluster_descriptions[cluster]}')\n",
    "        plt.xlabel('Snapshot Date')\n",
    "        plt.ylabel('Subscriber Count' if count_type == \"flat_count\" else 'Proportion of Subscribers')\n",
    "        plt.xticks(rotation=45)\n",
    "        \n",
    "        # Set y-axis to display full numbers instead of scientific notation\n",
    "        plt.gca().yaxis.set_major_formatter(ScalarFormatter())\n",
    "        plt.gca().ticklabel_format(style='plain', axis='y')\n",
    "        \n",
    "        # Offset the legend to be on the side\n",
    "        handles, labels = plt.gca().get_legend_handles_labels()\n",
    "        by_label = dict(zip(labels, handles))\n",
    "        plt.legend(by_label.values(), by_label.keys(), title='Product Mix (Duration, Size)', bbox_to_anchor=(1.05, 1), loc='upper left')\n",
    "        \n",
    "        plt.tight_layout()\n",
    "        plt.show()"
   ]
  },
  {
   "cell_type": "markdown",
   "metadata": {},
   "source": [
    "# A. ACTUAL COUNTS IN SEGMENTS\n",
    "# -------------------------------"
   ]
  },
  {
   "cell_type": "markdown",
   "metadata": {},
   "source": [
    "# GA TOTAL SUBS COUNT"
   ]
  },
  {
   "cell_type": "code",
   "execution_count": null,
   "metadata": {},
   "outputs": [],
   "source": [
    "plot_analysis(df, \"SUB_BILLING_ID\", 'flat_count')"
   ]
  },
  {
   "cell_type": "markdown",
   "metadata": {},
   "source": [
    "# GA PRODUCT MIX"
   ]
  },
  {
   "cell_type": "code",
   "execution_count": null,
   "metadata": {},
   "outputs": [],
   "source": [
    "run_prod_mix_analysis(df, \"flat_count\")"
   ]
  },
  {
   "cell_type": "markdown",
   "metadata": {},
   "source": [
    "# PROMO TYPE"
   ]
  },
  {
   "cell_type": "code",
   "execution_count": null,
   "metadata": {},
   "outputs": [],
   "source": [
    "plot_analysis(df, \"PROMO_GROUPED\", 'flat_count')"
   ]
  },
  {
   "cell_type": "markdown",
   "metadata": {},
   "source": [
    "# GA EXPECTED CLV"
   ]
  },
  {
   "cell_type": "code",
   "execution_count": null,
   "metadata": {},
   "outputs": [],
   "source": [
    "plot_analysis(df, \"EXPECTED_CLV_PS\", 'flat_mean')"
   ]
  },
  {
   "cell_type": "markdown",
   "metadata": {},
   "source": [
    "# PORT-IN %"
   ]
  },
  {
   "cell_type": "code",
   "execution_count": null,
   "metadata": {},
   "outputs": [],
   "source": [
    "plot_analysis(df, \"PORTIN_FLAG\", \"flat_sum\")"
   ]
  },
  {
   "cell_type": "markdown",
   "metadata": {},
   "source": [
    "# PORT-IN SOURCES"
   ]
  },
  {
   "cell_type": "code",
   "execution_count": null,
   "metadata": {},
   "outputs": [],
   "source": [
    "plot_analysis(df, 'PORTIN_CMPT_GROUP_NAME_GROUPED', 'flat_count')"
   ]
  },
  {
   "cell_type": "markdown",
   "metadata": {
    "collapsed": true,
    "jupyter": {
     "outputs_hidden": true
    }
   },
   "source": [
    "# GA SUBS THAT HAD ISSUES PORTING IN"
   ]
  },
  {
   "cell_type": "code",
   "execution_count": null,
   "metadata": {},
   "outputs": [],
   "source": [
    "plot_analysis(df, 'HAD_ISSUES_PORTING_IN', 'flat_sum')"
   ]
  },
  {
   "cell_type": "markdown",
   "metadata": {},
   "source": [
    "# B. % COUNTS, SEGMENT vs SEGMENT\n",
    "# ----------------------------------------"
   ]
  },
  {
   "cell_type": "markdown",
   "metadata": {},
   "source": [
    "# GA TOTAL SUBS"
   ]
  },
  {
   "cell_type": "code",
   "execution_count": null,
   "metadata": {},
   "outputs": [],
   "source": [
    "plot_analysis(df, \"SUB_BILLING_ID\", 'rel_perc_clust')"
   ]
  },
  {
   "cell_type": "markdown",
   "metadata": {},
   "source": [
    "# GA PRODUCT MIX"
   ]
  },
  {
   "cell_type": "code",
   "execution_count": null,
   "metadata": {},
   "outputs": [],
   "source": [
    "run_prod_mix_analysis(df, \"rel_perc_clust\")"
   ]
  },
  {
   "cell_type": "markdown",
   "metadata": {},
   "source": [
    "# GA PROMO TYPE"
   ]
  },
  {
   "cell_type": "code",
   "execution_count": null,
   "metadata": {},
   "outputs": [],
   "source": [
    "plot_analysis(df, \"PROMO_GROUPED\", 'rel_perc_clust')"
   ]
  },
  {
   "cell_type": "markdown",
   "metadata": {},
   "source": [
    "# PORT-IN %"
   ]
  },
  {
   "cell_type": "code",
   "execution_count": null,
   "metadata": {},
   "outputs": [],
   "source": [
    "plot_analysis(df, \"PORTIN_FLAG\", \"rel_perc_clust\")"
   ]
  },
  {
   "cell_type": "markdown",
   "metadata": {},
   "source": [
    "# PORT-IN SOURCES"
   ]
  },
  {
   "cell_type": "code",
   "execution_count": null,
   "metadata": {},
   "outputs": [],
   "source": [
    "plot_analysis(df, 'PORTIN_CMPT_GROUP_NAME_GROUPED', 'rel_perc_clust')"
   ]
  },
  {
   "cell_type": "markdown",
   "metadata": {},
   "source": [
    "# GA SUBS w/ ISSUES PORTING IN"
   ]
  },
  {
   "cell_type": "code",
   "execution_count": null,
   "metadata": {},
   "outputs": [],
   "source": [
    "plot_analysis(df, 'HAD_ISSUES_PORTING_IN', 'rel_perc_clust')"
   ]
  }
 ],
 "metadata": {
  "kernelspec": {
   "display_name": "Python 3 (ipykernel)",
   "language": "python",
   "name": "python3"
  },
  "language_info": {
   "codemirror_mode": {
    "name": "ipython",
    "version": 3
   },
   "file_extension": ".py",
   "mimetype": "text/x-python",
   "name": "python",
   "nbconvert_exporter": "python",
   "pygments_lexer": "ipython3",
   "version": "3.11.10"
  }
 },
 "nbformat": 4,
 "nbformat_minor": 4
}
