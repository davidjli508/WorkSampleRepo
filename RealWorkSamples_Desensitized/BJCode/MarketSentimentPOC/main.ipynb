{
 "cells": [
  {
   "cell_type": "markdown",
   "metadata": {},
   "source": [
    "# ML Operationalization Example"
   ]
  },
  {
   "cell_type": "code",
   "execution_count": 130,
   "metadata": {},
   "outputs": [],
   "source": [
    "## Packages in Environment Needed\n",
    "import pandas as pd\n",
    "import datetime\n",
    "import snowflake.connector as sconn"
   ]
  },
  {
   "cell_type": "code",
   "execution_count": 131,
   "metadata": {},
   "outputs": [],
   "source": [
    "# Step 1: Pre-processing in Snowflake Tables \n",
    "# Consider: Done ahead of time in Snowflake tables vs. Done in Code After\n",
    "\n",
    "# Establish connections to Snowflake DB\n",
    "conn = sconn.connect(\n",
    "    user=\"DESENSITIZED\",\n",
    "    password=\"DESENSITIZED\",\n",
    "    account=\"DESENSITIZED\",\n",
    "    warehouse=\"DESENSITIZED\",\n",
    "    database=\"DESENSITIZED\",\n",
    "    schema=\"PUBLIC\",\n",
    "    role = \"ANALYTICS_ROLE\"\n",
    "    )\n",
    "\n",
    "# Pull DB Table into Pandas Dataframe\n",
    "\n",
    "# Create Cursor Object\n",
    "cur = conn.cursor()\n",
    "\n",
    "# Generate Result Set\n",
    "sql1 = \"select TOP 100000 * from PUBLIC.V_SUMMARY_BY_TOPIC_STOCK_15MIN\"\n",
    "cur.execute(sql1)\n",
    "\n",
    "# Fetch Result Set\n",
    "df = cur.fetch_pandas_all()\n",
    "\n",
    "## Pre-Processing\n",
    "num_df = df.select_dtypes(exclude=[\"datetime64[ns]\", \"object\"]).dropna()\n",
    "\n",
    "# Export df for testing\n",
    "num_df.to_csv(\"test.csv\")\n",
    "\n",
    "# Import test_pred.csv as pandas dataframe\n",
    "pred_df = pd.read_csv(\"test_pred.csv\").dropna()"
   ]
  },
  {
   "cell_type": "code",
   "execution_count": 132,
   "metadata": {},
   "outputs": [],
   "source": [
    "## Step 2: Pull Templated Model Code that is in .py form\n",
    "%run MLTemplates/SLearning/Regression/LinearRegression.py"
   ]
  },
  {
   "cell_type": "code",
   "execution_count": 133,
   "metadata": {},
   "outputs": [],
   "source": [
    "# Step 3: Run script to execute templated model code on intake dataset - Linear Regression for ex.\n",
    "RunLinearRegression(num_df, \"SV_SCORE\", pred_df, \"test_pred_table\", \"test_params_table\", \"test_metrics_table\")"
   ]
  },
  {
   "cell_type": "code",
   "execution_count": null,
   "metadata": {},
   "outputs": [],
   "source": []
  }
 ],
 "metadata": {
  "kernelspec": {
   "display_name": "base",
   "language": "python",
   "name": "python3"
  },
  "language_info": {
   "codemirror_mode": {
    "name": "ipython",
    "version": 3
   },
   "file_extension": ".py",
   "mimetype": "text/x-python",
   "name": "python",
   "nbconvert_exporter": "python",
   "pygments_lexer": "ipython3",
   "version": "3.11.3"
  },
  "orig_nbformat": 4
 },
 "nbformat": 4,
 "nbformat_minor": 2
}
