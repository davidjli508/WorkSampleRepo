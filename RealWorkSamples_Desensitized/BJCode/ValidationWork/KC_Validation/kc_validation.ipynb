{
 "cells": [
  {
   "cell_type": "code",
   "execution_count": null,
   "metadata": {},
   "outputs": [],
   "source": [
    "import pandas as pd"
   ]
  },
  {
   "cell_type": "code",
   "execution_count": null,
   "metadata": {},
   "outputs": [],
   "source": [
    "# Check Differences in Two Lists\n",
    "def list_membership(list1, list2):\n",
    "    print(\"In List 1 but not List 2:\")\n",
    "    list1_notlist2 = list(set(list1) - set(list2))\n",
    "    print(\"\")\n",
    "    print(\"In List 2 not in List 1\")\n",
    "    list2_notlist1 = list(set(list2) - set(list1))\n",
    "    print(\"\")\n",
    "    output_list = [list1_notlist2, list2_notlist1]\n",
    "    return output_list"
   ]
  },
  {
   "cell_type": "code",
   "execution_count": null,
   "metadata": {},
   "outputs": [],
   "source": [
    "# Compare Two Datasets for the Specified Columns\n",
    "# Requires ID columns and columns to be compared to have the same names\n",
    "def compare_datasets(df1, df2, list_id_cols, list_cols_compare, \n",
    "                     df1_str_cols, df1_num_cols, \n",
    "                     df2_str_cols, df2_num_cols,\n",
    "                     df1_date_cols, df2_date_cols,\n",
    "                     df1_suffix, df2_suffix):\n",
    "    \n",
    "    output_list_comparisons = []\n",
    "\n",
    "    # First Coerce Types to Reduce Ineffective Joins\n",
    "    # Strings\n",
    "    for str_col in df1_str_cols:\n",
    "        df1[str_col] = df1[str_col].astype(str)\n",
    "\n",
    "    for str_col in df2_str_cols:\n",
    "        df2[str_col] = df2[str_col].astype(str)\n",
    "    # Numerics\n",
    "    df1[df1_num_cols] = df1[df1_num_cols].apply(pd.to_numeric, errors='coerce', axis=1)\n",
    "    df2[df2_num_cols] = df2[df2_num_cols].apply(pd.to_numeric, errors='coerce', axis=1)\n",
    "    # Dates\n",
    "    df1[df1_date_cols] = df1[df1_date_cols].apply(pd.to_datetime, errors='coerce')\n",
    "    df2[df2_date_cols] = df2[df2_date_cols].apply(pd.to_datetime, errors='coerce')\n",
    "\n",
    "    for col_compare in list_cols_compare:\n",
    "        print(\"Comparing \" + col_compare + \" now.\")\n",
    "        id_col_and_col_compare_list = []\n",
    "        for id in list_id_cols:\n",
    "            id_col_and_col_compare_list.append(id)\n",
    "        id_col_and_col_compare_list.append(col_compare)\n",
    "        \n",
    "        df1_short = df1[id_col_and_col_compare_list]\n",
    "        df2_short = df2[id_col_and_col_compare_list]\n",
    "\n",
    "        df_join_1_2 = df1_short.merge(df2_short, how = \"left\", on = list_id_cols, suffixes=(df1_suffix, df2_suffix))\n",
    "        df_join_2_1 = df2_short.merge(df1_short, how = \"left\", on = list_id_cols, suffixes=(df2_suffix, df1_suffix))\n",
    "\n",
    "        df_join_1_2[\"match\"] = df_join_1_2[(col_compare + df1_suffix)] == df_join_1_2[(col_compare + df2_suffix)]\n",
    "        df_join_2_1[\"match\"] = df_join_2_1[(col_compare + df2_suffix)] == df_join_2_1[(col_compare + df1_suffix)]\n",
    "\n",
    "        output_list_comparisons.append(df_join_1_2)\n",
    "        output_list_comparisons.append(df_join_2_1)\n",
    "\n",
    "        df_join_1_2_mismatch = df_join_1_2[df_join_1_2[\"match\"] == 0]\n",
    "        df_join_2_1_mismatch = df_join_2_1[df_join_2_1[\"match\"] == 0]\n",
    "\n",
    "        output_list_comparisons.append(df_join_1_2_mismatch)\n",
    "        output_list_comparisons.append(df_join_2_1_mismatch)\n",
    "        print(\"\")\n",
    "\n",
    "    print(\"Function Completed.\")\n",
    "    return output_list_comparisons"
   ]
  },
  {
   "cell_type": "code",
   "execution_count": null,
   "metadata": {},
   "outputs": [],
   "source": [
    "# import datasets\n",
    "sfdc_cs = pd.read_csv(\"sfdc_cs.csv\")\n",
    "sfdc_hh = pd.read_csv(\"sfdc_hh.csv\")\n",
    "sfl_cs = pd.read_csv(\"sfl_cs.csv\")\n",
    "sfl_hh = pd.read_csv(\"sfl_hh.csv\")"
   ]
  },
  {
   "cell_type": "code",
   "execution_count": null,
   "metadata": {},
   "outputs": [],
   "source": [
    "for i in [sfdc_cs, sfdc_hh, sfl_cs, sfl_hh]:\n",
    "    print(i.shape)"
   ]
  },
  {
   "cell_type": "code",
   "execution_count": null,
   "metadata": {},
   "outputs": [],
   "source": [
    "# Renaming / formatting\n",
    "sfl_cs = sfl_cs[[\"SURVEY_DATE\", \"FOLLOW_UP_STATUS_C\", \"SURVEY_ID\", \"LEAD_ADVISOR_C\", \"TRUST_SCORE_C\", \"SATISFACTION_SCORE\", \"LIKELY_TO_RECOMMEND\"]]\n",
    "sfdc_cs.rename(columns = {'CreatedDate': 'SURVEY_DATE', 'Follow_Up_Status__c': 'FOLLOW_UP_STATUS_C', 'Id': 'SURVEY_ID', 'Lead_Advisor__c': 'LEAD_ADVISOR_C',\n",
    "       'Trust_Score__c': \"TRUST_SCORE_C\", 'X2016_Q2__c': 'SATISFACTION_SCORE', 'X2016_Q5__c': 'LIKELY_TO_RECOMMEND'}, inplace = True)\n",
    "\n",
    "sfdc_hh.rename(columns = {'Id': 'ID', 'Name': 'HOUSEHOLD_NAME', 'BeWELLthy_Intro_Date__c': 'BE_WELLTHY_INTRO_DATE_C', 'AnnualRevenue': 'CALCULATED_ANNUAL_REVENUE', 'Value_Stack__c': 'VALUE_STACK_C', \n",
    "                          'Client_Tier__c': 'CLIENT_TIER_C', 'Client_Engagement_Rank__c': 'CLIENT_ENGAGEMENT_RANK_C', 'Days_Since_Last_Client_Review__c': 'DSLCR', 'Days_Last_Contact__c': 'DSLC', \n",
    "                          'Associate_Advisor_Lookup__c': 'ASSOCIATE_ADVISOR', 'Lead_Advisor_Lookup__c': 'LEAD_ADVISOR', 'Client_Service_Coordinator_Lookup__c': 'ANALYST', 'Wealth_Start_Date__c': 'WEALTH_START_DATE_C',}, inplace = True)\n",
    "sfdc_hh = sfdc_hh[['ID', 'HOUSEHOLD_NAME', 'BE_WELLTHY_INTRO_DATE_C',\n",
    "       'CALCULATED_ANNUAL_REVENUE', 'VALUE_STACK_C', 'CLIENT_TIER_C',\n",
    "       'CLIENT_ENGAGEMENT_RANK_C', 'DSLCR', 'DSLC', 'ASSOCIATE_ADVISOR',\n",
    "       'LEAD_ADVISOR', 'ANALYST', 'WEALTH_START_DATE_C']]"
   ]
  },
  {
   "cell_type": "code",
   "execution_count": null,
   "metadata": {},
   "outputs": [],
   "source": [
    "sfl_cs.columns"
   ]
  },
  {
   "cell_type": "code",
   "execution_count": null,
   "metadata": {},
   "outputs": [],
   "source": [
    "sfdc_cs.columns"
   ]
  },
  {
   "cell_type": "code",
   "execution_count": null,
   "metadata": {},
   "outputs": [],
   "source": [
    "sfdc_cs"
   ]
  },
  {
   "cell_type": "code",
   "execution_count": null,
   "metadata": {},
   "outputs": [],
   "source": [
    "# Limit to Client Survey only found in Client Survey\n",
    "sfdc_cs = sfdc_cs[sfdc_cs[\"SURVEY_ID\"].isin(sfl_cs[\"SURVEY_ID\"].tolist())]"
   ]
  },
  {
   "cell_type": "code",
   "execution_count": null,
   "metadata": {},
   "outputs": [],
   "source": [
    "sfdc_cs"
   ]
  },
  {
   "cell_type": "code",
   "execution_count": null,
   "metadata": {},
   "outputs": [],
   "source": [
    "sfl_hh.columns"
   ]
  },
  {
   "cell_type": "code",
   "execution_count": null,
   "metadata": {},
   "outputs": [],
   "source": [
    "sfdc_hh.columns"
   ]
  },
  {
   "cell_type": "code",
   "execution_count": null,
   "metadata": {},
   "outputs": [],
   "source": [
    "cs_output = compare_datasets(sfl_cs, sfdc_cs, [\"SURVEY_ID\"], [\"SURVEY_DATE\", \"FOLLOW_UP_STATUS_C\", \"LEAD_ADVISOR_C\", \"TRUST_SCORE_C\", \"SATISFACTION_SCORE\", \"LIKELY_TO_RECOMMEND\"], \n",
    "                 [\"FOLLOW_UP_STATUS_C\", \"LEAD_ADVISOR_C\"], \n",
    "                 [\"TRUST_SCORE_C\", \"SATISFACTION_SCORE\", \"LIKELY_TO_RECOMMEND\"], \n",
    "                 [\"FOLLOW_UP_STATUS_C\", \"LEAD_ADVISOR_C\"], \n",
    "                 [\"TRUST_SCORE_C\", \"SATISFACTION_SCORE\", \"LIKELY_TO_RECOMMEND\"],\n",
    "                 [\"SURVEY_DATE\"], \n",
    "                 [\"SURVEY_DATE\"],\n",
    "                 \"_snow\", \"_sfdc\")"
   ]
  },
  {
   "cell_type": "code",
   "execution_count": null,
   "metadata": {},
   "outputs": [],
   "source": [
    "hh_output = compare_datasets(sfl_hh, sfdc_hh, [\"ID\"], ['HOUSEHOLD_NAME', 'BE_WELLTHY_INTRO_DATE_C',\n",
    "       'CALCULATED_ANNUAL_REVENUE', 'VALUE_STACK_C', 'CLIENT_TIER_C',\n",
    "       'CLIENT_ENGAGEMENT_RANK_C', 'DSLCR', 'DSLC', 'ASSOCIATE_ADVISOR',\n",
    "       'LEAD_ADVISOR', 'ANALYST', 'WEALTH_START_DATE_C'], \n",
    "       ['HOUSEHOLD_NAME', 'VALUE_STACK_C', 'CLIENT_TIER_C',\n",
    "       'CLIENT_ENGAGEMENT_RANK_C', 'ASSOCIATE_ADVISOR',\n",
    "       'LEAD_ADVISOR', 'ANALYST'], \n",
    "       ['CALCULATED_ANNUAL_REVENUE', 'DSLCR', 'DSLC'], \n",
    "       ['HOUSEHOLD_NAME', 'VALUE_STACK_C', 'CLIENT_TIER_C',\n",
    "       'CLIENT_ENGAGEMENT_RANK_C', 'ASSOCIATE_ADVISOR',\n",
    "       'LEAD_ADVISOR', 'ANALYST'], \n",
    "       ['CALCULATED_ANNUAL_REVENUE', 'DSLCR', 'DSLC'],\n",
    "       ['BE_WELLTHY_INTRO_DATE_C', 'WEALTH_START_DATE_C'], \n",
    "       ['BE_WELLTHY_INTRO_DATE_C', 'WEALTH_START_DATE_C'],\n",
    "       \"_snow\", \"_sfdc\")"
   ]
  },
  {
   "cell_type": "code",
   "execution_count": null,
   "metadata": {},
   "outputs": [],
   "source": [
    "counter = 0\n",
    "for i in cs_output:\n",
    "    print(str(counter) + \": \")\n",
    "    print(i.columns)\n",
    "    counter = counter + 1\n",
    "counter = 0"
   ]
  },
  {
   "cell_type": "code",
   "execution_count": null,
   "metadata": {},
   "outputs": [],
   "source": [
    "cs_output[6]"
   ]
  },
  {
   "cell_type": "code",
   "execution_count": null,
   "metadata": {},
   "outputs": [],
   "source": [
    "cs_output[7]"
   ]
  },
  {
   "cell_type": "code",
   "execution_count": null,
   "metadata": {},
   "outputs": [],
   "source": [
    "import datetime"
   ]
  },
  {
   "cell_type": "code",
   "execution_count": null,
   "metadata": {},
   "outputs": [],
   "source": [
    "# df[df.the_date_column > datetime.datetime.now() - pd.to_timedelta(\"30day\")]\n",
    "# datetime.now().astimezone()"
   ]
  },
  {
   "cell_type": "code",
   "execution_count": null,
   "metadata": {},
   "outputs": [],
   "source": [
    "sfdc_cs_new = pd.read_csv(\"sfdc_cs_new.csv\")\n",
    "sfl_cs_new = pd.read_csv(\"sfl_cs_new.csv\")\n"
   ]
  },
  {
   "cell_type": "code",
   "execution_count": null,
   "metadata": {},
   "outputs": [],
   "source": [
    "for i in [sfdc_cs_new, sfl_cs_new]:\n",
    "    print(i.shape)"
   ]
  },
  {
   "cell_type": "code",
   "execution_count": null,
   "metadata": {},
   "outputs": [],
   "source": [
    "sfl_cs_new = sfl_cs_new[[\"SURVEY_DATE\", \"FOLLOW_UP_STATUS_C\", \"SURVEY_ID\", \"LEAD_ADVISOR_C\", \"TRUST_SCORE_C\", \"SATISFACTION_SCORE\", \"LIKELY_TO_RECOMMEND\"]]\n",
    "sfdc_cs_new.rename(columns = {'CreatedDate': 'SURVEY_DATE', 'Follow_Up_Status__c': 'FOLLOW_UP_STATUS_C', 'Id': 'SURVEY_ID', 'Lead_Advisor__c': 'LEAD_ADVISOR_C',\n",
    "       'Trust_Score__c': \"TRUST_SCORE_C\", 'X2016_Q2__c': 'SATISFACTION_SCORE', 'X2016_Q5__c': 'LIKELY_TO_RECOMMEND'}, inplace = True)\n"
   ]
  },
  {
   "cell_type": "code",
   "execution_count": null,
   "metadata": {},
   "outputs": [],
   "source": [
    "# Limit to Client Survey only found in Client Survey\n",
    "sfdc_cs_new = sfdc_cs_new[sfdc_cs_new[\"SURVEY_ID\"].isin(sfl_cs_new[\"SURVEY_ID\"].tolist())]"
   ]
  },
  {
   "cell_type": "code",
   "execution_count": null,
   "metadata": {},
   "outputs": [],
   "source": [
    "for i in [sfdc_cs_new, sfl_cs_new]:\n",
    "    print(i.shape)"
   ]
  },
  {
   "cell_type": "code",
   "execution_count": null,
   "metadata": {},
   "outputs": [],
   "source": [
    "sfl_cs_new"
   ]
  },
  {
   "cell_type": "code",
   "execution_count": null,
   "metadata": {},
   "outputs": [],
   "source": [
    "joined_cs = sfl_cs_new.merge(sfdc_cs_new, on = \"SURVEY_ID\", how = \"left\", suffixes = ('_sfl', '_sfdc'))"
   ]
  },
  {
   "cell_type": "code",
   "execution_count": null,
   "metadata": {},
   "outputs": [],
   "source": [
    "joined_cs"
   ]
  },
  {
   "cell_type": "code",
   "execution_count": null,
   "metadata": {},
   "outputs": [],
   "source": [
    "cs_output_new = compare_datasets(sfl_cs_new, sfdc_cs_new, [\"SURVEY_ID\"], [\"SURVEY_DATE\", \"FOLLOW_UP_STATUS_C\", \"LEAD_ADVISOR_C\", \"TRUST_SCORE_C\", \"SATISFACTION_SCORE\", \"LIKELY_TO_RECOMMEND\"], \n",
    "                 [\"FOLLOW_UP_STATUS_C\", \"LEAD_ADVISOR_C\"], \n",
    "                 [\"TRUST_SCORE_C\", \"SATISFACTION_SCORE\", \"LIKELY_TO_RECOMMEND\"], \n",
    "                 [\"FOLLOW_UP_STATUS_C\", \"LEAD_ADVISOR_C\"], \n",
    "                 [\"TRUST_SCORE_C\", \"SATISFACTION_SCORE\", \"LIKELY_TO_RECOMMEND\"],\n",
    "                 [\"SURVEY_DATE\"], \n",
    "                 [\"SURVEY_DATE\"],\n",
    "                 \"_snow\", \"_sfdc\")"
   ]
  },
  {
   "cell_type": "code",
   "execution_count": null,
   "metadata": {},
   "outputs": [],
   "source": [
    "cs_output_new[7]"
   ]
  }
 ],
 "metadata": {
  "kernelspec": {
   "display_name": "base",
   "language": "python",
   "name": "python3"
  },
  "language_info": {
   "codemirror_mode": {
    "name": "ipython",
    "version": 3
   },
   "file_extension": ".py",
   "mimetype": "text/x-python",
   "name": "python",
   "nbconvert_exporter": "python",
   "pygments_lexer": "ipython3",
   "version": "3.11.5"
  }
 },
 "nbformat": 4,
 "nbformat_minor": 2
}
