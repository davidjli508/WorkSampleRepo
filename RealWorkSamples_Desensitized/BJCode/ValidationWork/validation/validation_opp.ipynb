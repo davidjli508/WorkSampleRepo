{
 "cells": [
  {
   "cell_type": "code",
   "execution_count": null,
   "metadata": {},
   "outputs": [],
   "source": [
    "import pandas as pd\n",
    "import datetime as datetime"
   ]
  },
  {
   "cell_type": "code",
   "execution_count": null,
   "metadata": {},
   "outputs": [],
   "source": [
    "report_table = pd.read_csv(\"opp_table_3.csv\")\n",
    "SFDC_table = pd.read_csv(\"SFDC.csv\")\n",
    "emp_table = pd.read_csv(\"emp_tbl.csv\")\n"
   ]
  },
  {
   "cell_type": "code",
   "execution_count": null,
   "metadata": {},
   "outputs": [],
   "source": [
    "print(report_table.columns.tolist())"
   ]
  },
  {
   "cell_type": "code",
   "execution_count": null,
   "metadata": {},
   "outputs": [],
   "source": [
    "print(SFDC_table.columns.tolist())"
   ]
  },
  {
   "cell_type": "markdown",
   "metadata": {},
   "source": [
    "Total Opportunities in Current BD Year"
   ]
  },
  {
   "cell_type": "code",
   "execution_count": null,
   "metadata": {},
   "outputs": [],
   "source": [
    "report_table_bd = report_table[report_table[\"CLOSE_DATE\"] >= \"2023-10-01\"]\n",
    "report_table_bd = report_table_bd[report_table_bd[\"CREATED_DATE\"] <= \"2023-12-13\"]"
   ]
  },
  {
   "cell_type": "code",
   "execution_count": null,
   "metadata": {},
   "outputs": [],
   "source": [
    "report_table_bd"
   ]
  },
  {
   "cell_type": "code",
   "execution_count": null,
   "metadata": {},
   "outputs": [],
   "source": [
    "SFDC_table = SFDC_table.drop(SFDC_table[SFDC_table[\"Opportunity ID\"] == \"006RQ0000040H1o\"].index)"
   ]
  },
  {
   "cell_type": "code",
   "execution_count": null,
   "metadata": {},
   "outputs": [],
   "source": [
    "SFDC_table"
   ]
  },
  {
   "cell_type": "code",
   "execution_count": null,
   "metadata": {},
   "outputs": [],
   "source": [
    "# Check if there are different IDs\n",
    "list1 = report_table_bd[\"OPPORTUNITYID\"]\n",
    "list2 = SFDC_table[\"Opportunity ID\"]\n",
    "\n",
    "print(list(set(list1) - set(list2)))\n",
    "print(list(set(list1) - set(list2)))"
   ]
  },
  {
   "cell_type": "markdown",
   "metadata": {},
   "source": [
    "Check Annual Agreement Value (Net)"
   ]
  },
  {
   "cell_type": "code",
   "execution_count": null,
   "metadata": {},
   "outputs": [],
   "source": [
    "report_table_bd[\"TOTAL_ANNUAL_AGREEMENT_NET\"].sum()"
   ]
  },
  {
   "cell_type": "code",
   "execution_count": null,
   "metadata": {},
   "outputs": [],
   "source": [
    "SFDC_table[\"Annual Agreement Value (Net)\"].sum()"
   ]
  },
  {
   "cell_type": "code",
   "execution_count": null,
   "metadata": {},
   "outputs": [],
   "source": [
    "# Investigate Difference\n",
    "report_small = report_table_bd[[\"OPPORTUNITYID\", \"TOTAL_ANNUAL_AGREEMENT_NET\"]]\n",
    "sfdc_small = SFDC_table[[\"Opportunity ID\", \"Annual Agreement Value (Net)\"]]\n",
    "                    "
   ]
  },
  {
   "cell_type": "code",
   "execution_count": null,
   "metadata": {},
   "outputs": [],
   "source": [
    "report_small_join = report_small.merge(sfdc_small, how = \"left\", left_on = \"OPPORTUNITYID\", right_on = \"Opportunity ID\")\n",
    "report_small_join.drop(\"Opportunity ID\", axis = 1, inplace = True)"
   ]
  },
  {
   "cell_type": "code",
   "execution_count": null,
   "metadata": {},
   "outputs": [],
   "source": [
    "report_small_join"
   ]
  },
  {
   "cell_type": "code",
   "execution_count": null,
   "metadata": {},
   "outputs": [],
   "source": [
    "report_small_join[\"match\"] = report_small_join[\"TOTAL_ANNUAL_AGREEMENT_NET\"] == report_small_join[\"Annual Agreement Value (Net)\"]"
   ]
  },
  {
   "cell_type": "code",
   "execution_count": null,
   "metadata": {},
   "outputs": [],
   "source": [
    "report_small_join[report_small_join[\"match\"] == 0]"
   ]
  },
  {
   "cell_type": "code",
   "execution_count": null,
   "metadata": {},
   "outputs": [],
   "source": [
    "report_small_join[report_small_join[\"match\"] == 0][\"OPPORTUNITYID\"].tolist()"
   ]
  },
  {
   "cell_type": "markdown",
   "metadata": {},
   "source": [
    "Check Expected Revenue  (which is Total Annual Agreement Value (Gross) * Avg Close Rate)"
   ]
  },
  {
   "cell_type": "code",
   "execution_count": null,
   "metadata": {},
   "outputs": [],
   "source": [
    "#Get Total Annual Agreement Value for both first\n",
    "report_table_tot = report_table_bd[report_table_bd[\"CREATED_DATE\"] >= \"06-23-2022\"]\n",
    "report_table_tot = report_table_tot[report_table_tot[\"RECORD_TYPE_NAME\"] == \"Advisory\"]\n",
    "report_table_tot = report_table_tot[report_table_tot[\"SEGMENT\"] != \"Open\"]\n",
    "report_table_tot = report_table_tot[report_table_tot[\"CLOSE_DATE\"] >= \"06-23-2022\"]\n",
    "\n",
    "report_table_TW = report_table_tot[report_table_tot[\"STAGE_NAME\"] == \"Stage 4 - New Client\"]"
   ]
  },
  {
   "cell_type": "code",
   "execution_count": null,
   "metadata": {},
   "outputs": [],
   "source": [
    "report_table_TW.shape[0]"
   ]
  },
  {
   "cell_type": "code",
   "execution_count": null,
   "metadata": {},
   "outputs": [],
   "source": [
    "report_table_TC = report_table_tot[report_table_tot[\"STAGE_NAME\"].isin([\"Stage 4 - New Client\", \"Fallout\"])]\n"
   ]
  },
  {
   "cell_type": "code",
   "execution_count": null,
   "metadata": {},
   "outputs": [],
   "source": [
    "report_table_TC.shape[0]"
   ]
  },
  {
   "cell_type": "code",
   "execution_count": null,
   "metadata": {},
   "outputs": [],
   "source": [
    "SFDC_table_tot = SFDC_table[SFDC_table[\"Created Date\"] >= \"06-23-2022\"]\n",
    "SFDC_table_tot  = SFDC_table_tot [SFDC_table_tot [\"Opportunity Record Type\"] == \"Advisory\"]\n",
    "SFDC_table_tot  = SFDC_table_tot [SFDC_table_tot [\"Segment\"] != \"Open\"]\n",
    "SFDC_table_tot  = SFDC_table_tot [SFDC_table_tot [\"Close Date\"] >= \"06-23-2022\"]\n",
    "\n",
    "SFDC_table_TW  = SFDC_table_tot[SFDC_table_tot[\"Stage\"] == \"Stage 4 - New Client\"]"
   ]
  },
  {
   "cell_type": "code",
   "execution_count": null,
   "metadata": {},
   "outputs": [],
   "source": [
    "SFDC_table_TW.shape[0]"
   ]
  },
  {
   "cell_type": "code",
   "execution_count": null,
   "metadata": {},
   "outputs": [],
   "source": [
    "SFDC_table_TC = SFDC_table_tot[SFDC_table_tot[\"Stage\"].isin([\"Stage 4 - New Client\", \"Fallout\"])]\n"
   ]
  },
  {
   "cell_type": "code",
   "execution_count": null,
   "metadata": {},
   "outputs": [],
   "source": [
    "SFDC_table_TC.shape[0]"
   ]
  },
  {
   "cell_type": "code",
   "execution_count": null,
   "metadata": {},
   "outputs": [],
   "source": []
  },
  {
   "cell_type": "code",
   "execution_count": null,
   "metadata": {},
   "outputs": [],
   "source": [
    "report_table_tot[\"TOTAL_ANNUAL_AGREEMENT_NET\"].sum() * (report_table_TW.shape[0]/report_table_TC.shape[0])"
   ]
  },
  {
   "cell_type": "code",
   "execution_count": null,
   "metadata": {},
   "outputs": [],
   "source": [
    "SFDC_table_tot[\"Annual Agreement Value (Net)\"].sum() * (SFDC_table_TW.shape[0]/SFDC_table_TC.shape[0])"
   ]
  },
  {
   "cell_type": "markdown",
   "metadata": {},
   "source": [
    "Compare # of Won & Closed Opportunities"
   ]
  },
  {
   "cell_type": "code",
   "execution_count": null,
   "metadata": {},
   "outputs": [],
   "source": [
    "SFDC_table"
   ]
  },
  {
   "cell_type": "markdown",
   "metadata": {},
   "source": [
    "Check Won"
   ]
  },
  {
   "cell_type": "code",
   "execution_count": null,
   "metadata": {},
   "outputs": [],
   "source": [
    "reporting_won = report_table_bd[report_table_bd[\"IS_WON\"] == 1]\n",
    "reporting_lost = report_table_bd[report_table_bd[\"IS_WON\"] == 0]\n",
    "\n",
    "sfdc_won = SFDC_table[SFDC_table[\"Won\"] == 1]\n",
    "sfdc_lost = SFDC_table[SFDC_table[\"Won\"] == 0]"
   ]
  },
  {
   "cell_type": "code",
   "execution_count": null,
   "metadata": {},
   "outputs": [],
   "source": [
    "SFDC_table[\"Won\"].value_counts()"
   ]
  },
  {
   "cell_type": "code",
   "execution_count": null,
   "metadata": {},
   "outputs": [],
   "source": [
    "report_table_bd[\"IS_WON\"].value_counts()"
   ]
  },
  {
   "cell_type": "code",
   "execution_count": null,
   "metadata": {},
   "outputs": [],
   "source": [
    "wonlost_join = sfdc_won.merge(report_table_bd, how = \"left\", right_on = \"OPPORTUNITYID\", left_on = \"Opportunity ID\")"
   ]
  },
  {
   "cell_type": "code",
   "execution_count": null,
   "metadata": {},
   "outputs": [],
   "source": [
    "wonlost_join = wonlost_join[[\"OPPORTUNITYID\", \"IS_WON\", \"Won\"]]"
   ]
  },
  {
   "cell_type": "code",
   "execution_count": null,
   "metadata": {},
   "outputs": [],
   "source": [
    "wonlost_join[\"match\"] = wonlost_join[\"IS_WON\"] == wonlost_join[\"Won\"]"
   ]
  },
  {
   "cell_type": "code",
   "execution_count": null,
   "metadata": {},
   "outputs": [],
   "source": [
    "wonlost_join[wonlost_join[\"match\"] == False]"
   ]
  },
  {
   "cell_type": "markdown",
   "metadata": {},
   "source": [
    "Check Closed Opps"
   ]
  },
  {
   "cell_type": "code",
   "execution_count": null,
   "metadata": {},
   "outputs": [],
   "source": [
    "reporting_close = report_table_bd[report_table_bd[\"IS_CLOSED\"] == 1]\n",
    "reporting_open = report_table_bd[report_table_bd[\"IS_CLOSED\"] == 1]\n",
    "\n",
    "sfdc_close = SFDC_table[SFDC_table[\"Closed\"] == 1]\n",
    "sfdc_open = SFDC_table[SFDC_table[\"Closed\"] == 0]"
   ]
  },
  {
   "cell_type": "code",
   "execution_count": null,
   "metadata": {},
   "outputs": [],
   "source": [
    "SFDC_table[\"Closed\"].value_counts()"
   ]
  },
  {
   "cell_type": "code",
   "execution_count": null,
   "metadata": {},
   "outputs": [],
   "source": [
    "report_table_bd[\"IS_CLOSED\"].value_counts()"
   ]
  },
  {
   "cell_type": "code",
   "execution_count": null,
   "metadata": {},
   "outputs": [],
   "source": [
    "closeopen_join = sfdc_close.merge(report_table_bd, how = \"left\", right_on = \"OPPORTUNITYID\", left_on = \"Opportunity ID\")\n",
    "closeopen_join = closeopen_join[[\"OPPORTUNITYID\", \"IS_CLOSED\", \"Closed\"]]"
   ]
  },
  {
   "cell_type": "code",
   "execution_count": null,
   "metadata": {},
   "outputs": [],
   "source": [
    "closeopen_join[\"match\"] = closeopen_join[\"IS_CLOSED\"] == closeopen_join[\"Closed\"]"
   ]
  },
  {
   "cell_type": "code",
   "execution_count": null,
   "metadata": {},
   "outputs": [],
   "source": [
    "closeopen_join[closeopen_join[\"match\"] == False]"
   ]
  },
  {
   "cell_type": "markdown",
   "metadata": {},
   "source": [
    "Check Opportunity Owners Match"
   ]
  },
  {
   "cell_type": "code",
   "execution_count": null,
   "metadata": {},
   "outputs": [],
   "source": [
    "report_opp_owner = report_table_bd[[\"OPPORTUNITYID\", \"OPPORTUNITY_OWNER\"]]"
   ]
  },
  {
   "cell_type": "code",
   "execution_count": null,
   "metadata": {},
   "outputs": [],
   "source": [
    "report_opp_owner.shape[0]"
   ]
  },
  {
   "cell_type": "code",
   "execution_count": null,
   "metadata": {},
   "outputs": [],
   "source": [
    "sfdc_opp_owner = SFDC_table[[\"Opportunity ID\", \"Opportunity Owner\"]]"
   ]
  },
  {
   "cell_type": "code",
   "execution_count": null,
   "metadata": {},
   "outputs": [],
   "source": [
    "sfdc_opp_owner.shape[0]"
   ]
  },
  {
   "cell_type": "code",
   "execution_count": null,
   "metadata": {},
   "outputs": [],
   "source": [
    "opp_join = report_opp_owner.merge(sfdc_opp_owner, how = \"inner\", left_on = \"OPPORTUNITYID\", right_on = \"Opportunity ID\")\n",
    "opp_join.drop(\"Opportunity ID\", axis = 1, inplace = True)"
   ]
  },
  {
   "cell_type": "code",
   "execution_count": null,
   "metadata": {},
   "outputs": [],
   "source": [
    "opp_join = opp_join.merge(emp_table, how = \"left\", left_on = \"OPPORTUNITY_OWNER\", right_on = \"USER_ID\")\n",
    "opp_join.drop(\"USER_ID\", axis = 1, inplace = True)"
   ]
  },
  {
   "cell_type": "code",
   "execution_count": null,
   "metadata": {},
   "outputs": [],
   "source": [
    "opp_join[\"match\"] = opp_join[\"Opportunity Owner\"] == opp_join[\"EMPLOYEE_NAME\"]"
   ]
  },
  {
   "cell_type": "code",
   "execution_count": null,
   "metadata": {},
   "outputs": [],
   "source": [
    "opp_join[opp_join[\"match\"] == 0]"
   ]
  },
  {
   "cell_type": "markdown",
   "metadata": {},
   "source": [
    "Check Lead Advisors Match"
   ]
  },
  {
   "cell_type": "code",
   "execution_count": null,
   "metadata": {},
   "outputs": [],
   "source": [
    "report_la = report_table_bd[[\"OPPORTUNITYID\", \"LEAD_ADVISOR_NAME\"]]"
   ]
  },
  {
   "cell_type": "code",
   "execution_count": null,
   "metadata": {},
   "outputs": [],
   "source": [
    "sfdc_la = SFDC_table[[\"Opportunity ID\", \"Lead Advisor\"]]"
   ]
  },
  {
   "cell_type": "code",
   "execution_count": null,
   "metadata": {},
   "outputs": [],
   "source": [
    "la_join = report_la.merge(sfdc_la, how = \"inner\", left_on = \"OPPORTUNITYID\", right_on = \"Opportunity ID\")\n",
    "la_join.drop(\"Opportunity ID\", axis = 1, inplace = True)\n"
   ]
  },
  {
   "cell_type": "code",
   "execution_count": null,
   "metadata": {},
   "outputs": [],
   "source": [
    "la_join"
   ]
  },
  {
   "cell_type": "code",
   "execution_count": null,
   "metadata": {},
   "outputs": [],
   "source": [
    "la_join[\"match\"] = la_join[\"LEAD_ADVISOR_NAME\"] == la_join[\"Lead Advisor\"]"
   ]
  },
  {
   "cell_type": "code",
   "execution_count": null,
   "metadata": {},
   "outputs": [],
   "source": [
    "match_df = la_join[la_join[\"match\"] == 0]"
   ]
  },
  {
   "cell_type": "code",
   "execution_count": null,
   "metadata": {},
   "outputs": [],
   "source": [
    "match_df[match_df[\"Lead Advisor\"] == \"Laura Hearn\"][\"OPPORTUNITYID\"]"
   ]
  },
  {
   "cell_type": "markdown",
   "metadata": {},
   "source": [
    "Lead Source Matching\n"
   ]
  },
  {
   "cell_type": "code",
   "execution_count": null,
   "metadata": {},
   "outputs": [],
   "source": [
    "report_ls = report_table_bd[[\"OPPORTUNITYID\", \"LEAD_SOURCE\"]]"
   ]
  },
  {
   "cell_type": "code",
   "execution_count": null,
   "metadata": {},
   "outputs": [],
   "source": [
    "sfdc_ls = SFDC_table[[\"Opportunity ID\", \"Lead Source\"]]"
   ]
  },
  {
   "cell_type": "code",
   "execution_count": null,
   "metadata": {},
   "outputs": [],
   "source": [
    "ls_join = report_ls.merge(sfdc_ls, how = \"inner\", left_on = \"OPPORTUNITYID\", right_on = \"Opportunity ID\")\n",
    "ls_join.drop(\"Opportunity ID\", axis = 1, inplace = True)"
   ]
  },
  {
   "cell_type": "code",
   "execution_count": null,
   "metadata": {},
   "outputs": [],
   "source": [
    "ls_join"
   ]
  },
  {
   "cell_type": "code",
   "execution_count": null,
   "metadata": {},
   "outputs": [],
   "source": [
    "ls_join[\"match\"] = ls_join[\"LEAD_SOURCE\"] == ls_join[\"Lead Source\"]"
   ]
  },
  {
   "cell_type": "code",
   "execution_count": null,
   "metadata": {},
   "outputs": [],
   "source": [
    "match_ls_df = ls_join[ls_join[\"match\"] == 0]"
   ]
  },
  {
   "cell_type": "code",
   "execution_count": null,
   "metadata": {},
   "outputs": [],
   "source": [
    "match_ls_df"
   ]
  },
  {
   "cell_type": "markdown",
   "metadata": {},
   "source": [
    "Within Revenue Channels, check closed business amount is correct"
   ]
  },
  {
   "cell_type": "code",
   "execution_count": null,
   "metadata": {},
   "outputs": [],
   "source": [
    "report_table_bd"
   ]
  },
  {
   "cell_type": "code",
   "execution_count": null,
   "metadata": {},
   "outputs": [],
   "source": [
    "report_table_bd.groupby([\"LEAD_SOURCE\"])[\"TOTAL_ANNUAL_AGREEMENT_NET\"].sum()"
   ]
  },
  {
   "cell_type": "code",
   "execution_count": null,
   "metadata": {},
   "outputs": [],
   "source": [
    "# Check out Slef Gen\n",
    "report_selfgen = report_table_bd[report_table_bd[\"LEAD_SOURCE\"] == \"Self Generated\"]"
   ]
  },
  {
   "cell_type": "code",
   "execution_count": null,
   "metadata": {},
   "outputs": [],
   "source": [
    "report_selfgen"
   ]
  },
  {
   "cell_type": "code",
   "execution_count": null,
   "metadata": {},
   "outputs": [],
   "source": [
    "report_selfgen_small = report_selfgen[[\"OPPORTUNITYID\", \"TOTAL_ANNUAL_AGREEMENT_NET\"]]"
   ]
  },
  {
   "cell_type": "code",
   "execution_count": null,
   "metadata": {},
   "outputs": [],
   "source": [
    "report_selfgen_small"
   ]
  },
  {
   "cell_type": "code",
   "execution_count": null,
   "metadata": {},
   "outputs": [],
   "source": [
    "# Get SFDC Counterpart\n",
    "sfdc_selfgen_small = SFDC_table[[\"Opportunity ID\", \"Lead Source\", \"Annual Agreement Value (Net)\"]]"
   ]
  },
  {
   "cell_type": "code",
   "execution_count": null,
   "metadata": {},
   "outputs": [],
   "source": [
    "sfdc_selfgen_small = sfdc_selfgen_small[sfdc_selfgen_small[\"Lead Source\"] == \"Self Generated\"]\n",
    "sfdc_selfgen_small.drop(\"Lead Source\", axis = 1, inplace = True)"
   ]
  },
  {
   "cell_type": "code",
   "execution_count": null,
   "metadata": {},
   "outputs": [],
   "source": [
    "sfdc_selfgen_small"
   ]
  },
  {
   "cell_type": "code",
   "execution_count": null,
   "metadata": {},
   "outputs": [],
   "source": [
    "selfgen_join = report_selfgen_small.merge(sfdc_selfgen_small, how = \"left\", left_on = \"OPPORTUNITYID\", right_on = \"Opportunity ID\")"
   ]
  },
  {
   "cell_type": "code",
   "execution_count": null,
   "metadata": {},
   "outputs": [],
   "source": [
    "selfgen_join"
   ]
  },
  {
   "cell_type": "code",
   "execution_count": null,
   "metadata": {},
   "outputs": [],
   "source": [
    "selfgen_join[\"match\"] = selfgen_join[\"TOTAL_ANNUAL_AGREEMENT_NET\"] == selfgen_join[\"Annual Agreement Value (Net)\"]"
   ]
  },
  {
   "cell_type": "code",
   "execution_count": null,
   "metadata": {},
   "outputs": [],
   "source": [
    "selfgen_join"
   ]
  },
  {
   "cell_type": "code",
   "execution_count": null,
   "metadata": {},
   "outputs": [],
   "source": [
    "selfgen_join[selfgen_join[\"match\"] == 0]"
   ]
  },
  {
   "cell_type": "markdown",
   "metadata": {},
   "source": [
    "By Lead Advisor, Check Amt of Closed Business is correct"
   ]
  },
  {
   "cell_type": "code",
   "execution_count": null,
   "metadata": {},
   "outputs": [],
   "source": [
    "report_table_bd.groupby([\"LEAD_ADVISOR_NAME\"])[\"TOTAL_ANNUAL_AGREEMENT_NET\"].sum()"
   ]
  },
  {
   "cell_type": "code",
   "execution_count": null,
   "metadata": {},
   "outputs": [],
   "source": [
    "report_bb = report_table_bd[report_table_bd[\"LEAD_ADVISOR_NAME\"] == \"Brian Burgess\"][[\"OPPORTUNITYID\", \"TOTAL_ANNUAL_AGREEMENT_NET\"]]\n",
    "report_jf = report_table_bd[report_table_bd[\"LEAD_ADVISOR_NAME\"] == \"Jennifer Facini\"][[\"OPPORTUNITYID\", \"TOTAL_ANNUAL_AGREEMENT_NET\"]]\n",
    "report_jr = report_table_bd[report_table_bd[\"LEAD_ADVISOR_NAME\"] == \"Jesica Ray\"][[\"OPPORTUNITYID\", \"TOTAL_ANNUAL_AGREEMENT_NET\"]]\n",
    "report_mm = report_table_bd[report_table_bd[\"LEAD_ADVISOR_NAME\"] == \"Matt Mormino\"][[\"OPPORTUNITYID\", \"TOTAL_ANNUAL_AGREEMENT_NET\"]]"
   ]
  },
  {
   "cell_type": "code",
   "execution_count": null,
   "metadata": {},
   "outputs": [],
   "source": [
    "# Get SFDC Counterpart\n",
    "sfdc_bb_small = SFDC_table[[\"Opportunity ID\", \"Lead Advisor\", \"Annual Agreement Value (Net)\"]]\n",
    "sfdc_bb_small = sfdc_bb_small[sfdc_bb_small[\"Lead Advisor\"] == \"Brian Burgess\"]\n",
    "sfdc_bb_small.drop(\"Lead Advisor\", axis = 1, inplace = True)\n",
    "\n",
    "sfdc_jf_small = SFDC_table[[\"Opportunity ID\", \"Lead Advisor\", \"Annual Agreement Value (Net)\"]]\n",
    "sfdc_jf_small = sfdc_jf_small[sfdc_jf_small[\"Lead Advisor\"] == \"Jennifer Facini\"]\n",
    "sfdc_jf_small.drop(\"Lead Advisor\", axis = 1, inplace = True)\n",
    "\n",
    "sfdc_jr_small = SFDC_table[[\"Opportunity ID\", \"Lead Advisor\", \"Annual Agreement Value (Net)\"]]\n",
    "sfdc_jr_small = sfdc_jr_small[sfdc_jr_small[\"Lead Advisor\"] == \"Jesica Ray\"]\n",
    "sfdc_jr_small.drop(\"Lead Advisor\", axis = 1, inplace = True)\n",
    "\n",
    "sfdc_mm_small = SFDC_table[[\"Opportunity ID\", \"Lead Advisor\", \"Annual Agreement Value (Net)\"]]\n",
    "sfdc_mm_small = sfdc_mm_small[sfdc_mm_small[\"Lead Advisor\"] == \"Matt Mormino\"]\n",
    "sfdc_mm_small.drop(\"Lead Advisor\", axis = 1, inplace = True)"
   ]
  },
  {
   "cell_type": "code",
   "execution_count": null,
   "metadata": {},
   "outputs": [],
   "source": [
    "bb_join = report_bb.merge(sfdc_bb_small, how = \"left\", left_on = \"OPPORTUNITYID\", right_on = \"Opportunity ID\")\n",
    "jf_join = report_jf.merge(sfdc_jf_small, how = \"left\", left_on = \"OPPORTUNITYID\", right_on = \"Opportunity ID\")\n",
    "jr_join = report_jr.merge(sfdc_jr_small, how = \"left\", left_on = \"OPPORTUNITYID\", right_on = \"Opportunity ID\")\n",
    "mm_join = sfdc_mm_small.merge(report_mm, how = \"left\", left_on = \"Opportunity ID\", right_on = \"OPPORTUNITYID\")"
   ]
  },
  {
   "cell_type": "code",
   "execution_count": null,
   "metadata": {},
   "outputs": [],
   "source": [
    "bb_join[\"match\"] = bb_join[\"TOTAL_ANNUAL_AGREEMENT_NET\"] == bb_join[\"Annual Agreement Value (Net)\"]\n",
    "jf_join[\"match\"] = jf_join[\"TOTAL_ANNUAL_AGREEMENT_NET\"] == jf_join[\"Annual Agreement Value (Net)\"]\n",
    "jr_join[\"match\"] = jr_join[\"TOTAL_ANNUAL_AGREEMENT_NET\"] == jr_join[\"Annual Agreement Value (Net)\"]\n",
    "mm_join[\"match\"] = mm_join[\"TOTAL_ANNUAL_AGREEMENT_NET\"] == mm_join[\"Annual Agreement Value (Net)\"]"
   ]
  },
  {
   "cell_type": "code",
   "execution_count": null,
   "metadata": {},
   "outputs": [],
   "source": [
    "bb_join[bb_join[\"match\"] == 0]"
   ]
  },
  {
   "cell_type": "code",
   "execution_count": null,
   "metadata": {},
   "outputs": [],
   "source": [
    "jf_join[jf_join[\"match\"] == 0]"
   ]
  },
  {
   "cell_type": "code",
   "execution_count": null,
   "metadata": {},
   "outputs": [],
   "source": [
    "jr_join[jr_join[\"match\"] == 0]"
   ]
  },
  {
   "cell_type": "code",
   "execution_count": null,
   "metadata": {},
   "outputs": [],
   "source": [
    "mm_join[mm_join[\"match\"] == 0]"
   ]
  },
  {
   "cell_type": "markdown",
   "metadata": {},
   "source": []
  }
 ],
 "metadata": {
  "kernelspec": {
   "display_name": "base",
   "language": "python",
   "name": "python3"
  },
  "language_info": {
   "codemirror_mode": {
    "name": "ipython",
    "version": 3
   },
   "file_extension": ".py",
   "mimetype": "text/x-python",
   "name": "python",
   "nbconvert_exporter": "python",
   "pygments_lexer": "ipython3",
   "version": "3.11.5"
  }
 },
 "nbformat": 4,
 "nbformat_minor": 2
}
