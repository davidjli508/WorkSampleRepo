{
 "cells": [
  {
   "cell_type": "code",
   "execution_count": null,
   "metadata": {},
   "outputs": [],
   "source": [
    "import pandas as pd"
   ]
  },
  {
   "cell_type": "code",
   "execution_count": null,
   "metadata": {},
   "outputs": [],
   "source": [
    "hh_snow = pd.read_csv(\"hh_snowflake.csv\")\n",
    "hh_wb = pd.read_csv(\"hh_wb.csv\")\n",
    "hh_wb_isdeleted = [\"0012R00002CGSaqQAH\", \"0012R00002L16hLQAR\", \"0012R00002MW32uQAD\", \"0012R00002MX8UXQA1\", \"0012R00002MXHpaQAH\", \n",
    "                   \"0012R00002MZHuCQAX\", \"0012R00002MZpABQA1\", \"0014400001vNmpLAAS\", \"00144000025AjxQAAS\", \"001RQ0000013rVWYAY\", \n",
    "                   \"001RQ0000013sBOYAY\", \"001RQ0000015mgGYAQ\", \"001RQ000001iuYzYAI\", \"001RQ000004bpB9YAI\", \"001RQ000004e2fAYAQ\"]"
   ]
  },
  {
   "cell_type": "code",
   "execution_count": null,
   "metadata": {},
   "outputs": [],
   "source": [
    "hh_snow"
   ]
  },
  {
   "cell_type": "code",
   "execution_count": null,
   "metadata": {},
   "outputs": [],
   "source": [
    "hh_wb"
   ]
  },
  {
   "cell_type": "code",
   "execution_count": null,
   "metadata": {},
   "outputs": [],
   "source": [
    "# Apply Dataset filters\n",
    "print(hh_snow.shape[0])\n",
    "print(hh_wb.shape[0] + len(hh_wb_isdeleted))"
   ]
  },
  {
   "cell_type": "code",
   "execution_count": null,
   "metadata": {},
   "outputs": [],
   "source": [
    "# Figure out what accounts are in one but not other\n",
    "\n",
    "snowflake_list = hh_snow[\"ID\"].tolist()\n",
    "wb_list = hh_wb[\"Id\"].tolist()\n",
    "\n",
    "# Add deleted records\n",
    "wb_list = wb_list + hh_wb_isdeleted\n",
    "\n",
    "in_snowflake_not_wb = list(set(snowflake_list) - set(wb_list))\n",
    "in_wb_not_snowflake = list(set(wb_list) - set(snowflake_list))\n",
    "\n",
    "in_snowflake_not_wb_df = pd.DataFrame({'Id_diff':in_snowflake_not_wb})\n",
    "in_wb_not_snowflake_df = pd.DataFrame({'Id_dfff':in_wb_not_snowflake})"
   ]
  },
  {
   "cell_type": "code",
   "execution_count": null,
   "metadata": {},
   "outputs": [],
   "source": [
    "in_snowflake_not_wb_df"
   ]
  },
  {
   "cell_type": "code",
   "execution_count": null,
   "metadata": {},
   "outputs": [],
   "source": [
    "in_wb_not_snowflake_df"
   ]
  },
  {
   "cell_type": "code",
   "execution_count": null,
   "metadata": {},
   "outputs": [],
   "source": [
    "# Remove 65 old records from reporting table to compare\n",
    "hh_snow = hh_snow[~hh_snow[\"ID\"].isin(in_snowflake_not_wb)]\n",
    "print(hh_snow.shape[0])"
   ]
  },
  {
   "cell_type": "code",
   "execution_count": null,
   "metadata": {},
   "outputs": [],
   "source": [
    "# Sanity check with remaining workbench rows\n",
    "snowflake_list = hh_snow[\"ID\"].tolist()\n",
    "print(list(set(snowflake_list) - set(wb_list)))\n",
    "print(list(set(wb_list) - set(snowflake_list)))"
   ]
  },
  {
   "cell_type": "markdown",
   "metadata": {},
   "source": [
    "# Main Validation"
   ]
  },
  {
   "cell_type": "code",
   "execution_count": null,
   "metadata": {},
   "outputs": [],
   "source": [
    "# hh_snow\n",
    "# hh_wb\n",
    "\n",
    "hh_snow"
   ]
  },
  {
   "cell_type": "code",
   "execution_count": null,
   "metadata": {},
   "outputs": [],
   "source": [
    "hh_wb.columns"
   ]
  }
 ],
 "metadata": {
  "kernelspec": {
   "display_name": "base",
   "language": "python",
   "name": "python3"
  },
  "language_info": {
   "codemirror_mode": {
    "name": "ipython",
    "version": 3
   },
   "file_extension": ".py",
   "mimetype": "text/x-python",
   "name": "python",
   "nbconvert_exporter": "python",
   "pygments_lexer": "ipython3",
   "version": "3.11.5"
  }
 },
 "nbformat": 4,
 "nbformat_minor": 2
}
