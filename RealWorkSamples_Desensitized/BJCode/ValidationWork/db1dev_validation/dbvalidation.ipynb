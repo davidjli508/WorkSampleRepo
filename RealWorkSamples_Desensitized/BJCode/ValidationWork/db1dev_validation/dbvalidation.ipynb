{
 "cells": [
  {
   "cell_type": "code",
   "execution_count": null,
   "metadata": {},
   "outputs": [],
   "source": [
    "import numpy as np\n",
    "import pandas as pd"
   ]
  },
  {
   "cell_type": "code",
   "execution_count": null,
   "metadata": {},
   "outputs": [],
   "source": [
    "# Check Differences in Two Lists\n",
    "def list_membership(list1, list2):\n",
    "    print(\"In List 1 but not List 2:\")\n",
    "    list1_notlist2 = list(set(list1) - set(list2))\n",
    "    print(\"\")\n",
    "    print(\"In List 2 not in List 1\")\n",
    "    list2_notlist1 = list(set(list2) - set(list1))\n",
    "    print(\"\")\n",
    "    output_list = [list1_notlist2, list2_notlist1]\n",
    "    return output_list"
   ]
  },
  {
   "cell_type": "code",
   "execution_count": null,
   "metadata": {},
   "outputs": [],
   "source": [
    "# Compare Two Datasets for the Specified Columns\n",
    "# Requires ID columns and columns to be compared to have the same names\n",
    "def compare_datasets(df1, df2, list_id_cols, list_cols_compare, \n",
    "                     df1_str_cols, df1_num_cols, df2_str_cols, df2_num_cols,\n",
    "                     df1_suffix, df2_suffix, full_output, left_right_all):\n",
    "    \n",
    "    assert isinstance(full_output, bool), \"Full_Output must be a boolean (True or False).\"\n",
    "    assert left_right_all in {\"left\", \"right\", \"all\"}, f\"Invalid Left_Right_All value. Expected 'left', 'right', or 'all'.\"\n",
    "    \n",
    "    output_list_comparisons = []\n",
    "\n",
    "    # First Coerce Types to Reduce Ineffective Joins\n",
    "    # Strings\n",
    "    for str_col in df1_str_cols:\n",
    "        df1[str_col] = df1[str_col].astype(str)\n",
    "\n",
    "    for str_col in df2_str_cols:\n",
    "        df2[str_col] = df2[str_col].astype(str)\n",
    "    # Numerics\n",
    "    df1[df1_num_cols] = df1[df1_num_cols].apply(pd.to_numeric, errors='coerce', axis=1)\n",
    "    df2[df2_num_cols] = df2[df2_num_cols].apply(pd.to_numeric, errors='coerce', axis=1)\n",
    "\n",
    "    for col_compare in list_cols_compare:\n",
    "        print(\"Comparing \" + col_compare + \" now.\")\n",
    "        id_col_and_col_compare_list = []\n",
    "        for id in list_id_cols:\n",
    "            id_col_and_col_compare_list.append(id)\n",
    "        id_col_and_col_compare_list.append(col_compare)\n",
    "        \n",
    "        df1_short = df1[id_col_and_col_compare_list]\n",
    "        df2_short = df2[id_col_and_col_compare_list]\n",
    "\n",
    "        df_join_1_2 = df1_short.merge(df2_short, how = \"left\", on = list_id_cols, suffixes=(df1_suffix, df2_suffix))\n",
    "        df_join_2_1 = df2_short.merge(df1_short, how = \"left\", on = list_id_cols, suffixes=(df2_suffix, df1_suffix))\n",
    "\n",
    "        #df_join_1_2[\"match\"] = df_join_1_2[(col_compare + df1_suffix)] == df_join_1_2[(col_compare + df2_suffix)]\n",
    "        df_join_1_2[\"match\"] = df_join_1_2[(col_compare + df1_suffix)].fillna('-').eq(df_join_1_2[(col_compare + df2_suffix)].fillna('-'))\n",
    "        #df_join_2_1[\"match\"] = df_join_2_1[(col_compare + df2_suffix)] == df_join_2_1[(col_compare + df1_suffix)]\n",
    "        df_join_2_1[\"match\"] = df_join_2_1[(col_compare + df2_suffix)].fillna('-').eq(df_join_2_1[(col_compare + df1_suffix)].fillna('-'))\n",
    "\n",
    "        df_join_1_2_mismatch = df_join_1_2[df_join_1_2[\"match\"] == 0]\n",
    "        df_join_2_1_mismatch = df_join_2_1[df_join_2_1[\"match\"] == 0]\n",
    "\n",
    "        if left_right_all == 'all':\n",
    "            if full_output == True:\n",
    "                output_list_comparisons.append(df_join_1_2)\n",
    "                output_list_comparisons.append(df_join_2_1)\n",
    "            output_list_comparisons.append(df_join_1_2_mismatch)\n",
    "            output_list_comparisons.append(df_join_2_1_mismatch)\n",
    "        elif left_right_all == 'left':\n",
    "            if full_output == True:\n",
    "                output_list_comparisons.append(df_join_1_2)\n",
    "            output_list_comparisons.append(df_join_1_2_mismatch)\n",
    "        elif left_right_all == 'right':\n",
    "            if full_output == True:\n",
    "                output_list_comparisons.append(df_join_2_1)\n",
    "            output_list_comparisons.append(df_join_2_1_mismatch)\n",
    "\n",
    "        print(\"\")\n",
    "\n",
    "    print(\"Function Completed.\")\n",
    "    return output_list_comparisons"
   ]
  },
  {
   "cell_type": "code",
   "execution_count": null,
   "metadata": {},
   "outputs": [],
   "source": [
    "def save_xls(list_dfs, xls_path):\n",
    "    \"\"\"\n",
    "    Save a list of DataFrames to an Excel file, with each DataFrame as a separate sheet.\n",
    "    \"\"\"\n",
    "    with pd.ExcelWriter(xls_path) as writer:\n",
    "        for n, df in enumerate(list_dfs):\n",
    "            df.to_excel(writer, sheet_name=f'sheet{n}')"
   ]
  },
  {
   "cell_type": "markdown",
   "metadata": {},
   "source": [
    "Cash Needs"
   ]
  },
  {
   "cell_type": "code",
   "execution_count": null,
   "metadata": {},
   "outputs": [],
   "source": [
    "cashneeds_dbd = pd.read_csv(\"db-dev/cashneeds.csv\")\n",
    "cashneeds_db1 = pd.read_csv(\"db1/cashneeds.csv\")"
   ]
  },
  {
   "cell_type": "code",
   "execution_count": null,
   "metadata": {},
   "outputs": [],
   "source": [
    "cashneeds_dbd"
   ]
  },
  {
   "cell_type": "code",
   "execution_count": null,
   "metadata": {},
   "outputs": [],
   "source": [
    "cashneeds_dbd.columns"
   ]
  },
  {
   "cell_type": "code",
   "execution_count": null,
   "metadata": {},
   "outputs": [],
   "source": [
    "cashneeds_db1.columns"
   ]
  },
  {
   "cell_type": "code",
   "execution_count": null,
   "metadata": {},
   "outputs": [],
   "source": [
    "cashneeds_output = compare_datasets(cashneeds_dbd, cashneeds_db1, [\"SalesforceId\", \"ClientId\", \"ToYear\", \"FromYear\"], ['EffectiveFrom',\n",
    "       'Amount', 'SortOrder', 'Type', 'Description', 'Inflate'], \n",
    "                     [\"EffectiveFrom\", \"Type\", \"Description\"], [\"Amount\", \"Inflate\", \"SortOrder\"], [\"EffectiveFrom\", \"Type\", \"Description\"], [\"Amount\", \"Inflate\", \"SortOrder\"],\n",
    "                     \"_dbd\", \"_db1\", False, \"left\")"
   ]
  },
  {
   "cell_type": "code",
   "execution_count": null,
   "metadata": {},
   "outputs": [],
   "source": [
    "save_xls(cashneeds_output, xls_path = \"cashneeds.xlsx\")"
   ]
  },
  {
   "cell_type": "markdown",
   "metadata": {},
   "source": [
    "ClientList"
   ]
  },
  {
   "cell_type": "code",
   "execution_count": null,
   "metadata": {},
   "outputs": [],
   "source": [
    "clientlist_dbd = pd.read_csv(\"db-dev/clientlist.csv\")\n",
    "clientlist_db1 = pd.read_csv(\"db1/clientlist.csv\")"
   ]
  },
  {
   "cell_type": "code",
   "execution_count": null,
   "metadata": {},
   "outputs": [],
   "source": [
    "clientlist_dbd"
   ]
  },
  {
   "cell_type": "code",
   "execution_count": null,
   "metadata": {},
   "outputs": [],
   "source": [
    "clientlist_dbd.columns"
   ]
  },
  {
   "cell_type": "code",
   "execution_count": null,
   "metadata": {},
   "outputs": [],
   "source": [
    "clientlist_db1.columns"
   ]
  },
  {
   "cell_type": "code",
   "execution_count": null,
   "metadata": {},
   "outputs": [],
   "source": [
    "clientlist_output = compare_datasets(clientlist_dbd, clientlist_db1, [\"SalesforceId\"], ['AccountName', 'Client1_FirstName', 'Client1_LastName',\n",
    "       'Client1_Age', 'Client2_FirstName', 'Client2_LastName', 'Client2_Age',\n",
    "       'MailingName', 'ClientId', 'InvestmentStrategy',\n",
    "       'MinimumCapitalPreservation', 'YearsToProtect', 'MinimumHighIncome',\n",
    "       'YearsToProtectHighIncome', 'AllocateToPrivateCredit'], \n",
    "       ['AccountName', 'Client1_FirstName', 'Client1_LastName', 'Client2_FirstName', 'Client2_LastName', 'MailingName', 'ClientId', 'InvestmentStrategy'], \n",
    "       ['Client1_Age', 'Client2_Age', 'MinimumCapitalPreservation', 'YearsToProtect', 'MinimumHighIncome',\n",
    "       'YearsToProtectHighIncome', 'AllocateToPrivateCredit'], \n",
    "       ['AccountName', 'Client1_FirstName', 'Client1_LastName', 'Client2_FirstName', 'Client2_LastName', 'MailingName', 'ClientId', 'InvestmentStrategy'], \n",
    "       ['Client1_Age', 'Client2_Age', 'MinimumCapitalPreservation', 'YearsToProtect', 'MinimumHighIncome',\n",
    "       'YearsToProtectHighIncome', 'AllocateToPrivateCredit'], \"_dbd\", \"_db1\", False, \"left\")"
   ]
  },
  {
   "cell_type": "code",
   "execution_count": null,
   "metadata": {},
   "outputs": [],
   "source": [
    "save_xls(clientlist_output, xls_path = \"clientlist.xlsx\")"
   ]
  },
  {
   "cell_type": "markdown",
   "metadata": {},
   "source": [
    "Clients"
   ]
  },
  {
   "cell_type": "code",
   "execution_count": null,
   "metadata": {},
   "outputs": [],
   "source": [
    "clients_dbd = pd.read_csv(\"db-dev/clients.csv\")\n",
    "clients_db1 = pd.read_csv(\"db1/clients.csv\")"
   ]
  },
  {
   "cell_type": "code",
   "execution_count": null,
   "metadata": {},
   "outputs": [],
   "source": [
    "clients_dbd"
   ]
  },
  {
   "cell_type": "code",
   "execution_count": null,
   "metadata": {},
   "outputs": [],
   "source": [
    "clients_dbd.columns"
   ]
  },
  {
   "cell_type": "code",
   "execution_count": null,
   "metadata": {},
   "outputs": [],
   "source": [
    "clients_db1.columns"
   ]
  },
  {
   "cell_type": "code",
   "execution_count": null,
   "metadata": {},
   "outputs": [],
   "source": [
    "clients_output = compare_datasets(clients_dbd, clients_db1, [\"SalesforceId\"], ['ClientId', 'Name', 'Wealth_Client', 'Wealth_Segment',\n",
    "       'Office_Location', 'Managing_Director', 'Lead_Advisor',\n",
    "       'Associate_Advisor', 'Support_Analyst', 'Client_Service_Coordinator',\n",
    "       'Portfolio_Manager', 'Pod'], \n",
    "                     ['ClientId', 'Name', 'Wealth_Client', 'Wealth_Segment',\n",
    "       'Office_Location', 'Managing_Director', 'Lead_Advisor',\n",
    "       'Associate_Advisor', 'Support_Analyst', 'Client_Service_Coordinator',\n",
    "       'Portfolio_Manager', 'Pod'], [], ['ClientId', 'Name', 'Wealth_Client', 'Wealth_Segment',\n",
    "       'Office_Location', 'Managing_Director', 'Lead_Advisor',\n",
    "       'Associate_Advisor', 'Support_Analyst', 'Client_Service_Coordinator',\n",
    "       'Portfolio_Manager', 'Pod'], [],\n",
    "                     \"_dbd\", \"_db1\", False, \"left\")"
   ]
  },
  {
   "cell_type": "code",
   "execution_count": null,
   "metadata": {},
   "outputs": [],
   "source": [
    "save_xls(clients_output, xls_path = \"clients.xlsx\")"
   ]
  },
  {
   "cell_type": "markdown",
   "metadata": {},
   "source": [
    "FundLineups"
   ]
  },
  {
   "cell_type": "code",
   "execution_count": null,
   "metadata": {},
   "outputs": [],
   "source": [
    "fundlineups_dbd = pd.read_csv(\"db-dev/fundlineups.csv\")\n",
    "fundlineups_db1 = pd.read_csv(\"db1/fundlineups.csv\")"
   ]
  },
  {
   "cell_type": "code",
   "execution_count": null,
   "metadata": {},
   "outputs": [],
   "source": [
    "fundlineups_dbd"
   ]
  },
  {
   "cell_type": "code",
   "execution_count": null,
   "metadata": {},
   "outputs": [],
   "source": [
    "fundlineups_dbd.columns"
   ]
  },
  {
   "cell_type": "code",
   "execution_count": null,
   "metadata": {},
   "outputs": [],
   "source": [
    "fundlineups_db1.columns"
   ]
  },
  {
   "cell_type": "code",
   "execution_count": null,
   "metadata": {},
   "outputs": [],
   "source": [
    "fundlineups_output = compare_datasets(fundlineups_dbd, fundlineups_db1, [\"SalesforceId\"], ['AmountInvested', 'Ticker', 'LineUpDate', 'ClientId', 'Name'], \n",
    "                     ['Ticker', 'LineUpDate', 'ClientId', 'Name'], ['AmountInvested'], ['Ticker', 'LineUpDate', 'ClientId', 'Name'], ['AmountInvested'],\n",
    "                     \"_dbd\", \"_db1\", False, \"left\")"
   ]
  },
  {
   "cell_type": "code",
   "execution_count": null,
   "metadata": {},
   "outputs": [],
   "source": [
    "save_xls(fundlineups_output, xls_path = \"fundlineups.xlsx\")"
   ]
  },
  {
   "cell_type": "markdown",
   "metadata": {},
   "source": [
    "ManualAssets"
   ]
  },
  {
   "cell_type": "code",
   "execution_count": null,
   "metadata": {},
   "outputs": [],
   "source": [
    "manualassets_dbd = pd.read_csv(\"db-dev/manualassets.csv\")\n",
    "manualassets_db1 = pd.read_csv(\"db1/manualassets.csv\")"
   ]
  },
  {
   "cell_type": "code",
   "execution_count": null,
   "metadata": {},
   "outputs": [],
   "source": [
    "manualassets_dbd"
   ]
  },
  {
   "cell_type": "code",
   "execution_count": null,
   "metadata": {},
   "outputs": [],
   "source": [
    "manualassets_dbd.columns"
   ]
  },
  {
   "cell_type": "code",
   "execution_count": null,
   "metadata": {},
   "outputs": [],
   "source": [
    "manualassets_db1.columns"
   ]
  },
  {
   "cell_type": "code",
   "execution_count": null,
   "metadata": {},
   "outputs": [],
   "source": [
    "manualassets_output = compare_datasets(manualassets_dbd, manualassets_db1, [\"SalesforceId\"], ['Client_Id', 'Legacy_Name', 'Account_Type',\n",
    "       'Sort_Order', 'Account_Number', 'Description', 'Updated_Value_Date',\n",
    "       'Total_Value'], \n",
    "       ['Client_Id', 'Legacy_Name', 'Account_Type','Account_Number', 'Description', 'Updated_Value_Date'], \n",
    "       ['Sort_Order', 'Total_Value'], ['Client_Id', 'Legacy_Name', 'Account_Type','Account_Number', 'Description', 'Updated_Value_Date'], ['Sort_Order', 'Total_Value'],\n",
    "       \"_dbd\", \"_db1\", False, \"left\")"
   ]
  },
  {
   "cell_type": "code",
   "execution_count": null,
   "metadata": {},
   "outputs": [],
   "source": [
    "save_xls(manualassets_output, xls_path = \"manualassets.xlsx\")"
   ]
  },
  {
   "cell_type": "markdown",
   "metadata": {},
   "source": [
    "MrSettings"
   ]
  },
  {
   "cell_type": "code",
   "execution_count": null,
   "metadata": {},
   "outputs": [],
   "source": [
    "mrsettings_dbd = pd.read_csv(\"db-dev/mrsettings.csv\")\n",
    "mrsettings_db1 = pd.read_csv(\"db1/mrsettings.csv\")"
   ]
  },
  {
   "cell_type": "code",
   "execution_count": null,
   "metadata": {},
   "outputs": [],
   "source": [
    "mrsettings_dbd"
   ]
  },
  {
   "cell_type": "code",
   "execution_count": null,
   "metadata": {},
   "outputs": [],
   "source": [
    "\n",
    "mrsettings_dbd.columns"
   ]
  },
  {
   "cell_type": "code",
   "execution_count": null,
   "metadata": {},
   "outputs": [],
   "source": [
    "mrsettings_db1.columns"
   ]
  },
  {
   "cell_type": "code",
   "execution_count": null,
   "metadata": {},
   "outputs": [],
   "source": [
    "mrsettings_output = compare_datasets(mrsettings_dbd, mrsettings_db1, [\"SalesforceId\"], ['ClientId', 'TargetWeightToAlternatives',\n",
    "       'AllocateToBlueprint', 'ApplyTowardsCumulativeCashNeeds',\n",
    "       'ApplyTowardsSPGoals', 'InvestmentStrategy',\n",
    "       'MinimumCapitalPreservation', 'MinimumHighIncome', 'MiscellaneousA',\n",
    "       'MiscellaneousB', 'MiscellaneousC', 'TaxRateAdjustment', 'Ticker1Name',\n",
    "       'Ticker1Weight', 'Ticker2Name', 'Ticker2Weight', 'Ticker3Name',\n",
    "       'Ticker3Weight', 'YearsToProtectCPP', 'YearsToProtectHIP'], \n",
    "                     ['ClientId', 'TargetWeightToAlternatives',\n",
    "       'AllocateToBlueprint', 'ApplyTowardsCumulativeCashNeeds',\n",
    "       'ApplyTowardsSPGoals', 'InvestmentStrategy',\n",
    "       'MinimumCapitalPreservation', 'MinimumHighIncome', 'MiscellaneousA',\n",
    "       'MiscellaneousB', 'MiscellaneousC', 'TaxRateAdjustment', 'Ticker1Name',\n",
    "       'Ticker1Weight', 'Ticker2Name', 'Ticker2Weight', 'Ticker3Name',\n",
    "       'Ticker3Weight', 'YearsToProtectCPP', 'YearsToProtectHIP'], [], ['ClientId', 'TargetWeightToAlternatives',\n",
    "       'AllocateToBlueprint', 'ApplyTowardsCumulativeCashNeeds',\n",
    "       'ApplyTowardsSPGoals', 'InvestmentStrategy',\n",
    "       'MinimumCapitalPreservation', 'MinimumHighIncome', 'MiscellaneousA',\n",
    "       'MiscellaneousB', 'MiscellaneousC', 'TaxRateAdjustment', 'Ticker1Name',\n",
    "       'Ticker1Weight', 'Ticker2Name', 'Ticker2Weight', 'Ticker3Name',\n",
    "       'Ticker3Weight', 'YearsToProtectCPP', 'YearsToProtectHIP'], [],\n",
    "                     \"_dbd\", \"_db1\", False,\"left\")"
   ]
  },
  {
   "cell_type": "code",
   "execution_count": null,
   "metadata": {},
   "outputs": [],
   "source": [
    "save_xls(mrsettings_output, xls_path = \"mrsettings.xlsx\")"
   ]
  },
  {
   "cell_type": "markdown",
   "metadata": {},
   "source": [
    "SecurityInfo"
   ]
  },
  {
   "cell_type": "code",
   "execution_count": null,
   "metadata": {},
   "outputs": [],
   "source": [
    "securityinfo_dbd = pd.read_csv(\"db-dev/securityinfo.csv\")\n",
    "securityinfo_db1 = pd.read_csv(\"db1/securityinfo.csv\")"
   ]
  },
  {
   "cell_type": "code",
   "execution_count": null,
   "metadata": {},
   "outputs": [],
   "source": [
    "securityinfo_dbd"
   ]
  },
  {
   "cell_type": "code",
   "execution_count": null,
   "metadata": {},
   "outputs": [],
   "source": [
    "securityinfo_dbd.columns"
   ]
  },
  {
   "cell_type": "code",
   "execution_count": null,
   "metadata": {},
   "outputs": [],
   "source": [
    "securityinfo_db1.columns"
   ]
  },
  {
   "cell_type": "code",
   "execution_count": null,
   "metadata": {},
   "outputs": [],
   "source": [
    "securityinfo_output = compare_datasets(securityinfo_dbd, securityinfo_db1, ['Symbol'], ['SecurityDesc', 'SecurityType', 'CurrentPrice', 'Portfolio',\n",
    "       'Component', 'SubComponent', 'HoldingsCurrentValue'], \n",
    "                     ['SecurityDesc', 'SecurityType', 'Portfolio',\n",
    "       'Component', 'SubComponent'], ['CurrentPrice', 'HoldingsCurrentValue'], ['SecurityDesc', 'SecurityType', 'Portfolio',\n",
    "       'Component', 'SubComponent'], ['CurrentPrice', 'HoldingsCurrentValue'],\n",
    "                     \"_dbd\", \"_db1\", False, \"left\")"
   ]
  },
  {
   "cell_type": "code",
   "execution_count": null,
   "metadata": {},
   "outputs": [],
   "source": [
    "save_xls(securityinfo_output, xls_path = \"securityinfo.xlsx\")"
   ]
  },
  {
   "cell_type": "markdown",
   "metadata": {},
   "source": [
    "SimulationAssumptions"
   ]
  },
  {
   "cell_type": "code",
   "execution_count": null,
   "metadata": {},
   "outputs": [],
   "source": [
    "simuassump_dbd = pd.read_csv(\"db-dev/simulationsassumptions.csv\")\n",
    "simuassump_db1 = pd.read_csv(\"db1/simulationsassumptions.csv\")"
   ]
  },
  {
   "cell_type": "code",
   "execution_count": null,
   "metadata": {},
   "outputs": [],
   "source": [
    "simuassump_dbd"
   ]
  },
  {
   "cell_type": "code",
   "execution_count": null,
   "metadata": {},
   "outputs": [],
   "source": [
    "simuassump_dbd.columns"
   ]
  },
  {
   "cell_type": "code",
   "execution_count": null,
   "metadata": {},
   "outputs": [],
   "source": [
    "simuassump_db1.columns"
   ]
  },
  {
   "cell_type": "code",
   "execution_count": null,
   "metadata": {},
   "outputs": [],
   "source": [
    "simuassump_output = compare_datasets(simuassump_dbd, simuassump_db1, [\"SalesforceId\"], \n",
    "       ['ClientId', 'Simulation_Scenario', 'Simulation_Type','FromYear', 'ToYear', 'Amount', 'CashFlow_Type', 'CashFlow_Description', 'SortOrder', 'Inflate', 'ToAgeVFAGradYearEFA'], \n",
    "       ['ClientId', 'Simulation_Scenario', 'Simulation_Type','CashFlow_Type', 'CashFlow_Description'], \n",
    "       ['FromYear', 'ToYear', 'Amount','SortOrder', 'Inflate', 'ToAgeVFAGradYearEFA'], \n",
    "       ['ClientId', 'Simulation_Scenario', 'Simulation_Type','CashFlow_Type', 'CashFlow_Description'], \n",
    "       ['FromYear', 'ToYear', 'Amount','SortOrder', 'Inflate', 'ToAgeVFAGradYearEFA'],\n",
    "                     \"_dbd\", \"_db1\", False, \"left\")"
   ]
  },
  {
   "cell_type": "code",
   "execution_count": null,
   "metadata": {},
   "outputs": [],
   "source": [
    "save_xls(simuassump_output, xls_path = \"simuassump.xlsx\")"
   ]
  },
  {
   "cell_type": "markdown",
   "metadata": {},
   "source": [
    "Users"
   ]
  },
  {
   "cell_type": "code",
   "execution_count": null,
   "metadata": {},
   "outputs": [],
   "source": [
    "users_dbd = pd.read_csv(\"db-dev/users.csv\")\n",
    "users_db1 = pd.read_csv(\"db1/users.csv\")"
   ]
  },
  {
   "cell_type": "code",
   "execution_count": null,
   "metadata": {},
   "outputs": [],
   "source": [
    "users_dbd"
   ]
  },
  {
   "cell_type": "code",
   "execution_count": null,
   "metadata": {},
   "outputs": [],
   "source": [
    "users_dbd.columns"
   ]
  },
  {
   "cell_type": "code",
   "execution_count": null,
   "metadata": {},
   "outputs": [],
   "source": [
    "users_db1.columns"
   ]
  },
  {
   "cell_type": "code",
   "execution_count": null,
   "metadata": {},
   "outputs": [],
   "source": [
    "users_output = compare_datasets(users_dbd, users_db1, [\"SalesforceId\"], ['Name', 'Email'], \n",
    "                     ['Name', 'Email'], [], ['Name', 'Email'], [],\n",
    "                     \"_dbd\", \"_db1\", False, \"left\")"
   ]
  },
  {
   "cell_type": "code",
   "execution_count": null,
   "metadata": {},
   "outputs": [],
   "source": [
    "save_xls(users_output, xls_path = \"users.xlsx\")"
   ]
  }
 ],
 "metadata": {
  "kernelspec": {
   "display_name": "base",
   "language": "python",
   "name": "python3"
  },
  "language_info": {
   "codemirror_mode": {
    "name": "ipython",
    "version": 3
   },
   "file_extension": ".py",
   "mimetype": "text/x-python",
   "name": "python",
   "nbconvert_exporter": "python",
   "pygments_lexer": "ipython3",
   "version": "3.11.5"
  }
 },
 "nbformat": 4,
 "nbformat_minor": 2
}
