{
 "cells": [
  {
   "cell_type": "code",
   "execution_count": null,
   "metadata": {},
   "outputs": [],
   "source": [
    "import pandas as pd"
   ]
  },
  {
   "cell_type": "code",
   "execution_count": null,
   "metadata": {},
   "outputs": [],
   "source": [
    "# Check Differences in Two Lists\n",
    "def list_membership(list1, list2):\n",
    "    print(\"In List 1 but not List 2:\")\n",
    "    list1_notlist2 = list(set(list1) - set(list2))\n",
    "    print(\"\")\n",
    "    print(\"In List 2 not in List 1\")\n",
    "    list2_notlist1 = list(set(list2) - set(list1))\n",
    "    print(\"\")\n",
    "    output_list = [list1_notlist2, list2_notlist1]\n",
    "    return output_list"
   ]
  },
  {
   "cell_type": "code",
   "execution_count": null,
   "metadata": {},
   "outputs": [],
   "source": [
    "# Compare Two Datasets for the Specified Columns\n",
    "# Requires ID columns and columns to be compared to have the same names\n",
    "def compare_datasets(df1, df2, list_id_cols, list_cols_compare, \n",
    "                     df1_str_cols, df1_num_cols, df2_str_cols, df2_num_cols,\n",
    "                     df1_suffix, df2_suffix, full_output, left_right_all):\n",
    "    \n",
    "    assert isinstance(full_output, bool), \"Full_Output must be a boolean (True or False).\"\n",
    "    assert left_right_all in {\"left\", \"right\", \"all\"}, f\"Invalid Left_Right_All value. Expected 'left', 'right', or 'all'.\"\n",
    "    \n",
    "    output_list_comparisons = []\n",
    "\n",
    "    # First Coerce Types to Reduce Ineffective Joins\n",
    "    # Strings\n",
    "    for str_col in df1_str_cols:\n",
    "        df1[str_col] = df1[str_col].astype(str)\n",
    "\n",
    "    for str_col in df2_str_cols:\n",
    "        df2[str_col] = df2[str_col].astype(str)\n",
    "    # Numerics\n",
    "    df1[df1_num_cols] = df1[df1_num_cols].apply(pd.to_numeric, errors='coerce', axis=1)\n",
    "    df2[df2_num_cols] = df2[df2_num_cols].apply(pd.to_numeric, errors='coerce', axis=1)\n",
    "\n",
    "    for col_compare in list_cols_compare:\n",
    "        print(\"Comparing \" + col_compare + \" now.\")\n",
    "        id_col_and_col_compare_list = []\n",
    "        for id in list_id_cols:\n",
    "            id_col_and_col_compare_list.append(id)\n",
    "        id_col_and_col_compare_list.append(col_compare)\n",
    "        \n",
    "        df1_short = df1[id_col_and_col_compare_list]\n",
    "        df2_short = df2[id_col_and_col_compare_list]\n",
    "\n",
    "        df_join_1_2 = df1_short.merge(df2_short, how = \"left\", on = list_id_cols, suffixes=(df1_suffix, df2_suffix))\n",
    "        df_join_2_1 = df2_short.merge(df1_short, how = \"left\", on = list_id_cols, suffixes=(df2_suffix, df1_suffix))\n",
    "\n",
    "        #df_join_1_2[\"match\"] = df_join_1_2[(col_compare + df1_suffix)] == df_join_1_2[(col_compare + df2_suffix)]\n",
    "        df_join_1_2[\"match\"] = df_join_1_2[(col_compare + df1_suffix)].fillna('-').eq(df_join_1_2[(col_compare + df2_suffix)].fillna('-'))\n",
    "        #df_join_2_1[\"match\"] = df_join_2_1[(col_compare + df2_suffix)] == df_join_2_1[(col_compare + df1_suffix)]\n",
    "        df_join_2_1[\"match\"] = df_join_2_1[(col_compare + df2_suffix)].fillna('-').eq(df_join_2_1[(col_compare + df1_suffix)].fillna('-'))\n",
    "\n",
    "        df_join_1_2_mismatch = df_join_1_2[df_join_1_2[\"match\"] == 0]\n",
    "        df_join_2_1_mismatch = df_join_2_1[df_join_2_1[\"match\"] == 0]\n",
    "\n",
    "        if left_right_all == 'all':\n",
    "            if full_output == True:\n",
    "                output_list_comparisons.append(df_join_1_2)\n",
    "                output_list_comparisons.append(df_join_2_1)\n",
    "            output_list_comparisons.append(df_join_1_2_mismatch)\n",
    "            output_list_comparisons.append(df_join_2_1_mismatch)\n",
    "        elif left_right_all == 'left':\n",
    "            if full_output == True:\n",
    "                output_list_comparisons.append(df_join_1_2)\n",
    "            output_list_comparisons.append(df_join_1_2_mismatch)\n",
    "        elif left_right_all == 'right':\n",
    "            if full_output == True:\n",
    "                output_list_comparisons.append(df_join_2_1)\n",
    "            output_list_comparisons.append(df_join_2_1_mismatch)\n",
    "\n",
    "        print(\"\")\n",
    "\n",
    "    print(\"Function Completed.\")\n",
    "    return output_list_comparisons"
   ]
  },
  {
   "cell_type": "code",
   "execution_count": null,
   "metadata": {},
   "outputs": [],
   "source": [
    "def save_xls(list_dfs, xls_path):\n",
    "    \"\"\"\n",
    "    Save a list of DataFrames to an Excel file, with each DataFrame as a separate sheet.\n",
    "    \"\"\"\n",
    "    with pd.ExcelWriter(xls_path) as writer:\n",
    "        for n, df in enumerate(list_dfs):\n",
    "            df.to_excel(writer, sheet_name=f'sheet{n}')"
   ]
  }
 ],
 "metadata": {
  "language_info": {
   "name": "python"
  }
 },
 "nbformat": 4,
 "nbformat_minor": 2
}
